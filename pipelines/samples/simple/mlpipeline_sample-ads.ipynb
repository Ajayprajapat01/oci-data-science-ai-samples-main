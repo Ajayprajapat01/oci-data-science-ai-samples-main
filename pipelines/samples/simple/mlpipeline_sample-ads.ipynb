{
 "cells": [
  {
   "attachments": {},
   "cell_type": "markdown",
   "id": "22859d56",
   "metadata": {},
   "source": [
    "### OCI Data Science - ML Pipelines sample notebook with ADS\n",
    "\n",
    "This sample notebook demonstrates how to use ADS to create a pipeline with 3 steps:\n",
    " * the first step sets a paramter for the next step\n",
    " * the second step creates a data table with the number of rows defined in the first step. generated data is random. the data table is then saved to object storage and the name and location of the data is saved as a paramter for the next step.\n",
    " * the third step reads the location of the data and then the data table from the previous step.\n",
    " \n",
    " Note: the notebook creates the pipeline and runs it, however the code itself for the steps is located in the 3 zip files that should be attached to this notebook.\n",
    " \n",
    "<details>\n",
    "<summary><font size=\"2\">Check for Public Internet Access</font></summary>\n",
    "\n",
    "```python\n",
    "import requests\n",
    "response = requests.get(\"https://oracle.com\")\n",
    "assert response.status_code==200, \"Internet connection failed\"\n",
    "```\n",
    "</details>\n",
    "<details>\n",
    "<summary><font size=\"2\">Helpful Documentation </font></summary>\n",
    "<ul><li><a href=\"https://docs.cloud.oracle.com/en-us/iaas/data-science/using/data-science.htm\">Data Science Service Documentation</a></li>\n",
    "<li><a href=\"https://docs.cloud.oracle.com/iaas/tools/ads-sdk/latest/index.html\">ADS documentation</a></li>\n",
    "</ul>\n",
    "</details>\n",
    "<details>\n",
    "<summary><font size=\"2\">Typical Cell Imports and Settings for ADS</font></summary>\n",
    "\n",
    "```python\n",
    "%load_ext autoreload\n",
    "%autoreload 2\n",
    "%matplotlib inline\n",
    "\n",
    "import warnings\n",
    "warnings.filterwarnings('ignore')\n",
    "\n",
    "import logging\n",
    "logging.basicConfig(format='%(levelname)s:%(message)s', level=logging.ERROR)\n",
    "\n",
    "import ads\n",
    "from ads.dataset.factory import DatasetFactory\n",
    "from ads.automl.provider import OracleAutoMLProvider\n",
    "from ads.automl.driver import AutoML\n",
    "from ads.evaluations.evaluator import ADSEvaluator\n",
    "from ads.common.data import ADSData\n",
    "from ads.explanations.explainer import ADSExplainer\n",
    "from ads.explanations.mlx_global_explainer import MLXGlobalExplainer\n",
    "from ads.explanations.mlx_local_explainer import MLXLocalExplainer\n",
    "from ads.catalog.model import ModelCatalog\n",
    "from ads.common.model_artifact import ModelArtifact\n",
    "```\n",
    "</details>\n",
    "<details>\n",
    "<summary><font size=\"2\">Useful Environment Variables</font></summary>\n",
    "\n",
    "```python\n",
    "import os\n",
    "print(os.environ[\"NB_SESSION_COMPARTMENT_OCID\"])\n",
    "print(os.environ[\"PROJECT_OCID\"])\n",
    "print(os.environ[\"USER_OCID\"])\n",
    "print(os.environ[\"TENANCY_OCID\"])\n",
    "print(os.environ[\"NB_REGION\"])\n",
    "```\n",
    "</details>"
   ]
  },
  {
   "cell_type": "code",
   "execution_count": null,
   "id": "24cb2918",
   "metadata": {
    "vscode": {
     "languageId": "python"
    }
   },
   "outputs": [],
   "source": [
    "import oci\n",
    "import ads\n",
    "import os\n",
    "from os import environ\n",
    "from ads.catalog.project import ProjectCatalog"
   ]
  },
  {
   "cell_type": "code",
   "execution_count": null,
   "id": "b240d8d1",
   "metadata": {
    "vscode": {
     "languageId": "python"
    }
   },
   "outputs": [],
   "source": [
    "# make sure you are using ADS version 2.8 or above\n",
    "print(ads.__version__)"
   ]
  },
  {
   "cell_type": "code",
   "execution_count": null,
   "id": "9f75442d",
   "metadata": {
    "vscode": {
     "languageId": "python"
    }
   },
   "outputs": [],
   "source": [
    "if 'NB_SESSION_COMPARTMENT_OCID' in os.environ:\n",
    "    # using the notebook's compartment if running on OCI Data Science Notebook Session\n",
    "    compartment_id = os.environ['NB_SESSION_COMPARTMENT_OCID']\n",
    "else:\n",
    "    # set the compartment OCID if you are working locally\n",
    "    compartment_id = '<YOUR_COMPARTMENT_OCID>'"
   ]
  },
  {
   "cell_type": "code",
   "execution_count": null,
   "id": "c41af4ca",
   "metadata": {
    "vscode": {
     "languageId": "python"
    }
   },
   "outputs": [],
   "source": [
    "# this will work whether working on a local machine (using API key) or in OCI Notebook Session (using Resource Principal)\n",
    "if \"OCI_RESOURCE_PRINCIPAL_VERSION\" in os.environ:\n",
    "    # Use resource principal\n",
    "    print(\"using Resource Principal for auth\")\n",
    "    ads.set_auth(auth=\"resource_principal\")\n",
    "else:\n",
    "    # Use api_key with config file\n",
    "    print(\"using API key for auth\")\n",
    "    ads.set_auth(auth=\"api_key\")    "
   ]
  },
  {
   "cell_type": "code",
   "execution_count": null,
   "id": "338695ed",
   "metadata": {
    "vscode": {
     "languageId": "python"
    }
   },
   "outputs": [],
   "source": [
    "# make sure there is access to the project and compartment\n",
    "pc = ProjectCatalog(compartment_id=compartment_id)\n",
    "pc.list_projects()"
   ]
  },
  {
   "cell_type": "code",
   "execution_count": null,
   "id": "26414d19",
   "metadata": {
    "vscode": {
     "languageId": "python"
    }
   },
   "outputs": [],
   "source": [
    "project_id = \"<YOUR_PROJECT_OCID>\""
   ]
  },
  {
   "cell_type": "code",
   "execution_count": null,
   "id": "f12da08a",
   "metadata": {
    "vscode": {
     "languageId": "python"
    }
   },
   "outputs": [],
   "source": [
    "log_group_id = \"<YOUR_LOGGROUP_OCID>\""
   ]
  },
  {
   "cell_type": "code",
   "execution_count": null,
   "id": "f6c6a407",
   "metadata": {
    "vscode": {
     "languageId": "python"
    }
   },
   "outputs": [],
   "source": [
    "from random import randrange\n",
    "pipeline_name = f\"ads_pipeline_sample_{randrange(1000,9999)}\""
   ]
  },
  {
   "cell_type": "markdown",
   "id": "50d79ad8",
   "metadata": {},
   "source": [
    "## create a new pipeline with ADS"
   ]
  },
  {
   "cell_type": "code",
   "execution_count": null,
   "id": "3407f276",
   "metadata": {
    "vscode": {
     "languageId": "python"
    }
   },
   "outputs": [],
   "source": [
    "from ads.pipeline.ads_pipeline_step import PipelineStep\n",
    "from ads.pipeline.ads_pipeline import Pipeline\n",
    "from ads.pipeline import CustomScriptStep\n",
    "from ads.jobs import ScriptRuntime\n",
    "\n",
    "infrastructure = (\n",
    "    CustomScriptStep()\n",
    "    .with_block_storage_size(50)\n",
    "    .with_shape_name(\"VM.Standard2.4\")\n",
    ")\n",
    "\n",
    "step_one = (\n",
    "    PipelineStep(\"step1\")\n",
    "    .with_description(\"Pass data by value\")\n",
    "    .with_infrastructure(infrastructure)\n",
    "    .with_runtime(\n",
    "        ScriptRuntime()\n",
    "        .with_source(\"mlpipeline_step1.zip\")\n",
    "        .with_service_conda(\"onnx110_p37_cpu_v1\")\n",
    "        .with_environment_variable(\n",
    "            PIPELINE_STEP_RUN_ENTRYPOINT=\"mlpipeline_step1.py\"\n",
    "        )\n",
    "    )\n",
    ")\n",
    "\n",
    "step_two = (\n",
    "    PipelineStep(\"step2\")\n",
    "    .with_description(\"pass data by reference\")\n",
    "    .with_infrastructure(infrastructure)\n",
    "    .with_runtime(\n",
    "        ScriptRuntime()\n",
    "        .with_source(\"mlpipeline_step2.zip\")\n",
    "        .with_service_conda(\"onnx110_p37_cpu_v1\")\n",
    "        .with_environment_variable(\n",
    "            PIPELINE_STEP_RUN_ENTRYPOINT=\"mlpipeline_step2.py\"\n",
    "        )\n",
    "    )\n",
    ")\n",
    "\n",
    "step_three = (\n",
    "    PipelineStep(\"step3\")\n",
    "    .with_description(\"read data by reference\")\n",
    "    .with_infrastructure(infrastructure)\n",
    "    .with_runtime(\n",
    "        ScriptRuntime()\n",
    "        .with_source(\"mlpipeline_step3.zip\")\n",
    "        .with_service_conda(\"onnx110_p37_cpu_v1\")\n",
    "        .with_environment_variable(\n",
    "            PIPELINE_STEP_RUN_ENTRYPOINT=\"mlpipeline_step3.py\"\n",
    "        )\n",
    "    )\n",
    ")"
   ]
  },
  {
   "cell_type": "code",
   "execution_count": null,
   "id": "983e3030",
   "metadata": {
    "vscode": {
     "languageId": "python"
    }
   },
   "outputs": [],
   "source": [
    "pipeline = (\n",
    "    Pipeline(pipeline_name)\n",
    "    .with_compartment_id(compartment_id)\n",
    "    .with_project_id(project_id)\n",
    "    .with_log_group_id(log_group_id)  # if you define the LogGroupID but not the LogID, logs will be created automatically in the specified LogGroup\n",
    "    .with_step_details([step_one, step_two, step_three])\n",
    "    .with_dag([\"step1 >> step2 >> step3\"])  # this defines the dependencies between the steps, creating the DAG.                                                     \n",
    ")                                                   # Use () to define multiple step dependencies, like (step1, step2) >> step3 to run step1 and step2 in parallel and step3 when they both finish"
   ]
  },
  {
   "cell_type": "code",
   "execution_count": null,
   "id": "a2f07fc1",
   "metadata": {
    "vscode": {
     "languageId": "python"
    }
   },
   "outputs": [],
   "source": [
    "# view the pipeline graph visually, make sure you have the step dependencies defined correctly before creating the pipeline\n",
    "pipeline.show()"
   ]
  },
  {
   "cell_type": "code",
   "execution_count": null,
   "id": "0244142c",
   "metadata": {
    "vscode": {
     "languageId": "python"
    }
   },
   "outputs": [],
   "source": [
    "#create the pipeline in the OCI Data Science service. ADS will take care of uploading all the artifacts \n",
    "pipeline.create()"
   ]
  },
  {
   "cell_type": "code",
   "execution_count": null,
   "id": "226e4d5e",
   "metadata": {
    "vscode": {
     "languageId": "python"
    }
   },
   "outputs": [],
   "source": [
    "# you can export the pipeline to a YAML file and later import it back\n",
    "pipeline.to_yaml(\"my_pipeline.yaml\")"
   ]
  },
  {
   "cell_type": "markdown",
   "id": "7196e4fd",
   "metadata": {},
   "source": [
    "## Run the pipeline"
   ]
  },
  {
   "cell_type": "code",
   "execution_count": null,
   "id": "d4d7c26f",
   "metadata": {
    "vscode": {
     "languageId": "python"
    }
   },
   "outputs": [],
   "source": [
    "pipeline_run_name = f\"pipeline-run-{randrange(1000,9999)}\""
   ]
  },
  {
   "cell_type": "code",
   "execution_count": null,
   "id": "f8bf4d30",
   "metadata": {
    "vscode": {
     "languageId": "python"
    }
   },
   "outputs": [],
   "source": [
    "# uncomment the next line and set to the OCI Object Storage location to use for passing data. Make sure you have proper permissions.\n",
    "#data_location = \"<YOUR_OBJECT_STORAGE_LOCATION>\"  # use: 'oci://<bucket>@<workspace>/'"
   ]
  },
  {
   "cell_type": "code",
   "execution_count": null,
   "id": "6471ba66",
   "metadata": {
    "vscode": {
     "languageId": "python"
    }
   },
   "outputs": [],
   "source": [
    "# create the pipeline run\n",
    "pipeline_run = pipeline.run(\n",
    "    configuration_override_details = {\n",
    "    \"type\": \"DEFAULT\",\n",
    "    \"environment_variables\": {\"DATA_LOCATION\": data_location}\n",
    "    }\n",
    ")"
   ]
  },
  {
   "cell_type": "code",
   "execution_count": null,
   "id": "5e0990c4",
   "metadata": {
    "vscode": {
     "languageId": "python"
    }
   },
   "outputs": [],
   "source": [
    "print(pipeline_run.status)"
   ]
  },
  {
   "cell_type": "code",
   "execution_count": null,
   "id": "a39dacaf",
   "metadata": {
    "vscode": {
     "languageId": "python"
    }
   },
   "outputs": [],
   "source": [
    "# View the pipeline run graph with status of each step\n",
    "pipeline_run.show()\n",
    "\n",
    "# you can keep watching the status updates using the following command\n",
    "#pipeline_run.show(wait=True)"
   ]
  },
  {
   "cell_type": "markdown",
   "id": "f633718b",
   "metadata": {},
   "source": [
    "## view logs"
   ]
  },
  {
   "cell_type": "code",
   "execution_count": null,
   "id": "76be61e9",
   "metadata": {
    "vscode": {
     "languageId": "python"
    }
   },
   "outputs": [],
   "source": [
    "pipeline_run.watch() # by default it watches custom logs for all steps\n",
    "#pipeline_run.watch(\"step1\",\"step2\") # watches custom logs for \"step1\" and \"step2\""
   ]
  },
  {
   "cell_type": "markdown",
   "id": "faef082f",
   "metadata": {},
   "source": [
    "## View the pipeline run form the OCI console UI"
   ]
  },
  {
   "cell_type": "code",
   "execution_count": null,
   "id": "85679c60",
   "metadata": {
    "vscode": {
     "languageId": "python"
    }
   },
   "outputs": [],
   "source": [
    "print(\"Ctrl-Click the hyperlink to open the pipeline run page in the OCI console UI\")\n",
    "print(\"https://cloud.oracle.com/data-science/pipeline-runs/{}\".format(pipeline_run.id))"
   ]
  },
  {
   "cell_type": "markdown",
   "id": "561bb3c8",
   "metadata": {},
   "source": [
    "## Delete the pipeline"
   ]
  },
  {
   "cell_type": "code",
   "execution_count": null,
   "id": "26a4c7a5",
   "metadata": {
    "vscode": {
     "languageId": "python"
    }
   },
   "outputs": [],
   "source": [
    "#delete the pipeline when done\n",
    "pipeline.delete(delete_related_pipeline_runs=True, delete_related_job_runs=True)  # delete also all the pipeline runs and job runs in the pipeline, otherwise those have to be deleted before deleting the pipeline"
   ]
  }
 ],
 "metadata": {
  "kernelspec": {
   "display_name": "Python 3 (ipykernel)",
   "language": "python",
   "name": "python3"
  }
 },
 "nbformat": 4,
 "nbformat_minor": 5
}
