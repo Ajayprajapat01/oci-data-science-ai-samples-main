{
 "cells": [
  {
   "cell_type": "markdown",
   "id": "ff20a4cc",
   "metadata": {},
   "source": [
    "Oracle Data Science service sample notebook.\n",
    "\n",
    "Copyright (c) 2022 Oracle, Inc. All rights reserved. Licensed under the [Universal Permissive License v 1.0](https://oss.oracle.com/licenses/upl).\n",
    "\n",
    "***\n",
    "\n",
    "# <font color=\"red\">Feature Types for Data Exploration and Validation</font>\n",
    "<p style=\"margin-left:10%; margin-right:10%;\">by the <font color=\"teal\">Oracle Cloud Infrastructure Data Science Service.</font></p>\n",
    "\n",
    "***\n",
    "\n",
    "# Overview:\n",
    "\n",
    "There is a distinction between the data type of a feature and the nature of data that it represents. The data type represents the form of the data that the computer understands. ADS uses the term \"feature type\" to refer to the nature of the data. For example, a medical record id could be represented as an integer, its data type, but the feature type would be \"medical record id\". The feature type represents the data the way the data scientist understands it. ADS provides the feature type module on top of your Pandas dataframes and series to manage and use the typing information to better understand your data.\n",
    "\n",
    "The feature type framework comes with some common feature types. However, the power of using feature types is that you can easily create your own and apply them to your specific data. You don't need to try to represent your data in a synthetic way that does not match the nature of your data. This framework allows you to create methods that validate whether the data fits the specifications of your organization. For example, for a medical record type, you could create methods to validate that the data is properly formatted. You can also have the system generate warnings to sure the data is valid as a whole or create graphs for summary plots.\n",
    "\n",
    "The framework allows you to create and assign multiple feature types. For example, a medical record id could also have a feature type id and the integer feature type.\n",
    "\n",
    "---\n",
    "\n",
    "## Contents:\n",
    "\n",
    "- <a href='#intro'>Introduction</a>\n",
    "- <a href=\"#feature_type\">Feature Type</a>\n",
    "    - <a href=\"#set_feature_type\">Setting Feature Types</a>\n",
    "        - <a href=\"#set_feature_type_series\">Series</a>\n",
    "        - <a href=\"#set_feature_type_df\">Dataframe</a>\n",
    "    - <a href=\"#default_type\">Default Feature Type</a>\n",
    "    - <a href=\"#tag\">Tag</a>\n",
    "- <a href=\"#feature_select\">Feature Type Selection</a>\n",
    "- <a href='#feature_count'>Feature Count</a>\n",
    "- <a href='#feature_stat'>Feature Statistics</a>\n",
    "- <a href=\"#correlation\">Correlation</a>\n",
    "    - <a href=\"#correlation_pearson\">Pearson Correlation Coefficient</a>\n",
    "    - <a href=\"#correlation_correlation_ratio\">Correlation Ratio</a>\n",
    "    - <a href=\"#correlation_cramers_v\">Cramér's V</a>\n",
    "- <a href='#plots'>Feature Plot</a>\n",
    "- <a href=\"#warnings\">Feature Type Warnings</a>\n",
    "    - <a href=\"#validating_data\">Validating Data</a>\n",
    "    - <a href=\"#examining\">Examining Feature Type Warnings</a>\n",
    "    - <a href=\"#register_unregister\">Register and Unregistering a Feature Type Warning</a>\n",
    "        - <a href=\"#register\">Register a Feature Type Warning</a>\n",
    "        - <a href=\"#unregister\">Unregister a Feature Type Warning</a>\n",
    "    - <a href=\"#dataframe\">Working with a DataFrame</a>\n",
    "- <a href='#overview'>Feature Type Validators</a>\n",
    "    - <a href=\"#list_validators\">List Feature Type Validator</a>\n",
    "        - <a href=\"#list_validators_ftm\">List Feature Type Validators Using the Feature Type Manager</a>\n",
    "        - <a href=\"#list_validators_fto\">List Feature Type Validators on a Feature Type Object</a>\n",
    "        - <a href=\"#list_validators_series\">List Feature Type Validators on a Series</a>\n",
    "        - <a href=\"#list_validators_df\">List Feature Type Validators on a Dataframe</a>\n",
    "    - <a href=\"#using_handlers\">Using Feature Type Validators</a>\n",
    "        - <a href=\"#using_handlers_series\">Using Feature Type Validators on a Series</a>\n",
    "        - <a href=\"#using_handlers_fto\">Using Feature Type Validators on a Feature Type Object</a>\n",
    "    - <a href=\"#default_handler\">Default Feature Type Validator</a>\n",
    "        - <a href=\"#create_handler\">Create a Default Feature Type Validator</a> \n",
    "        - <a href='#validator_register'>Registering a Default Feature Type Validator</a>\n",
    "    - <a href='#condition_handler'>Condition Feature Type Validator</a>\n",
    "        - <a href='#condition_handler_closed'>Closed Value Condition Feature Type Validator</a>   \n",
    "        - <a href='#condition_handler_open'>Open Value Condition Feature Type Validator</a>\n",
    "        - <a href='#condition_handler_disambiguation'>Disambiguation</a>\n",
    "    - <a href='#unregistering'>Unregistering a Feature Type Validator</a>  \n",
    "- <a href=\"#feature_type_create\">Create a Custom Feature Type</a>\n",
    "    - <a href=\"#feature_type_register\">Register a Custom Feature Type</a>\n",
    "    - <a href=\"#feature_type_attributes\">Attributes</a>\n",
    "    - <a href=\"#feature_type_stats\">Feature Type Statistics</a>\n",
    "    - <a href=\"#feature_type_plot\">Feature Type Plot</a>\n",
    "    - <a href=\"#feature_type_method\">Custom Method in a Feature Type Class</a>\n",
    "    - <a href='#unregister_custom_type'>Unregistering a Custom Feature Type</a>\n",
    "- <a href=\"#reference\">References</a>\n",
    "\n",
    "---\n",
    "\n",
    "<font color=\"gray\">\n",
    "Datasets are provided as a convenience.  Datasets are considered third-party content and are not considered materials \n",
    "under your agreement with Oracle.\n",
    "\n",
    "You can access the `orcl_attrition` dataset license [here](https://oss.oracle.com/licenses/upl). \n",
    "</font>"
   ]
  },
  {
   "cell_type": "code",
   "execution_count": null,
   "id": "7ae29dac",
   "metadata": {},
   "outputs": [],
   "source": [
    "import ads\n",
    "import matplotlib.pyplot as plt\n",
    "import numpy as np\n",
    "import os\n",
    "import pandas as pd\n",
    "import re\n",
    "import seaborn as sns\n",
    "\n",
    "from ads.common.card_identifier import card_identify\n",
    "from ads.dataset.dataset_browser import DatasetBrowser\n",
    "from ads.feature_engineering import feature_type_manager, FeatureType, Tag\n",
    "from os import path"
   ]
  },
  {
   "cell_type": "markdown",
   "id": "40e82449",
   "metadata": {},
   "source": [
    "<a id=\"intro\"></a>\n",
    "# Introduction\n",
    "\n",
    "The feature type system allows data scientists to separate the concept of how data is represented physically from what the data actually measures. That is, the data can have feature types that classify the data based on what it represents and not how the data is stored in memory. Each set of data can have multiple feature types through a system of multiple inheritances. As a concrete example, an organization that sells cars might have a set of data that represents the purchase price of a car, that is the wholesale price. You  could have a feature set of `wholesale_price`, `car_price`, `USD`, and `continuous`. \n",
    "\n",
    "All default feature types have methods for creating summary statistics and a plot to represent the data. This allows you to have summary information for each feature of your dataset while only using a single command. However, the default feature types may not provide the exact details needed in your specific use case. Therefore, feature types have been designed with expandability in mind. When creating a new feature type, the summary statistics and plots that are specific to your feature type can be customized.\n",
    "\n",
    "The feature type system works at the Pandas dataframe and series levels. This allows you to create summary information across all of your data and at the same time dig into the specifics of one feature.\n",
    "\n",
    "The `.feature_count()` method returns a dataframe that provides a summary of the number of features in a dataframe. Each row represents a feature type. It provides a count of the number of times that feature type is used in the dataframe. It also provides a count of the number of times that the feature type was the primary feature type. The primary feature type is the feature type that has no children feature types.\n",
    "\n",
    "The `.feature_stat()` method returns a dataframe where each row represents a summary statistic and the numerical value for that statistic.\n",
    "\n",
    "The `.feature_plot()` method returns a Seaborn plot object that summaries the feature. It can be modified after it is returned so that you can customize it to fit your needs.\n",
    "\n",
    "There are also a number of correlation methods such as `.correlation_ratio()`, `.pearson()`, and `.cramersv()` that provide information about the correlation between different features in the form of a dataframe. Each row represents a single correlation metic. This information can also be represented in a plot with the `.correlation_ratio_plot()`, `.pearson_plot()`, and `.cramersv_plot()` methods.\n",
    "\n",
    "Feature type warnings are used for rapid validation of the data. For example, the `wholesale_price` might have a method that ensures that the value is a positive number because you can't purchase a car with negative money. The `car_price` feature type may have a check to ensure that it is within a reasonable price range. `USD` can check the value to make sure that it represents a valid US dollar amount. It can't have values below one cent. The `continuous` feature type is the default feature type and it represents the way the data is stored internally.\n",
    "\n",
    "The feature type validators are a set of `is_*` methods, where `*` is generally the name of the feature type. For example, the method `.is_wholesale_price()` can create a boolean Pandas series that indicates what values meet the validation criteria. It  allows you to quickly identify which values need to be filtered or require future examination into problems in the data pipeline. The feature type validators can be as complex as they need to be. For example, they might take a client ID and call an API to validate that each client ID is active.\n",
    "\n",
    "The feature type manager provides the tools to manage the handlers that are used to drive this system. The system works by creating functions that are then registered as feature type validators or warnings. The role of `feature_type_manager` is to provide the interface to manage these handlers.\n",
    "\n",
    "A feature type has the following attributes that can be overridden:\n",
    "\n",
    "- `description`: A description of the feature type.\n",
    "- `name`: The name of the feature type.\n",
    "\n",
    "If you wish to create custom summary statistics for a feature type, then override the `.feature_stat()` method. To create a custom summary plot, override the `.feature_plot()` method.\n",
    "\n",
    "<a id=\"feature_type\"></a>\n",
    "# Feature Type\n",
    "\n",
    "Pandas dtypes are physical data types that indicate how data are stored. You can call `.dtype` on your Pandas dataframe or series to inspect the physical types. Feature types are the logical types that define how the data should be interpreted by the end user. Feature types categorize the features from the machine learning perspective. Different feature types could be the same physical type. For example, both categorical and ordinal can be an integer dtype. However, the difference between `categorical` and `ordinal` feature types is that `ordinal` features have an ordering while `categorical` features don't. \n",
    "\n",
    "ADS allows a set of data to have multiple feature types through a system of inheritance. For example, a hospital may have a medical record number for each patient. That data might have the feature types `patient_id`, `id`, and `integer`. The `patient_id` is the child feature type with `id` being its parent. The `integer` is the parent of the `id` feature type. It is also the last feature type in the inheritance chain and is called the <a href=\"default_type\">default feature type</a>.\n",
    "\n",
    "In addition to the regular feature types, there are two special versions. The <a href=\"default_type\">default type</a> is based on the Pandas dtype and cannot be changed without changing the Pandas dtype. There is no need to set it because it is always the last feature type in the inheritance chain. The <a href=\"#tags\">tag</a> feature type does not support <a href=\"#warnings\">feature type warning</a> nor <a href=\"#handlers\">feature type validators</a>. It is designed to allow you to tag data with extra information.\n",
    "\n",
    "Calling `feature_type_manager.feature_type_registered()`, gives you an overview of all the registered feature types. ADS comes with various common feature types, but the idea is that you create feature types that explicitly define your data.\n",
    "\n",
    "`feature_type_manager.feature_type_registered()` returns a dataframe with these columns:\n",
    "- `Class`: registered feature type class.\n",
    "- `Name`: feature type class name.\n",
    "- `Description`: Description of each feature type class."
   ]
  },
  {
   "cell_type": "code",
   "execution_count": null,
   "id": "4419caa7",
   "metadata": {},
   "outputs": [],
   "source": [
    "feature_type_manager.feature_type_registered()"
   ]
  },
  {
   "cell_type": "markdown",
   "id": "1977bf24",
   "metadata": {},
   "source": [
    "<a id=\"set_feature_type\"></a>\n",
    "## Setting Feature Types\n",
    "    \n",
    "The `.feature_type` property is used to store the feature types that are to be associated with a dataset. It accepts an ordered list of the feature types that are to be associated with the dataset. The next cell creates a series of credit card numbers. It then uses the `.feature_type` with a list of strings of the class names of the feature types. \n",
    "\n",
    "A call to `.feature_type_description` returns a dataframe that is ordered by inheritance. It contains the following columns:\n",
    "\n",
    "* `Feature Type`: The class that defines the feature type.\n",
    "* `Description`: A description of the feature type.\n",
    "\n",
    "\n",
    "<a id=\"set_feature_type_series\"></a>\n",
    "### Series\n",
    "\n",
    "To assign feature types to a Pandas series us the `.ads.feature_type` property on the series.\n"
   ]
  },
  {
   "cell_type": "code",
   "execution_count": null,
   "id": "41df9cf3",
   "metadata": {},
   "outputs": [],
   "source": [
    "series = pd.Series([\"4532640527811543\", \"4556929308150929\", \"4539944650919740\", \"4485348152450846\"], name='Credit Card')\n",
    "series.ads.feature_type = ['credit_card', 'string']\n",
    "series.ads.feature_type_description"
   ]
  },
  {
   "cell_type": "markdown",
   "id": "acd80f8e",
   "metadata": {},
   "source": [
    "The `.feature_type` property doesn't have to take the class name because it can accept the class itself. For example, the feature type object that is associated with the `credit_card` class name can be used. This gives you flexibility for how you want to define the feature types.\n",
    "\n",
    "The feature type manager can be used to get a `FeatureType` object that is based on the `credit_card` feature type. You do this with the `.feature_type_object()` method.\n",
    "\n",
    "You can repeat the preceding example by replacing `credit_card` with `CreditCard` and obtain the same results."
   ]
  },
  {
   "cell_type": "code",
   "execution_count": null,
   "id": "482ab52d",
   "metadata": {},
   "outputs": [],
   "source": [
    "CreditCard = feature_type_manager.feature_type_object('credit_card')\n",
    "series.ads.feature_type = [CreditCard, 'string']\n",
    "series.ads.feature_type"
   ]
  },
  {
   "cell_type": "markdown",
   "id": "130a13d5",
   "metadata": {},
   "source": [
    "The `.feature_type_object()` method, of the `feature_type_manager` object, takes a class name and return as object based on `FeatureType`. This object represents the feature type. For example, 'string' is the class name of the feature type `String`. The next cell checks if the class is a subclass of `FeatureType`."
   ]
  },
  {
   "cell_type": "code",
   "execution_count": null,
   "id": "61a3d156",
   "metadata": {},
   "outputs": [],
   "source": [
    "String = feature_type_manager.feature_type_object('string')\n",
    "issubclass(String, FeatureType)"
   ]
  },
  {
   "cell_type": "markdown",
   "id": "f2e07ad4",
   "metadata": {},
   "source": [
    "Now use the `String` and the `CreditCard` class to set the feature types:"
   ]
  },
  {
   "cell_type": "code",
   "execution_count": null,
   "id": "067ba06c",
   "metadata": {},
   "outputs": [],
   "source": [
    "series.ads.feature_type = [CreditCard, String]\n",
    "series.ads.feature_type"
   ]
  },
  {
   "cell_type": "markdown",
   "id": "baff33c7",
   "metadata": {},
   "source": [
    "<a id=\"set_feature_type_df\"></a>\n",
    "### Dataframe\n",
    "\n",
    "Like a Pandas series, `.feature_type` can be used on a dataframe to set the feature types for the columns in the dataframe. The property accepts a dictionary where the key in the dictionary is the column name and the value is a list of feature types associated with that column."
   ]
  },
  {
   "cell_type": "code",
   "execution_count": null,
   "id": "bbdc6062",
   "metadata": {},
   "outputs": [],
   "source": [
    "attrition_path = os.path.join('/opt', 'notebooks', 'ads-examples', 'oracle_data', 'orcl_attrition.csv')\n",
    "df = pd.read_csv(attrition_path, \n",
    "                 usecols=['Attrition', 'TravelForWork', 'JobFunction', 'EducationalLevel'])\n",
    "df.ads.feature_type = {'Attrition': ['boolean', 'category'],\n",
    "                       'TravelForWork': ['category'],\n",
    "                       'JobFunction': ['category'],\n",
    "                       'EducationalLevel': ['category']}\n",
    "df.ads.feature_type_description"
   ]
  },
  {
   "cell_type": "markdown",
   "id": "e142141a",
   "metadata": {},
   "source": [
    "<a id=\"default_type\"></a>\n",
    "## Default Feature Type\n",
    "\n",
    "There is a special feature type called the default feature type. It is based on the Pandas dtype. It doesn't have to be set by the user, but it can be.\n",
    "\n",
    "Feature types allow for multiple inheritances and the default feature type is an ancestor to all other feature types, with the exception of <a href=\"#tags\">tags</a>. Each series only has one default feature type. It can't be mutated or removed unless the underlying Pandas dtype has changed. For example, you have a Pandas series called `series` that has a dtype of `string` so its default feature type is `string`. If you change the type by calling `series = series.astype('category')`, then the default feature type is `categorical` instead of `string`.\n",
    "\n",
    "ADS automatically detects the dtype of each series and sets the default feature type. The default feature type can be one of the following:\n",
    "\n",
    "- `boolean`\n",
    "- `date_time`\n",
    "- `category`\n",
    "- `string`\n",
    "- `continuous`\n",
    "- `integer`\n",
    "- `object`.\n",
    "\n",
    "The next cell creates a Pandas series of credit card numbers and prints the default feature type:"
   ]
  },
  {
   "cell_type": "code",
   "execution_count": null,
   "id": "1a01792f",
   "metadata": {},
   "outputs": [],
   "source": [
    "series = pd.Series([\"4532640527811543\", \"4556929308150929\", \"4539944650919740\"], name='creditcard')\n",
    "series.ads.default_type"
   ]
  },
  {
   "cell_type": "markdown",
   "id": "aeb8e2b2",
   "metadata": {},
   "source": [
    "The `.feature_type` property allows you to list the feature types that are assigned to the data. In the next cell, `series` has the `credit_card` feature type added and the feature types are displayed. Notice that the `string` feature type is the last in the list and it wasn't included in the `.feature_type` property. This is because it is the default feature type and it's included automatically."
   ]
  },
  {
   "cell_type": "code",
   "execution_count": null,
   "id": "975780ee",
   "metadata": {},
   "outputs": [],
   "source": [
    "series.ads.feature_type = ['credit_card']\n",
    "series.ads.feature_type"
   ]
  },
  {
   "cell_type": "markdown",
   "id": "6c06c9a6",
   "metadata": {},
   "source": [
    "The default feature type can be included in the `.feature_type` property. If you do that, then the default feature type isn't added a second time."
   ]
  },
  {
   "cell_type": "code",
   "execution_count": null,
   "id": "b22ae561",
   "metadata": {},
   "outputs": [],
   "source": [
    "series.ads.feature_type = ['credit_card', 'string']\n",
    "series.ads.feature_type"
   ]
  },
  {
   "cell_type": "markdown",
   "id": "e7f8c787",
   "metadata": {},
   "source": [
    "<a id=\"tag\"></a>\n",
    "## Tag\n",
    "\n",
    "A non-tag feature type must have a Python class defined and registered with ADS. However, it is often convenient to tag a dataset with additional information without the need to create a feature type class. This is the role of the `Tag`, which allows you to create a feature type without having to explicitly define and register a class. The tradeoff is that you can't have <a href=\"#warnings\">feature type warnings</a> nor <a href=\"#handlers\">feature type validators</a>. Tags are semantic and provide more context about the actual meaning of a feature. This could directly affect the interpretation of the information. Tags are optional for any dataset.\n",
    "\n",
    "The process of creating your tag is the same as setting the feature types because it is a feature type. You use the `.feature_type` property to create tags. \n",
    "\n",
    "The next cell creates a set of credit card numbers and set the feature type to `credit_card` and tags the dataset as being inactive cards. Also the cards are from North American financial institutions. You can put any text ypu want in the `Tag()` because no underlying feature type class has to exist."
   ]
  },
  {
   "cell_type": "code",
   "execution_count": null,
   "id": "c633ad5b",
   "metadata": {},
   "outputs": [],
   "source": [
    "series = pd.Series([\"4532640527811543\", \"4556929308150929\", \"4539944650919740\", \"4485348152450846\"], name='Credit Card')\n",
    "series.ads.feature_type=['credit_card', Tag('Inactive Card'), Tag('North American')]\n",
    "series.ads.feature_type"
   ]
  },
  {
   "cell_type": "markdown",
   "id": "3cbd4932",
   "metadata": {},
   "source": [
    "Tags are always listed after the other feature types."
   ]
  },
  {
   "cell_type": "code",
   "execution_count": null,
   "id": "5cd806e3",
   "metadata": {},
   "outputs": [],
   "source": [
    "series.ads.feature_type = [Tag('Inactive Card'), 'credit_card', Tag('North American')]\n",
    "series.ads.feature_type"
   ]
  },
  {
   "cell_type": "markdown",
   "id": "210b97bf",
   "metadata": {},
   "source": [
    "A list of tags can be obtained using the `tags` attribute."
   ]
  },
  {
   "cell_type": "code",
   "execution_count": null,
   "id": "34713576",
   "metadata": {},
   "outputs": [],
   "source": [
    "series.ads.tags"
   ]
  },
  {
   "cell_type": "markdown",
   "id": "d36680ff",
   "metadata": {},
   "source": [
    "<a id=\"feature_select\"></a>\n",
    "# Feature Type Selection\n",
    "\n",
    "You can select a subset of columns based on the feature types using `feature_select`. \n",
    "- `include` defaults to `None`. It takes a list of feature types (feature type object or feature type name) to include in the returned dataframe.\n",
    "- `exclude` defaults to `None`. It takes a list of feature types (feature type object or feature type name) to exclude from the returned dataframe. \n",
    "- `include` and `exclude` cannot both be `None`. A feature type cannot be included or excluded at the same time."
   ]
  },
  {
   "cell_type": "markdown",
   "id": "78afdb6e",
   "metadata": {},
   "source": [
    "Next, create a dataframe that only has columns that have a boolean feature type:"
   ]
  },
  {
   "cell_type": "code",
   "execution_count": null,
   "id": "a1b9aa00",
   "metadata": {},
   "outputs": [],
   "source": [
    "df.ads.feature_select(include=['boolean'])"
   ]
  },
  {
   "cell_type": "markdown",
   "id": "6314deb4",
   "metadata": {},
   "source": [
    "Now, create a dataframe that excludes columns that have a boolean feature type:"
   ]
  },
  {
   "cell_type": "code",
   "execution_count": null,
   "id": "8934fb26",
   "metadata": {},
   "outputs": [],
   "source": [
    "df.ads.feature_select(exclude=['boolean'])"
   ]
  },
  {
   "cell_type": "markdown",
   "id": "ad72fcfd",
   "metadata": {},
   "source": [
    "<a id='feature_count'></a>\n",
    "# Feature Count\n",
    "\n",
    "Each column in a Pandas dataframe is associated with at least one feature type. This would be the default feature type and it is determined by the Pandas dtype. However, the feature type system allows you to associate a feature with multiple feature types using a system of inheritance. As discussed in the <a href='#overview'>Feature Type System</a> section, a feature could have a feature set of `wholesale_price`, `car_price`, `USD`, and `continuous`.\n",
    "\n",
    "The `.feature_count()` method can be called on a dataframe to provide a summary of what features are being used. The output is a dataframe where each row represents a feature type and that is listed in the Feature Type column. The next column lists the number of times the feature type appears in any of the columns. Since each feature can have multiple feature types it counts all occurrences. The next column, Primary, is the count of the number of times that the feature type is listed as the primary feature type. That is the feature type that has no subclasses.\n",
    "\n",
    "The `.feature_count()` provides a summary of what features are being used across all features in the dataframe. The output dataframe has one row for each feature type that is represented in the dataframe. This is listed in the Feature Type column. The next column lists the number of times the feature type appears in any of the columns. For example, the category feature type appears in the Attrition, TravelForWork, and JobFunction columns. Therefore, it has a count of three. The Primary column is the count of the number of times that the feature type is listed as the primary feature type. For the category feature type, the value is two as TravelForWork and JobFunction have this as their primary feature type. While category is a feature type of Attrition, it is not the primary feature type, boolean is. In the case of the string feature type, it occurs in the Attrition, TravelForWork and JobFunction features, however, it is not the primary feature type in these features and thus its Count is 3 but its Primary count is 0."
   ]
  },
  {
   "cell_type": "code",
   "execution_count": null,
   "id": "56f2f06b",
   "metadata": {},
   "outputs": [],
   "source": [
    "attrition_path = os.path.join('/opt', 'notebooks', 'ads-examples', 'oracle_data', 'orcl_attrition.csv')\n",
    "df = pd.read_csv(attrition_path, \n",
    "                 usecols=['Attrition', 'TravelForWork', 'JobFunction', 'TrainingTimesLastYear'])\n",
    "df.ads.feature_type = {'Attrition': ['boolean', 'category'],\n",
    "                         'TravelForWork': ['category'],\n",
    "                         'JobFunction': ['category'],\n",
    "                         'TrainingTimesLastYear': ['integer']}\n",
    "df.head()"
   ]
  },
  {
   "cell_type": "code",
   "execution_count": null,
   "id": "8a761c50",
   "metadata": {},
   "outputs": [],
   "source": [
    "df.ads.feature_count()"
   ]
  },
  {
   "cell_type": "markdown",
   "id": "105f30c4",
   "metadata": {},
   "source": [
    "<a id='feature_stat'></a>\n",
    "# Feature Statistics\n",
    "\n",
    "One of the main goals of the EDA is to gain an understanding of the nature of your data. Computing summary statistics is one of the most common tasks in this process. The goal of the `.feature_stat()` method is to produce relevant summary statistics for the feature set. The feature type framework allows you to customize what statistics will be used in a feature type.\n",
    "\n",
    "The `.feature_stat()` outputs a Pandas dataframe where each row represents a summary statistic. The statistics that are reported depend on the multiple inheritance of the feature types. The feature type framework will iterate from the primary feature type to the default feature type looking for a feature type that has the `.feature_stat()` method defined and then will dispatch on that.\n",
    "\n",
    "In the next cell, the `.feature_stat()` for the integer feature type is run. This feature set will return the count of the observations, the mean value, the standard deviation and <a href=\"https://en.wikipedia.org/wiki/Five-number_summary\">Tukey's Five Numbers</a> (sample minimum, lower quartile, median, upper quartile, and sample maximum)."
   ]
  },
  {
   "cell_type": "code",
   "execution_count": null,
   "id": "e7a989f7",
   "metadata": {},
   "outputs": [],
   "source": [
    "df['TrainingTimesLastYear'].ads.feature_stat()"
   ]
  },
  {
   "cell_type": "markdown",
   "id": "ebcce821",
   "metadata": {},
   "source": [
    "The summary statistics that are created depend on the feature type. For example, the JobFunction column is categorical so it produces a count of the number of observations and the number of unique categories."
   ]
  },
  {
   "cell_type": "code",
   "execution_count": null,
   "id": "a1abb124",
   "metadata": {},
   "outputs": [],
   "source": [
    "df['JobFunction'].ads.feature_stat()"
   ]
  },
  {
   "cell_type": "markdown",
   "id": "5b14a280",
   "metadata": {},
   "source": [
    "This may not be ideal summary for the JobFunction feature. Instead, you may want to know the number of job functions in each category. This can be done by creating a new feature type and its associated `.feature_stat()` method. In next cell, a new feature type called `JobFunction` is created. It overrides the `.feature_stat()` method to produce a count of the number of each job functions in the data. This feature type is then registered and the JobFunction column, in the dataframe, is updated so that it now inherits from the `JobFunction` feature type. Then it prints the feature summary statistics for the JobFunction column."
   ]
  },
  {
   "cell_type": "code",
   "execution_count": null,
   "id": "8bdf95db",
   "metadata": {},
   "outputs": [],
   "source": [
    "try: # remove the feature type if it is already registered\n",
    "    feature_type_manager.feature_type_unregister(JobFunction)\n",
    "except:\n",
    "    pass\n",
    "\n",
    "# Create the JobFunction feature type\n",
    "class JobFunction(FeatureType):\n",
    "    @staticmethod\n",
    "    def feature_stat(series: pd.Series) -> pd.DataFrame:\n",
    "        result = dict()\n",
    "        job_function = ['Product Management', 'Software Developer', 'Software Manager', 'Admin', 'TPM']\n",
    "        for label in job_function:\n",
    "            result[label] = len(series[series == label])\n",
    "        return pd.DataFrame.from_dict(result, orient='index', columns=[series.name])\n",
    "\n",
    "# Register the JobFunction feature type and assign it to the dataframe    \n",
    "feature_type_manager.feature_type_register(JobFunction)\n",
    "df['JobFunction'].ads.feature_type = ['job_function', 'category']\n",
    "df['JobFunction'].ads.feature_stat()"
   ]
  },
  {
   "cell_type": "markdown",
   "id": "18e7779f",
   "metadata": {},
   "source": [
    "The `.feature_stat()` method also works at the dataframe level. It will produce a similar output to the output for the series, except it will have an additional column that lists the column name where the metric was computed."
   ]
  },
  {
   "cell_type": "code",
   "execution_count": null,
   "id": "3724fea5",
   "metadata": {},
   "outputs": [],
   "source": [
    "df.ads.feature_stat()"
   ]
  },
  {
   "cell_type": "markdown",
   "id": "f73a9211",
   "metadata": {},
   "source": [
    "<a id=\"correlation\"></a>\n",
    "# Correlation\n",
    "\n",
    "Generally, a data scientist wants to make a model as parsimonious as possible. This often involves determining what features are highly correlated and removing some of them. While some models such as decision trees are not sensitive to correlated variables, other ones such as ordinary least squares regression are. You may also want to remove correlated variables at it reduces the cost of collecting and processing the data.\n",
    "\n",
    "The EDA features in ADS speed up your analysis by providing methods to compute different types of correlations. There are several different correlation techniques provided as they have different use cases. Further, there are two sets of methods. One method returns a dataframe with the correlation information and it has a partner method that generates a plot.\n",
    "\n",
    "What correlation technique you use depends on the type of data that you are working with. When using these correlation techniques you will need to slice your dataframe so that only the appropriate feature types are used in the calculation. The following is a summary of the different correlation techniques and what data should be used.\n",
    "* `pearson`: The <a href=\"https://en.wikipedia.org/wiki/Pearson_correlation_coefficient\">Pearson correlation coefficient</a> is a normalized measure of the covariance between two sets of data. In essence, it measures the linear correlation between the datasets. This method is used when both datasets consist of continuous values.\n",
    "* `correlation_ratio`: The <a href=\"https://en.wikipedia.org/wiki/Correlation_ratio\">Correlation ratio</a> measures the extent to which a distribution is spread out within individual categories relative to the spread of the entire population. This metric is used to compare categorical variables to continuous values.\n",
    "* `cramersv`: The <a href=\"https://en.wikipedia.org/wiki/Cram%C3%A9r%27s_V\">Cramér's V</a> provides a measure of the degree of association between two categorical/nominal datasets.\n",
    "\n",
    "<a id=\"correlation_pearson\"></a>\n",
    "## Pearson Correlation Coefficient\n",
    "\n",
    "The <a href=\"https://en.wikipedia.org/wiki/Pearson_correlation_coefficient\">Pearson correlation coefficient</a> is known by a number of names such as Pearson's r, Pearson product moment correlation coefficient, bivariate correlation or the correlation coefficient. It has a range of [-1, 1] where 1 means that the two datasets are perfectly correlated and a value of -1 means that the correlation is perfectly out of phase. Thus, when one dataset is increasing the other one is decreasing.\n",
    "\n",
    "The Pearson correlation coefficient is a normalized value of the covariance between the continuous datasets X and Y. It is normalized by the product of the standard deviation between X and Y and is given by the following formula:\n",
    "$$\\rho_{X,Y} = \\frac{cov(X,Y)}{\\sigma_X \\sigma_Y}$$"
   ]
  },
  {
   "cell_type": "code",
   "execution_count": null,
   "id": "24ca4c6c",
   "metadata": {},
   "outputs": [],
   "source": [
    "df = pd.read_csv(attrition_path,\n",
    "                usecols=['Age', 'YearsinIndustry', 'YearsOnJob', 'YearsWithCurrManager', 'YearsAtCurrentLevel'])\n",
    "df.ads.feature_type = {'Age': ['continuous'], 'YearsinIndustry': ['continuous'], 'YearsOnJob': ['continuous'], \n",
    "                     'YearsWithCurrManager': ['continuous'], 'YearsAtCurrentLevel': ['continuous']}\n",
    "df.ads.pearson()"
   ]
  },
  {
   "cell_type": "markdown",
   "id": "eab5970f",
   "metadata": {},
   "source": [
    "This same information can be represented in a plot using the `.pearson_plot()` method."
   ]
  },
  {
   "cell_type": "code",
   "execution_count": null,
   "id": "db5494d2",
   "metadata": {},
   "outputs": [],
   "source": [
    "df.ads.pearson_plot()"
   ]
  },
  {
   "cell_type": "markdown",
   "id": "4f7297a0",
   "metadata": {},
   "source": [
    "<a id=\"correlation_correlation_ratio\"></a>\n",
    "## Correlation Ratio\n",
    "\n",
    "Statistical dispersion, or scatter, is a measure of the spread of a distribution with variance being a common metric. The <a href=\"https://en.wikipedia.org/wiki/Correlation_ratio\">Correlation ratio</a> is a measure of dispersion with categories relative to the dispersion across the entire dataset. The Correlation ratio is a weighted variance of the category means over the variance of all samples. It is given by the formula:\n",
    "$$\\eta = \\sqrt{\\frac{\\sigma_{\\bar{y}}^2}{\\sigma_y^2}}$$\n",
    "\n",
    "where:\n",
    "$$\\sigma_{\\bar{y}}^2 = \\frac{\\sum_x n_x(\\bar{y}_x - \\bar{y})^2}{\\sum_x n_x}$$\n",
    "$$\\sigma_{y}^2 = \\frac{\\sum_{x,i} n_x(\\bar{y}_{x,i} - \\bar{y})^2}{n}$$\n",
    "\n",
    "where $n$ is the total number of observations and $n_x$ is the number of observations in a category $x$. $\\bar{y}_x$ is the mean value in category $x$ and $\\bar{y}$ is the overall mean.\n",
    "\n",
    "Values of $\\eta$ near zero indicate that there is no dispersion between the means of the different categories. A value of $\\eta$ near one suggests that there in no dispersion within the respective categories."
   ]
  },
  {
   "cell_type": "code",
   "execution_count": null,
   "id": "7c56624d",
   "metadata": {},
   "outputs": [],
   "source": [
    "df = pd.read_csv(attrition_path,\n",
    "                usecols=['JobFunction', 'Age', 'YearsinIndustry', 'YearsOnJob', 'YearsWithCurrManager', 'YearsAtCurrentLevel'])\n",
    "df.ads.feature_type = {'Age': ['continuous'], 'YearsinIndustry': ['continuous'], 'YearsOnJob': ['continuous'], \n",
    "                     'YearsWithCurrManager': ['continuous'], 'YearsAtCurrentLevel': ['continuous'],\n",
    "                      'JobFunction': ['category']}\n",
    "df.ads.correlation_ratio()"
   ]
  },
  {
   "cell_type": "code",
   "execution_count": null,
   "id": "0a14a0d2",
   "metadata": {},
   "outputs": [],
   "source": [
    "df.ads.correlation_ratio_plot()"
   ]
  },
  {
   "cell_type": "markdown",
   "id": "c2578a40",
   "metadata": {},
   "source": [
    "<a id='target'></a>"
   ]
  },
  {
   "cell_type": "markdown",
   "id": "53fc3f14",
   "metadata": {},
   "source": [
    "<a id=\"correlation_cramers_v\"></a>\n",
    "## Cramér's V\n",
    "\n",
    "<a href=\"https://en.wikipedia.org/wiki/Cram%C3%A9r%27s_V\">Cramér's V</a> is used to measure the amount of association between two categorical/nominal variables. A value of zero means that there is no association between the bivariates and a value of one means that there is complete association. $V$ is the percentage of the maximum association between the variables, which is dependent on the frequency in which the tuples $(x_i, y_j)$ occur.\n",
    "\n",
    "The value of $V$ is related to the chi-squared statistic, $\\Chi^2$ and is given by:\n",
    "$$V = \\sqrt{\\frac{\\Chi^2}{min(k-1, r-1)n}}$$\n",
    "\n",
    "where: $k$ and $r$ are the number of categories in the datasets $x$ and $y$. $n$ is the sample size.\n"
   ]
  },
  {
   "cell_type": "code",
   "execution_count": null,
   "id": "d40965ab",
   "metadata": {},
   "outputs": [],
   "source": [
    "df = pd.read_csv(attrition_path,\n",
    "                 usecols=['TravelForWork', 'JobFunction', 'EducationField', 'EducationalLevel'])\n",
    "df.ads.feature_type = {'TravelForWork': ['category'], 'JobFunction': ['category'], 'EducationField': ['category'], \n",
    "                     'EducationalLevel': ['category']}\n",
    "df.ads.cramersv()"
   ]
  },
  {
   "cell_type": "code",
   "execution_count": null,
   "id": "1302914b",
   "metadata": {},
   "outputs": [],
   "source": [
    "df.ads.cramersv_plot()"
   ]
  },
  {
   "cell_type": "markdown",
   "id": "742eb3f7",
   "metadata": {},
   "source": [
    "<a id='plots'></a>\n",
    "# Feature Plot\n",
    "\n",
    "Visualization of a dataset is a quick way to gain insights into the distribution of values. The feature type system in ADS provides plots for all ADS-supported feature types. However, it is easy to create feature plots for your custom feature types. Calling `.feature_plot()` on a Pandas series will produce a univariate plot. The next cell produces a bar chart with a count of the number of employees and how often they travel."
   ]
  },
  {
   "cell_type": "code",
   "execution_count": null,
   "id": "2cd7ba72",
   "metadata": {},
   "outputs": [],
   "source": [
    "df = pd.read_csv(attrition_path, \n",
    "                usecols=['Attrition', 'TravelForWork', 'JobFunction', 'TrainingTimesLastYear'])\n",
    "df.ads.feature_type = {'Attrition': ['category'], 'TravelForWork': ['category'],\n",
    "                       'JobFunction': ['category'], 'TrainingTimesLastYear': ['continuous']}\n",
    "df['TravelForWork'].ads.feature_plot()"
   ]
  },
  {
   "cell_type": "markdown",
   "id": "bcb9804d",
   "metadata": {},
   "source": [
    "The `feature_plot()` method on a Pandas series returns a `matplotlib.pyplot` object. This allows you to modify the plot to customize it further. The next cell will capture the plot and add a title."
   ]
  },
  {
   "cell_type": "code",
   "execution_count": null,
   "id": "7197b2c2",
   "metadata": {},
   "outputs": [],
   "source": [
    "travel_plot = df['TravelForWork'].ads.feature_plot()\n",
    "travel_plot.set_title(\"Count of the Number of Employees and How Much they Travel\")"
   ]
  },
  {
   "cell_type": "markdown",
   "id": "b1b7379b",
   "metadata": {},
   "source": [
    "It is often expedient to produce the feature plots for all the features in the dataframe. This can be done by calling `.feature_plot()` on the dataframe. It will return a dataframe where each row represents a feature. There are two columns, `Column` which is the name of the column and `Plot` which is the plot object."
   ]
  },
  {
   "cell_type": "code",
   "execution_count": null,
   "id": "af914204",
   "metadata": {},
   "outputs": [],
   "source": [
    "df.ads.feature_plot()"
   ]
  },
  {
   "cell_type": "markdown",
   "id": "83f0f087",
   "metadata": {},
   "source": [
    "<a id=\"warnings\"></a>\n",
    "# Feature Type Warnings\n",
    "\n",
    "Part of the exploratory data analysis (EDA) is to check the state or condition of your data. This is checking to ensure that there are no missing values.  With categorical data, you often want to ensure that the cardinality is low enough for the type of modeling that you are doing. Since the feature type system is meant to understand the nature of your data, and is an ideal mechanism to help automate the evaluation of the data. This evaluation is done by registering feature type warnings handlers with ADS.\n",
    "\n",
    "Feature type warning handlers are functions that are built-in or user-defined. They perform an analysis of a feature to determine whether there are any data condition problems. For example, it might report that a feature is skewed when the expectation is that the data is normally distributed. Another common example is that the data might have more than some threshold of missing values. ADS comes with various common warnings built-in for the feature types that it supports. However, you are able to create and register any warnings that you want.\n",
    "\n",
    "Feature type warnings are defined at the feature type level. Warnings can be registered dynamically at runtime. The `feature_type_manager.warning_registered()` shows a dataframe of registered warnings of each registered feature type. The three columns of the returned dataframes are:\n",
    "\n",
    "- `Feature Type`: Feature Type class name.\n",
    "- `Warning`: Warning name.\n",
    "- `Handler`: Registered warning handler for that feature type."
   ]
  },
  {
   "cell_type": "code",
   "execution_count": null,
   "id": "4fdc4102",
   "metadata": {},
   "outputs": [],
   "source": [
    "feature_type_manager.warning_registered()"
   ]
  },
  {
   "cell_type": "markdown",
   "id": "44d2e241",
   "metadata": {},
   "source": [
    "<a id=\"validating_data\"></a>\n",
    "## Validating Data\n",
    "\n",
    "The `.warning()` method runs all the data quality tests on a feature. It creates a dataframe where each row is the result of a test that generated a warning. The dataframe contains the feature and warning type that generated a warning. There is also a human-readable message that explains the warning. The metric and value columns contain information about the metric that was used and the value of that metric.\n",
    "\n",
    "In the next cell, a set of credit card values is used as the dataset. The feature type is set to `credit_card` and the feature type warnings are reported."
   ]
  },
  {
   "cell_type": "code",
   "execution_count": null,
   "id": "17bbe80c",
   "metadata": {},
   "outputs": [],
   "source": [
    "visa = [\"4532640527811543\", \"4556929308150929\", \"4539944650919740\", \"4485348152450846\", \"4556593717607190\"]\n",
    "amex = [\"371025944923273\", \"374745112042294\", \"340984902710890\", \"375767928645325\", \"370720852891659\"]\n",
    "invalid = [np.nan, None, \"\", \"123\", \"abc\"]\n",
    "series = pd.Series(visa + amex + invalid, name='creditcard')\n",
    "series.ads.feature_type = ['credit_card']\n",
    "series.ads.warning()"
   ]
  },
  {
   "cell_type": "markdown",
   "id": "10870846",
   "metadata": {},
   "source": [
    "There are several things to notice about the generated dataframe. While the feature type was set to `credit_card`, the dataframe also lists `string` in the feature type column. This is because the default feature type is `string` so the feature type warning system also ran the tests for the `string` feature type.\n",
    "\n",
    "The tuple (`credit_card`, `missing`) reports two warnings. This is because each warning can perform as many tests as it wants and reports as many warnings as required. This is also true for the (`string`, `missing`) tuple.\n",
    "\n",
    "<a id=\"examining\"></a>\n",
    "## Examining Feature Type Warnings\n",
    "\n",
    "Feature type warning handlers are functions that have been registered with ADS. The `.warning.registered()` method is part of the `warning` module and allows you to examine what warnings have been registered for a given feature type. \n",
    "\n",
    "The next cell uses the feature type manager to get a handle to the `credit_card` class. This class is an `ads.feature_engineering.feature_type.base.FeatureType` object that lists the name of the feature type warning and its handler."
   ]
  },
  {
   "cell_type": "code",
   "execution_count": null,
   "id": "a559b73b",
   "metadata": {},
   "outputs": [],
   "source": [
    "CreditCard = feature_type_manager.feature_type_object('credit_card')\n",
    "CreditCard.warning.registered()"
   ]
  },
  {
   "cell_type": "markdown",
   "id": "15d859c8",
   "metadata": {},
   "source": [
    "<a id=\"register_unregister\"></a>\n",
    "## Register and Unregistering a Feature Type Warning\n",
    "\n",
    "In the <a href=\"#validating_data\">Validating Data</a> section, a set of credit cards numbers were created. Several missing values were found by the feature type warning tests. However, there are credit card numbers that aren't not valid. The feature type warning system didn't pick up on this because there was no test for it. This problem can be solved by creating a feature type warning that detects this.\n",
    "\n",
    "\n",
    "<a id=\"register\"></a>\n",
    "### Register a Feature Type Warning\n",
    "\n",
    "This section shows you how to create a new feature type warning. The goal of this example is to create a feature type warning handler using the built-in  `.is_credit_card()` feature handler. The example also registers the handler and demonstrates that it is able to create warnings for invalid credit card numbers.\n",
    "\n",
    "There are two steps to creating a feature type warning. The first is to write a function that accepts a Pandas series and returns a carefully crafted dataframe. If there are no warnings, then the dataframe can be empty or the handler can return `None`. The dataframe has to have the following columns:\n",
    "\n",
    "* `Warning`: A string that describes the type of warning.\n",
    "* `Message`: A human-readable message about the warning.\n",
    "* `Metric`: A string that describes what is being measured.\n",
    "* `Value`: The value associated with the metric.\n",
    "\n",
    "The next cell uses the feature type warning handler, `invalid_credit_card_handler`, which uses the `.is_credit_card()` feature handler to create a binary list indicating whether the credit card number is valid or not. It then computes the number of invalid cards. If there are any invalid cards, then it creates a row in a dataframe with the relevant information. If not, it returns `None`. This example returns one row at most. However, it can return as many rows as needed. For example, it could return a row for each credit card that is invalid and provide the credit card number."
   ]
  },
  {
   "cell_type": "code",
   "execution_count": null,
   "id": "6e790dde",
   "metadata": {},
   "outputs": [],
   "source": [
    "def invalid_credit_card_handler(x: pd.Series):\n",
    "    value = len(x) - CreditCard.validator.is_credit_card(x).sum()\n",
    "    if value > 0:\n",
    "        df = pd.DataFrame(columns=['Warning', 'Message', 'Metric', 'Value'])\n",
    "        df.Value = [value]\n",
    "        df.Warning = ['invalid credit card count']\n",
    "        df.Message = [f'{df.Value.values[0]} invalid credit cards']\n",
    "        df.Metric = ['count']\n",
    "        return df"
   ]
  },
  {
   "cell_type": "markdown",
   "id": "b079d6f8",
   "metadata": {},
   "source": [
    "Feature type warnings are registered with the feature type of interest. You can assign the same handler to multiple feature types. In this example, the feature type manager is used to get a handle to the `credit_card` class, which is an `ads.feature_engineering.feature_type.base.FeatureType` class. The  `.register()` method in the `warning` module registers the handler for the warning. You give it a name for the handler and the handler function. The optional `replace = True` parameter overwrites the handler when the name exists."
   ]
  },
  {
   "cell_type": "code",
   "execution_count": null,
   "id": "6b235ba1",
   "metadata": {},
   "outputs": [],
   "source": [
    "CreditCard = feature_type_manager.feature_type_object('credit_card')\n",
    "CreditCard.warning.register(name='invalid_credit_card', \n",
    "                            handler=invalid_credit_card_handler, \n",
    "                            replace=True)"
   ]
  },
  {
   "cell_type": "markdown",
   "id": "698cd44a",
   "metadata": {},
   "source": [
    "Using the `.registered()` method in the `warning` module, you can see that the `invalid_credit_card` handler has been registered:"
   ]
  },
  {
   "cell_type": "code",
   "execution_count": null,
   "id": "eea86dc0",
   "metadata": {},
   "outputs": [],
   "source": [
    "CreditCard.warning.registered()"
   ]
  },
  {
   "cell_type": "markdown",
   "id": "67d49c8a",
   "metadata": {},
   "source": [
    "Run the `.warning()` method on the feature to show the updated warnings. Notice the `invalid credit card count` in the warning column:"
   ]
  },
  {
   "cell_type": "code",
   "execution_count": null,
   "id": "3cc33868",
   "metadata": {},
   "outputs": [],
   "source": [
    "series.ads.warning()"
   ]
  },
  {
   "cell_type": "markdown",
   "id": "0b0d4cca",
   "metadata": {},
   "source": [
    "<a id=\"unregister\"></a>\n",
    "### Unregister a Feature Type Warning\n",
    "\n",
    "You can remove a feature type warning from a feature type using the `.unregister()` method of the `warning` module. It accepts the name of the feature type warning. If the warning doesn't exist, it return a `WarningNotFound` exception.\n",
    "\n",
    "The next cell removes the `high-cardinality` warning and the remaining feature type warnings are displayed"
   ]
  },
  {
   "cell_type": "code",
   "execution_count": null,
   "id": "4304636e",
   "metadata": {},
   "outputs": [],
   "source": [
    "CreditCard.warning.unregister('high_cardinality')\n",
    "CreditCard.warning.registered()"
   ]
  },
  {
   "cell_type": "markdown",
   "id": "18db578f",
   "metadata": {},
   "source": [
    "<a id=\"dataframe\"></a>\n",
    "## Working with a DataFrame\n",
    "\n",
    "While working with a Pandas series can be powerful, it is often more convenient to check for warnings on an entire dataframe. This section uses the orcl_attrition.csv dataset to look at dataframe level operations that you can perform with the feature type warning tools.\n",
    "\n",
    "The next cell loads the sample dataset:"
   ]
  },
  {
   "cell_type": "code",
   "execution_count": null,
   "id": "cb201856",
   "metadata": {},
   "outputs": [],
   "source": [
    "attrition_path = os.path.join('/opt', 'notebooks', 'ads-examples', 'oracle_data', 'orcl_attrition.csv')\n",
    "df = pd.read_csv(attrition_path, \n",
    "                 usecols=['Age', 'Attrition', 'JobFunction', 'EducationalLevel', 'EducationField', \n",
    "                          'Gender', 'JobRole','MonthlyIncome'\n",
    "                          ])\n",
    "df.head()"
   ]
  },
  {
   "cell_type": "markdown",
   "id": "dccf0ecf",
   "metadata": {},
   "source": [
    "The `.feature_type` property accepts a dictionary where the keys are the column names and the values are a list of the feature types that are to be assigned to each column. Only the columns you want to update are needed in the dictionary."
   ]
  },
  {
   "cell_type": "code",
   "execution_count": null,
   "id": "40bcd72f",
   "metadata": {},
   "outputs": [],
   "source": [
    "df.ads.feature_type = {'Age': ['integer'],\n",
    "                       'Attrition': ['boolean', 'category', Tag('target')],\n",
    "                       'JobFunction': ['category'],\n",
    "                       'EducationalLevel': ['category'],\n",
    "                       'EducationField': ['category'],\n",
    "                       'Gender': ['category'],\n",
    "                       'JobRole': ['category'],\n",
    "                       'MonthlyIncome': ['continuous']}\n",
    "df.ads.feature_type"
   ]
  },
  {
   "cell_type": "markdown",
   "id": "12b64830",
   "metadata": {},
   "source": [
    "The `.warning_registered()` method on the dataframe shows all of the feature type warnings for all of the columns in the dataframe:"
   ]
  },
  {
   "cell_type": "code",
   "execution_count": null,
   "id": "2e3ea9d8",
   "metadata": {},
   "outputs": [],
   "source": [
    "df.ads.warning_registered()"
   ]
  },
  {
   "cell_type": "markdown",
   "id": "74b9704f",
   "metadata": {},
   "source": [
    "The method `.warning()` on the dataframe shows all of the warnings for all of the columns in the dataframe. This is a quick way to see all of your data with a single command."
   ]
  },
  {
   "cell_type": "code",
   "execution_count": null,
   "id": "52532c4c",
   "metadata": {},
   "outputs": [],
   "source": [
    "df.ads.warning()"
   ]
  },
  {
   "cell_type": "markdown",
   "id": "5131c770",
   "metadata": {},
   "source": [
    "<a id=\"overview\"></a>\n",
    "# Feature Type Validators\n",
    "\n",
    "One aspect of exploratory data analysis (EDA) is to ensure that all the data is valid. For example, you may have credit card data and want to ensure that all the numbers are valid credit card numbers. The feature type validators are a way of performing this validation. There are built-in methods for the feature types that are provided by `ADS`, but the idea is for you to create these methods for your custom feature types.\n",
    "\n",
    "Feature type validators are defined on the feature type level. You can define functions that can be applied to the columns and features of the same feature type and use it across your entire organization. The feature types that are provided by `ADS` come with a default set of handlers.\n",
    "\n",
    "The feature type validators are a set of `.is_*()` methods, where `*` is generally the name of the feature type. For example, the method `.is_credit_card()` would be called to ensure that the data are all credit card numbers. The feature type validators return a boolean pandas series, which is the length of the data. If the element meets the criteria specified in the feature type validator, it indicates `True` otherwise it is `False`. The `.is_*()` method is called the **validator**.\n",
    "\n",
    "The feature type validator system is extensible. You can have multiple validators for any feature type. For example, if you had a credit card feature type you may want to have the validator `.is_credit_card()`. It would check a set of credit card numbers to make sure that they are valid credit card numbers. You may want to add other validators like, `.is_visa()` and `.is_mastercard()`, to determine if the credit card numbers are associated with Visa or Mastercard accounts.\n",
    "\n",
    "The feature type validator can also be extended through the use of conditions. Conditions allow you to have different sets of feature type validators based on a set of arguments that you define called **conditions**. For example, if you wanted to and see if a credit card is a Visa card you could create a condition like `.is_credit_card(card_type='Visa')`. Then you register a feature handler with that condition and it runs when you pass in that condition.\n",
    "\n",
    "<a id=\"list_validators\"></a>\n",
    "## List Feature Type Validators\n",
    "\n",
    "To make the association between the feature type, validator, condition, and feature type validator, the feature type validator must be registered with the feature type manager. The module `feature_type_manager` is used to manage these relationships.\n",
    "\n",
    "<a id=\"list_validators_ftm\"></a>\n",
    "### List Feature Type Validators Using the Feature Type Manager\n",
    "\n",
    "To list the current feature handlers and their conditions use the `feature_type_manager.validator_registered()` method. It shows the registered handlers in a dataframe format. The columns in the dataframe are:\n",
    "- `Feature Type`: Feature type class name.\n",
    "- `Validator`:    Validation functions that you can call to validate a pandas series.\n",
    "- `Condition`:    Condition that the handler is registered in.\n",
    "- `Handler`:      Registered handler."
   ]
  },
  {
   "cell_type": "code",
   "execution_count": null,
   "id": "f87d408b",
   "metadata": {},
   "outputs": [],
   "source": [
    "feature_type_manager.validator_registered()"
   ]
  },
  {
   "cell_type": "markdown",
   "id": "b75bded7",
   "metadata": {},
   "source": [
    "<a id=\"list_validators_fto\"></a>\n",
    "### List Feature Type Validators on a Feature Type Object\n",
    "\n",
    "Each feature type object also has a `.validator.registered()` method that returns a dataframe with the validators, conditions, and feature type validators that are associated with the given feature type. \n",
    "\n",
    "The next cell uses the feature type manager to obtain a `FeatureType` object for the credit card feature type. This object is the feature type object for the credit card feature type. The cell then obtains a list of validators, conditions, and feature type validators that are associated with the credit card feature type."
   ]
  },
  {
   "cell_type": "code",
   "execution_count": null,
   "id": "2b064698",
   "metadata": {},
   "outputs": [],
   "source": [
    "CreditCard = feature_type_manager.feature_type_object('credit_card')\n",
    "CreditCard.validator.registered()"
   ]
  },
  {
   "cell_type": "markdown",
   "id": "9cf8206b",
   "metadata": {},
   "source": [
    "<a id=\"list_validators_series\"></a>\n",
    "### List Feature Type Validators on a Series\n",
    "\n",
    "The `.validator_registered()` method can be used on a pandas series by calling `.ads.validator_registeres()`.\n",
    "\n",
    "The next cell creates a series that contains valid credit card numbers. The series has its feature type set to `credit_card`. The call to `series.ads.validator_registered()` reports multiple handlers because the series has multiple feature types associated with it (credit card and string)."
   ]
  },
  {
   "cell_type": "code",
   "execution_count": null,
   "id": "312ac591",
   "metadata": {},
   "outputs": [],
   "source": [
    "series = pd.Series([\"4532640527811543\", \"4556929308150929\", \"4539944650919740\"], name='creditcard')\n",
    "series.ads.feature_type = ['credit_card']\n",
    "series.ads.validator_registered()"
   ]
  },
  {
   "cell_type": "markdown",
   "id": "50e1778c",
   "metadata": {},
   "source": [
    "<a id=\"list_validators_df\"></a>\n",
    "### List Feature Type Validators on a Dataframe\n",
    "\n",
    "Like a pandas series, `.validator_registered()` can be used on a dataframe to obtain information on the feature type validators that are associated with the columns of the dataframe. It only displays columns that have feature type validators associated with them.\n",
    "\n",
    "The next cell loads a sample dataset into a pandas dataframe. The feature types are then assigned to these columns and `.ads.validator_registered()` is called on the dataframe."
   ]
  },
  {
   "cell_type": "code",
   "execution_count": null,
   "id": "7ab4f821",
   "metadata": {},
   "outputs": [],
   "source": [
    "df.ads.validator_registered()"
   ]
  },
  {
   "cell_type": "markdown",
   "id": "08037c93",
   "metadata": {},
   "source": [
    "<a id=\"using_handlers\"></a>\n",
    "## Using Feature Type Validators\n",
    "\n",
    "The goal of the feature type validator is to validate the data against some set of criteria. This can be done using the feature type object itself or on a pandas series.\n",
    "\n",
    "<a id=\"using_handlers_series\"></a>\n",
    "### Using Feature Type Validators on a Series\n",
    "\n",
    "For a pandas series, the feature type validator is invoked by using the name of the validator and any condition arguments that may be required. To do this the series object calls `.ads` followed by a call to the validator name. For example, `series.ads.validator.is_credit_card(starts_with='4')`, where `.is_credit_card()` is the validator name and `starts_with='4'` is the condition.\n",
    "\n",
    "The next cell creates a pandas series that contains a set of valid credit card numbers along with a set of invalid numbers. This series has its feature type set to `credit_card` and invokes the `.is_credit_card()` feature type validator."
   ]
  },
  {
   "cell_type": "code",
   "execution_count": null,
   "id": "7c1a3ae1",
   "metadata": {},
   "outputs": [],
   "source": [
    "visa = [\"4532640527811543\", \"4556929308150929\", \"4539944650919740\", \"4485348152450846\", \"4556593717607190\"]\n",
    "invalid = [np.nan, None, \"\", \"123\", \"abc\"]\n",
    "\n",
    "series = pd.Series(visa + invalid, name='creditcard')\n",
    "series.ads.feature_type = ['credit_card']\n",
    "series.ads.validator.is_credit_card()"
   ]
  },
  {
   "cell_type": "markdown",
   "id": "b732deda",
   "metadata": {},
   "source": [
    "A series can have multiple feature types handlers associated with it. In this example, `.is_string()` could have also been called. Since the return type is a pandas series the `.any()` and `.all()` methods can be used to provide summary information about the validation. \n",
    "\n",
    "The next cell shows you how to validate that there is at least one datum that is not a valid string."
   ]
  },
  {
   "cell_type": "code",
   "execution_count": null,
   "id": "0c6f7148",
   "metadata": {},
   "outputs": [],
   "source": [
    "series.ads.validator.is_string().all()"
   ]
  },
  {
   "cell_type": "markdown",
   "id": "a85eb299",
   "metadata": {},
   "source": [
    "<a id=\"using_handlers_fto\"></a>\n",
    "### Using Feature Type Validators on a Feature Type Object\n",
    "\n",
    "A feature type object can be used to invoke the feature type validator by using the name of the validator and any condition arguments that may be required on the feature type object. On the feature type object, call the validator. For example, `CreditCard.is_credit_card(starts_with='4')`, where `.is_credit_card()` is the validator and `starts_with='4'` is the condition.\n",
    "\n",
    "The next cell uses the feature type manager to obtain a feature type object to the credit card feature type. This object is used to call the feature type validator by passing in the pandas series that is to be assessed."
   ]
  },
  {
   "cell_type": "code",
   "execution_count": null,
   "id": "bdfcc9ff",
   "metadata": {},
   "outputs": [],
   "source": [
    "CreditCard = feature_type_manager.feature_type_object('credit_card')\n",
    "CreditCard.validator.is_credit_card(series)"
   ]
  },
  {
   "cell_type": "markdown",
   "id": "0cdd3b94",
   "metadata": {},
   "source": [
    "<a id=\"default_handler\"></a>\n",
    "## Default Feature Type Validator\n",
    "\n",
    "The power of the feature type system is that you can quickly create new feature type validators to validate your data. This is a two step process:\n",
    "\n",
    "1. Define a function that will act as the feature type validator.\n",
    "1. Register the feature type validator.\n",
    "\n",
    "Each feature type has a default handler that is called when no other handler can process a request.\n",
    "\n",
    "<a id=\"create_handler\"></a>\n",
    "### Create a Default Feature Type Validator\n",
    "\n",
    "A feature type validator is a function that respects these rules:\n",
    "\n",
    "* It takes a series as a first argument.\n",
    "* If there are any condition arguments, the `*args` and `**kwargs` should be used.\n",
    "* It returns a boolean series that is the same length as the input series.\n",
    "\n",
    "To register your own handler, you need to define the handler and then register it to the feature type. If the handler already exists, there is no need to create a new one.\n",
    "\n",
    "In this example a new feature type validator, `.is_visa_card_handler()`, is created. It checks to see if the credit card number is issued by Visa. The next cell creates the `is_visa_card_handler()` function that tests each element in the `data` parameter is a valid Visa credit card number. Then it returns a boolean series the same length as `data`."
   ]
  },
  {
   "cell_type": "code",
   "execution_count": null,
   "id": "8207d15d",
   "metadata": {},
   "outputs": [],
   "source": [
    "def is_visa_card_handler(data: pd.Series, *args, **kwargs) -> pd.Series:\n",
    "    \"\"\"\n",
    "    Processes given data and indicates if the data matches Visa credit card.\n",
    "\n",
    "    Parameters\n",
    "    ----------\n",
    "    data: pd.Series\n",
    "        The data to process.\n",
    "\n",
    "    Returns\n",
    "    --------\n",
    "    pd.Series: The logical list indicating if the data matches requirements.\n",
    "    \"\"\"\n",
    "    _pattern_string = r\"\"\"\n",
    "        ^(?:4[0-9]{12}(?:[0-9]{3})?         # Visa\n",
    "        |  ^4[0-9]{12}(?:[0-9]{6})?$        # Visa 19 digit\n",
    "        )$\n",
    "    \"\"\"\n",
    "    PATTERN = re.compile(_pattern_string, re.VERBOSE)\n",
    "    def _is_credit_card(x: pd.Series):\n",
    "        return (\n",
    "            not pd.isnull(x)\n",
    "            and PATTERN.match(str(x)) is not None\n",
    "        )\n",
    "    return data.apply(lambda x: True if _is_credit_card(x) else False)"
   ]
  },
  {
   "cell_type": "markdown",
   "id": "c1313ab9",
   "metadata": {},
   "source": [
    "<a id='validator_register'></a>\n",
    "### Registering a Default Feature Type Validator\n",
    "\n",
    "The feature type validator, needs to be registered with the feature type. You do that using the `.register()` method, which is part of the feature type object. The feature type manager is used to obtain a link to the feature type object.\n",
    "\n",
    "\n",
    "The `.register()` method has the following parameters:\n",
    "- `name`: The validator name that is used to invoke the feature type validator.\n",
    "- `handler`: The function name of the default feature type validator.\n",
    "- `replace`: The flag indicating if the registered handler should be replaced with the new one.\n",
    "\n",
    "The next cell obtains the feature type object, `CreditCard`, and then it registers the default feature type validator. If one exists, with the same name, it is replaced. A call to `CreditCard.validator_registered()` returns the registered handlers for the credit card feature type."
   ]
  },
  {
   "cell_type": "code",
   "execution_count": null,
   "id": "c1d364cb",
   "metadata": {},
   "outputs": [],
   "source": [
    "CreditCard = feature_type_manager.feature_type_object('credit_card')\n",
    "CreditCard.validator.register(name='is_visa_card', handler=is_visa_card_handler, replace = True)\n",
    "CreditCard.validator.registered()"
   ]
  },
  {
   "cell_type": "markdown",
   "id": "336ddeee",
   "metadata": {},
   "source": [
    "The next cell demonstrates how to use the `.is_visa_card()` feature type validator. A series is created that contains credit cards from Visa, Mastercard and American Express. The `.is_visa_card()` feature type validator is called and it returns a boolean series indicating which credit cards are issued by Visa."
   ]
  },
  {
   "cell_type": "code",
   "execution_count": null,
   "id": "458bc44e",
   "metadata": {},
   "outputs": [],
   "source": [
    "visa = [\"4532640527811543\", \"4556929308150929\"]\n",
    "mastercard = [\"5406644374892259\", \"5440870983256218\"]\n",
    "amex = [\"371025944923273\", \"374745112042294\"]\n",
    "series = pd.Series(visa + mastercard + amex, name='Credit Card')\n",
    "series.ads.feature_type = ['credit_card']\n",
    "CreditCard.validator.is_visa_card(series)"
   ]
  },
  {
   "cell_type": "markdown",
   "id": "b6ff8dbc",
   "metadata": {},
   "source": [
    "<a id='condition_handler'></a>\n",
    "## Condition Feature Type Validator\n",
    "\n",
    "Each feature type validator has a default handler that is called when no condition handler can handle a request. A condition feature type validator allows you to specify arbitrary parameters that are passed to the feature type system. The system examines these parameters and determines the best handler that should be dispatched. This determination is done by using the most restrictive set of parameter criteria.\n",
    "\n",
    "Use the `.register()` method to register a condition handler. The parameter `name` gives a user-friendly name to the registered handler. The `condition` parameter is used to specify the conditions that must be met to invoke the handler. Conditions would be user-defined parameters and values that help identify what condition in which the handler is to be dispatched. The `handler` parameter is the name of a function that will be dispatched when the conditions are met. The parameter `replace` determines if the handler should replace one that matches the condition. If set to `True` it will replace it if it exists. If set to `False` it will not replace an existing matching handler and will throw an error.\n",
    "\n",
    "A feature type validator is a function that respects the following rules:\n",
    "\n",
    "* It takes a series as a first argument.\n",
    "* It has formal arguments for the conditions.\n",
    "* It returns a boolean series that is the same length as the input series.\n",
    "\n",
    "<a id='condition_handler_closed'></a>\n",
    "### Closed Value Condition Feature Type Validator\n",
    "\n",
    "Closed value condition feature types allow you to specify any number of key-pair pairs to a condition handler and control which feature type validator is dispatched. However, when calling the handler, all of the key-value pairs must match.\n",
    "\n",
    "The `condition` parameter of the `.register()` method can explicitly define key-value pairs that are used to determine with handler to dispatch. In the <a href=\"#default_handler\">Default Feature Type Validator</a> section, the `is_visa_card` validator was created to determine if the credit cards were issued by Visa. It is possible to create the same effect by using a condition feature type validator on the `is_credit_card` feature type handle using explicit key-value pairs. To do this, the `condition` method accepts a dictionary of key-value pairs where the key is the parameter name and the dictionary value is the parameter value. For example, `CreditCard.validator.register(name='is_credit_card', condition={\"card_type\": \"Visa\"}, handler=is_visa_card_handler, replace=True)` links the parameter `card_type` to the value `Visa`.\n",
    "\n",
    "In the next cell, the credit card feature type has a condition handler registered. It uses the same feature type validator, `is_visa_card_handler` that was used to create the `is_visa_card` default feature type validator."
   ]
  },
  {
   "cell_type": "code",
   "execution_count": null,
   "id": "f7848ea2",
   "metadata": {},
   "outputs": [],
   "source": [
    "CreditCard = feature_type_manager.feature_type_object('credit_card')\n",
    "CreditCard.validator.register(name='is_credit_card', condition={\"card_type\": \"Visa\"}, handler=is_visa_card_handler, replace=True)\n",
    "CreditCard.validator.registered()"
   ]
  },
  {
   "cell_type": "markdown",
   "id": "7fb1be63",
   "metadata": {},
   "source": [
    "The next cell creates a series of credit card numbers and uses the parameters `card_type=\"Visa\"` when calling the `is_credit_card` validator. Notice that only the first two elements are flagged as being issued by Visa. If the default handler was called, all the returned values would have been `True` because they are all valid credit card numbers."
   ]
  },
  {
   "cell_type": "code",
   "execution_count": null,
   "id": "3fc51d5e",
   "metadata": {},
   "outputs": [],
   "source": [
    "visa = [\"4532640527811543\", \"4556929308150929\"]\n",
    "mastercard = [\"5406644374892259\", \"5440870983256218\"]\n",
    "amex = [\"371025944923273\", \"374745112042294\"]\n",
    "series = pd.Series(visa + mastercard + amex, name='Credit Card')\n",
    "series.ads.feature_type = ['credit_card']\n",
    "CreditCard.validator.is_credit_card(series, card_type=\"Visa\")"
   ]
  },
  {
   "cell_type": "markdown",
   "id": "079e5ed8",
   "metadata": {},
   "source": [
    "The previous cell called the feature type validator using the feature type object, `CreditCard`. It can also be called using the pandas series."
   ]
  },
  {
   "cell_type": "code",
   "execution_count": null,
   "id": "e78b6e21",
   "metadata": {},
   "outputs": [],
   "source": [
    "series.ads.validator.is_credit_card(card_type=\"Visa\")"
   ]
  },
  {
   "cell_type": "markdown",
   "id": "2e5a11ad",
   "metadata": {},
   "source": [
    "With closed value condition feature type validators, the key and values must match what was registered. If they don't, the condition feature type validator isn't called. In the next cell, the value is set to `Mastercard` to cause the default handler to be called. "
   ]
  },
  {
   "cell_type": "code",
   "execution_count": null,
   "id": "9f7e1ac4",
   "metadata": {},
   "outputs": [],
   "source": [
    "CreditCard.validator.is_credit_card(series, card_type=\"Mastercard\")"
   ]
  },
  {
   "cell_type": "markdown",
   "id": "b36e3c19",
   "metadata": {},
   "source": [
    "To register a closed value feature type validator that has multiple conditions, you use a dictionary with multiple key-value pairs. For example, to create a condition that checks that the country code is 1 and area code is 902, you could do the following:\n",
    "\n",
    "```python\n",
    "PhoneNumber.validator.register(name='is_phone_number', condition={\"country_code\": \"1\", \"area_code\": \"902\"},\n",
    "                               handler=is_1_902_handler)\n",
    "```\n",
    "\n",
    "<a id='condition_handler_open'></a>\n",
    "### Open Value Condition Feature Type Validator\n",
    "\n",
    "Open value condition feature type validators are similar to their closed value counterparts expect the value is not used in the matching process.\n",
    "\n",
    "To register an open value condition feature type validator, the same process is used as for the <a href='#condition_handler_closed'>Closed Value Condition Feature Type Validator</a> with the exception that a tuple is used to specify the conditions and no values are provided. For example, `CreditCard.validator.register(name='is_credit_card', condition=(\"card_type\",), handler=is_any_card_handler)`.\n",
    "\n",
    "The next cell defines a feature type condition handler that accepts the card type as a parameter name:"
   ]
  },
  {
   "cell_type": "code",
   "execution_count": null,
   "id": "1ed98e42",
   "metadata": {},
   "outputs": [],
   "source": [
    "def is_any_card_handler(data: pd.Series, card_type: str) -> pd.Series:\n",
    "    \"\"\"\n",
    "    Processes given data and indicates if the data matches any credit card\n",
    "\n",
    "    Parameters\n",
    "    ----------\n",
    "    data: pd.Series\n",
    "        The data to process.\n",
    "\n",
    "    Returns\n",
    "    --------\n",
    "    pd.Series: The logical list indicating if the data matches requirements.\n",
    "    \"\"\"\n",
    "    \n",
    "    if card_type == 'Visa':\n",
    "        _pattern_string = r\"\"\"\n",
    "            ^(?:4[0-9]{12}(?:[0-9]{3})?         # Visa\n",
    "            |  ^4[0-9]{12}(?:[0-9]{6})?$        # Visa 19 digit\n",
    "            )$\n",
    "        \"\"\"    \n",
    "    elif card_type == 'Mastercard':\n",
    "        _pattern_string = r\"\"\"\n",
    "            ^5[1-5][0-9]{14}|^(222[1-9]|22[3-9]\\\\d|2[3-6]\\\\d{2}|27[0-1]\\\\d|2720)[0-9]{12}$\n",
    "        \"\"\"\n",
    "        \n",
    "    elif card_type == \"Amex\":\n",
    "        _pattern_string = r\"\"\"\n",
    "            ^3[47][0-9]{13}$\n",
    "        \"\"\"\n",
    "    else:\n",
    "        raise ValueError()\n",
    "        \n",
    "    PATTERN = re.compile(_pattern_string, re.VERBOSE)\n",
    "    def _is_credit_card(x: pd.Series):\n",
    "        return (\n",
    "            not pd.isnull(x)\n",
    "            and PATTERN.match(str(x)) is not None\n",
    "        )\n",
    "    return data.apply(lambda x: _is_credit_card(x))"
   ]
  },
  {
   "cell_type": "markdown",
   "id": "23fcec74",
   "metadata": {},
   "source": [
    "The next cell registers the open value feature type validator using a tuple. Notice that values for the `card_type` parameter aren't specified. However, the `is_any_card_handler` function has a formal argument for it. The value of the parameter is passed into the handler. Also, note the trailing comma to make the parameter in `condition` a tuple. This forces Python to make `('card_type',)` a tuple. The output of the cell is the currently registered feature type validators."
   ]
  },
  {
   "cell_type": "code",
   "execution_count": null,
   "id": "65f323ec",
   "metadata": {},
   "outputs": [],
   "source": [
    "CreditCard.validator.register(name='is_credit_card', condition=(\"card_type\",), handler=is_any_card_handler)\n",
    "CreditCard.validator.registered()"
   ]
  },
  {
   "cell_type": "markdown",
   "id": "a0e176f9",
   "metadata": {},
   "source": [
    "To determine which credit card numbers in the variable `series` are issued by Mastercard, pass the parameter `card_type=\"Mastercard\"` into the `.is_credit_card()` feature type validator. The feature type system examines the parameters and then dispatches `is_any_card_handler`. `is_any_card_handler` accepts the `card_type` parameter and has logic to detect which numbers are Mastercard."
   ]
  },
  {
   "cell_type": "code",
   "execution_count": null,
   "id": "2cf7519b",
   "metadata": {},
   "outputs": [],
   "source": [
    "series.ads.validator.is_credit_card(card_type=\"Mastercard\")"
   ]
  },
  {
   "cell_type": "markdown",
   "id": "637d7139",
   "metadata": {},
   "source": [
    "This approach can also be used by the feature type object, `CreditCard`. In this example, the values in the variable `series` are checked to see if they match American Express credit card numbers:"
   ]
  },
  {
   "cell_type": "code",
   "execution_count": null,
   "id": "98b96907",
   "metadata": {},
   "outputs": [],
   "source": [
    "CreditCard.validator.is_credit_card(series, card_type=\"Amex\")"
   ]
  },
  {
   "cell_type": "markdown",
   "id": "4e94cc0f",
   "metadata": {},
   "source": [
    "To register an open value feature type validator that has multiple conditions, you would use a tuple with multiple values. For example, if you wanted to create a condition that would check the country and area codes of a phone number, you could use the following:\n",
    "\n",
    "```python\n",
    "PhoneNumber.validator.register(name='is_phone_number', condition=((\"country_code\", \"area_code\")),\n",
    "                               handler=is_county_area_handler)\n",
    "```\n",
    "\n",
    "It's not possible to mix open and closed condition feature type validators.\n",
    "\n",
    "<a id='condition_handler_disambiguation'></a>\n",
    "### Disambiguation\n",
    "\n",
    "In this notebook, a closed condition feature type was created for `'card_type'='Visa'`. There was also an open condition feature type that was created to handle all conditions that specify the `card_type` parameter. There appears to be a conflict in that both conditions support the case of `'card_type'='Visa'`. In fact, there is no conflict. The feature type system determines the most restrictive case and dispatches on it so the `is_visa_card_handler` handler is called."
   ]
  },
  {
   "cell_type": "code",
   "execution_count": null,
   "id": "53550ef9",
   "metadata": {},
   "outputs": [],
   "source": [
    "CreditCard.validator.registered()"
   ]
  },
  {
   "cell_type": "markdown",
   "id": "45de81f7",
   "metadata": {},
   "source": [
    "The next cell causes the `is_visa_card_handler` to be dispatched because it has the most restrictive set of requirements that match the parameters given."
   ]
  },
  {
   "cell_type": "code",
   "execution_count": null,
   "id": "4a97e8a2",
   "metadata": {},
   "outputs": [],
   "source": [
    "series.ads.validator.is_credit_card(card_type=\"Visa\")"
   ]
  },
  {
   "cell_type": "markdown",
   "id": "9b039702",
   "metadata": {},
   "source": [
    "<a id='unregistering'></a>\n",
    "## Unregistering a Feature Type Validator\n",
    "\n",
    "The `.unregister()` method is used to remove a feature type validator. Condition feature type validators are removed by using the validator as an accessor. In this case, the parameters to `.unregister()` are a dictionary in the case of closed condition feature type validators and it must match the dictionary that was used to register the handler. In the case of the open condition feature type validator, a tuple is passed to the `.unregister()`. Again, the tuple must match the tuple that was used to register the handler.\n",
    "\n",
    "To remove a default feature type validator, use the feature type object along with the `.unregister()` method. In this case, the parameter is the name of the validator. Removing the default feature type validator also removes any condition feature type validators that are associated with it.\n",
    "\n",
    "The next cell lists the current feature type validators."
   ]
  },
  {
   "cell_type": "code",
   "execution_count": null,
   "id": "937884c9",
   "metadata": {},
   "outputs": [],
   "source": [
    "CreditCard = feature_type_manager.feature_type_object('credit_card')\n",
    "CreditCard.validator.registered()"
   ]
  },
  {
   "cell_type": "markdown",
   "id": "c6ece0bd",
   "metadata": {},
   "source": [
    "Remove the closed condition for the case where `'card_type'='Visa'` on the validator `is_credit_card` as in the next cell. Note that the handler has been removed."
   ]
  },
  {
   "cell_type": "code",
   "execution_count": null,
   "id": "35fac234",
   "metadata": {},
   "outputs": [],
   "source": [
    "try:\n",
    "    CreditCard.validator.unregister(name=\"is_credit_card\", condition = {\"card_type\": \"Visa\"})\n",
    "except:\n",
    "    pass\n",
    "CreditCard.validator.registered()"
   ]
  },
  {
   "cell_type": "markdown",
   "id": "693ce0e6",
   "metadata": {},
   "source": [
    "Remove the open condition for `card_type` on the validator `is_credit_card` as in the next cell. Note that the handler has been removed."
   ]
  },
  {
   "cell_type": "code",
   "execution_count": null,
   "id": "1b0c3f61",
   "metadata": {},
   "outputs": [],
   "source": [
    "CreditCard.validator.unregister(name=\"is_credit_card\", condition=(\"card_type\",))\n",
    "CreditCard.validator.registered()"
   ]
  },
  {
   "cell_type": "markdown",
   "id": "c0d921f6",
   "metadata": {},
   "source": [
    "Remove the default feature type validator for `is_visa_card` as in the next cell. Note that the handler has been removed."
   ]
  },
  {
   "cell_type": "code",
   "execution_count": null,
   "id": "63c1c1e3",
   "metadata": {},
   "outputs": [],
   "source": [
    "CreditCard.validator.unregister(name='is_visa_card')\n",
    "CreditCard.validator.registered()"
   ]
  },
  {
   "cell_type": "markdown",
   "id": "a35969e0",
   "metadata": {},
   "source": [
    "<a id=\"feature_type_create\"></a>\n",
    "# Create a Custom Feature Type\n",
    "\n",
    "The feature type framework comes with some common feature types. However, the power of using feature types is that you can easily create your own, and apply them to your specific data. You don't need to try to represent your data in a synthetic way that does not match the nature of your data. This framework allows you to create methods that validate whether the data fits the specifications of your organization.\n",
    "\n",
    "To create a custom feature type, you need to create a class that is inherited from the `FeatureType` class. The class must be registered with ADS before it can be used. You do this using the `feature_type_manager.feature_type_register()` method and pass in the name of the class.\n",
    "\n",
    "In the next cell, the custom feature type, `CustomCreditCard`, is created and is inherited from the `FeatureType` base class. The class overrides the `name` attribute to set a custom name for the class. If it is not overridden then the name will automatically be determined by the class name and converted to snake case. The name can be used to register and unregister a class. It is also used in several outputs to identify the class. When assigning a feature type to a series, the name can be used to identify the class.\n",
    "\n",
    "The `description` attribute allows you to provide detailed information about a feature type. If it is not overridden the description will default to 'Base Feature Type.'\n",
    "\n",
    "The `.feature_stat()` provides a mechanism to provide summary statistics for a feature type. If this method is not overridden and `.feature_stat()` is called on a feature type the multiple inheritance mechanism will be used. For example, we may create a feature type called `wholesale_price` and then a Pandas series called `car_price`. `car_price` has the following feature types: `wholesale_price`, `car_price`, `USD`, and `continuous`. Assuming that `.feature_stat()` is not overridden in the `wholesale_price` class, the system will attempt to generate the feature statistics using the `.feature_stat()` method defined in its parent feature type, `car_price`. This will continue until a feature type has defined the `.feature_stat()` method. If none of the custom feature type classes implement `.feature_stat()` it will fall through to the default feature type which always has this method implemented.\n",
    "\n",
    "In the next cell, the `.feature_stat()` method is implemented. It will create a dataframe where the index is the name of the metric. There will be one column that is the value that is associated with the metric.\n",
    "\n",
    "The `.feature_plot()` method can be overridden such that a custom plot can be created for the data. Just like the `.feature_stat()` method, if it is not overridden a plot will be generated by the multiple inheritance mechanism. All default feature types have a defined `.feature_plot()`. Since the default feature type's plotting method is generic, it may or may not provide a good representation of the data.\n",
    "\n",
    "In the next cell, the `.feature_plot()` method creates a bar chart with the count of the issuing financial institution. \n",
    "\n",
    "\n",
    "As with all classes, it is possible to add additional attributes and methods that may be helpful when working with a feature type. The next cell implements a method called `.issuer()`. Since the class that we are creating is a custom credit card, this would be a handy piece of information.\n",
    "\n",
    "The important rule is that all methods of the feature type must be `static` or `class` level methods and should take a Pandas series as a first argument."
   ]
  },
  {
   "cell_type": "code",
   "execution_count": null,
   "id": "1a587016",
   "metadata": {},
   "outputs": [],
   "source": [
    "def assign_issuer(cardnumber):\n",
    "    \"\"\"\n",
    "    Identifies the credit card type.\n",
    "    \"\"\"\n",
    "    if pd.isnull(cardnumber):\n",
    "        return \"missing\"\n",
    "    else:\n",
    "        return card_identify().identify_issue_network(cardnumber)\n",
    "\n",
    "class CustomCreditCard(FeatureType):\n",
    "    \"\"\"Type representing custom credit card numbers.\n",
    "\n",
    "    Attributes\n",
    "    ----------\n",
    "    description: str\n",
    "        The feature type description.\n",
    "    name: str\n",
    "        The feature type name.\n",
    "    \n",
    "    Methods\n",
    "    --------\n",
    "    register_handler(cls, name: str, default_handler: Callable) -> None\n",
    "        Registers a new handler for a feature type.\n",
    "    unregister_handler(cls, name: str) -> None\n",
    "        Unregisters a handler.\n",
    "    registered_handlers(cls) -> pd.DataFrame\n",
    "        Gets the list of registered handlers.\n",
    "    feature_stat(x: pd.Series) -> pd.DataFrame\n",
    "        Generates feature statistics.        \n",
    "    feature_plot(x: pd.Series) -> plt.Axes\n",
    "        Generates plot object.\n",
    "    \"\"\"\n",
    "    description = \"This is an example of a custom credit card feature type.\"\n",
    "    name=\"Custom Credit Card\"\n",
    "       \n",
    "    @staticmethod\n",
    "    def issuer(series: pd.Series) -> pd.Series:\n",
    "        \"\"\"Identifies the credit card type.\n",
    "        \n",
    "        Parameters\n",
    "        ----------\n",
    "        series: pd.Series\n",
    "            The data to process.\n",
    "        \n",
    "        Returns\n",
    "        -------\n",
    "        pd.Series: The result of processing data.\n",
    "        \"\"\"\n",
    "        return series.apply(lambda card_number: 'Missing'\n",
    "                       if pd.isnull(card_number) else card_identify().identify_issue_network(card_number))    \n",
    "    \n",
    "    @staticmethod\n",
    "    def feature_stat(series: pd.Series) -> pd.DataFrame:\n",
    "        \"\"\"Generates feature statistics.\n",
    "\n",
    "        Feature statistics include (total)count, unique(count), missing(count) and\n",
    "            count of each credit card type.\n",
    "        \n",
    "        Parameters\n",
    "        ----------\n",
    "        series: pd.Series\n",
    "            The data to process.\n",
    "\n",
    "        Returns\n",
    "        -------\n",
    "        Pandas Dataframe\n",
    "            Summary statistics of the Series or Dataframe provided.\n",
    "        \"\"\"\n",
    "        \n",
    "        def _count_unique_missing(series: pd.Series):\n",
    "            \"\"\"Return the total count, unique count and count of missing values of a series.\"\"\"\n",
    "\n",
    "            def _add_missing(series, df):\n",
    "                \"\"\"Add count of missing values.\"\"\"\n",
    "                n_missing = pd.isnull(series.replace(r'', np.NaN)).sum()\n",
    "                if n_missing > 0:\n",
    "                    df.loc['missing'] = n_missing\n",
    "                return df\n",
    "\n",
    "            df_stat = pd.Series({'count': len(series),\n",
    "                                 'unique': len(series.replace(r'', np.NaN).dropna().unique())},\n",
    "                                name=series.name).to_frame()\n",
    "            return _add_missing(series, df_stat)\n",
    "\n",
    "        df_stat = _count_unique_missing(series)\n",
    "        card_types = series.apply(assign_issuer)\n",
    "        value_counts = card_types.value_counts()\n",
    "        value_counts.index = [\n",
    "            \"count_\" + cardtype for cardtype in list(value_counts.index)\n",
    "        ]\n",
    "        return pd.concat([df_stat, value_counts.to_frame()])\n",
    "    \n",
    "    @staticmethod\n",
    "    def feature_plot(x: pd.Series) -> plt.Axes:\n",
    "        \"\"\"Generates plot object.\n",
    "\n",
    "        Bar plot include present count of each credit card type.\n",
    "        \n",
    "        Parameters\n",
    "        ----------\n",
    "        series: pd.Series\n",
    "            The data to process.\n",
    "\n",
    "        Returns\n",
    "        -------\n",
    "        matplotlib.axes._subplots.AxesSubplot\n",
    "            Plot object for the series based on the CreditCard feature type.\n",
    "        \"\"\"\n",
    "        card_types = x.apply(assign_issuer)\n",
    "        df = card_types.value_counts().to_frame()\n",
    "        if len(df.index):\n",
    "            ax = sns.barplot(x=df.index, y=list(df.iloc[:, 0]), color='#76A2A0')\n",
    "            ax.set(xlabel=\"Issuing Financial Institution\")\n",
    "            ax.set(ylabel=\"Count\")\n",
    "            return ax"
   ]
  },
  {
   "cell_type": "markdown",
   "id": "45314a39",
   "metadata": {},
   "source": [
    "<a id=\"feature_type_register\"></a>\n",
    "## Register a Custom Feature Type\n",
    "\n",
    "To create a custom feature type, you need to create a class that is inherited from the `FeatureType` class. The class must be registered with ADS before it can be used. You do this using the `feature_type_manager.feature_type_register()` method and pass in the name of the class.\n",
    "\n",
    "Once the feature type class has been created, it must be registered with ADS using the `feature_type_manager.feature_type_register()` method. The next cell registers the `CustomCreditCard` and displays all feature types."
   ]
  },
  {
   "cell_type": "code",
   "execution_count": null,
   "id": "580c6947",
   "metadata": {},
   "outputs": [],
   "source": [
    "try:\n",
    "    feature_type_manager.feature_type_register(CustomCreditCard)\n",
    "except:\n",
    "    pass\n",
    "feature_type_manager.feature_type_registered()"
   ]
  },
  {
   "cell_type": "markdown",
   "id": "b1005174",
   "metadata": {},
   "source": [
    "<a id=\"feature_type_attributes\"></a>\n",
    "## Attributes\n",
    "\n",
    "The attributes `name` and `description` can be accessed in the standard method that the attributes of any class can be accessed. \n",
    "\n",
    "The name assigned to the `CustomCreditCard` class can be determined by calling `CustomCreditCard.name`."
   ]
  },
  {
   "cell_type": "code",
   "execution_count": null,
   "id": "ac71bd19",
   "metadata": {},
   "outputs": [],
   "source": [
    "CustomCreditCard.name"
   ]
  },
  {
   "cell_type": "markdown",
   "id": "1ab23d11",
   "metadata": {},
   "source": [
    "The same approach works for the `description` attribute."
   ]
  },
  {
   "cell_type": "code",
   "execution_count": null,
   "id": "d7df1d33",
   "metadata": {},
   "outputs": [],
   "source": [
    "CustomCreditCard.description"
   ]
  },
  {
   "cell_type": "markdown",
   "id": "284872c4",
   "metadata": {},
   "source": [
    "<a id=\"feature_type_stats\"></a>\n",
    "## Feature Type Statistics\n",
    "\n",
    "The `.feature_stat()` method is used to provide summary statistics about a Pandas series that are specific for the feature type. In the `CustomCreditCard` class, the summary statistics were count, unique credit card numbers, the number of missing values and the number of credit cards from each issuer. The power of the feature type statistic is that you can create any number of summary statistics that will adequately summarize your feature type.\n",
    "\n",
    "The summary statistics can be accessed by calling `.feature_stat()` on a series using the feature type class. The next cell creates a dataframe of credit cards and uses this approach to output the summary statistics."
   ]
  },
  {
   "cell_type": "code",
   "execution_count": null,
   "id": "4879b969",
   "metadata": {},
   "outputs": [],
   "source": [
    "creditcard_numbers = [\"4532640527811543\", \"4556929308150929\", \"4539944650919740\", \"4485348152450846\", \"4556593717607190\",\n",
    "                       \"5406644374892259\", \"5440870983256218\", \"5446977909157877\", \"5125379319578503\", \"5558757254105711\",\n",
    "                       \"371025944923273\", \"374745112042294\", \"340984902710890\", \"375767928645325\", \"370720852891659\",\n",
    "                       np.nan, None, \"\", \"111\", \"0\"]\n",
    "df = pd.DataFrame({'credit_card': creditcard_numbers})\n",
    "CustomCreditCard.feature_stat(df['credit_card'])"
   ]
  },
  {
   "cell_type": "markdown",
   "id": "4a5320b0",
   "metadata": {},
   "source": [
    "The more common approach to generating summary statistics is to call `.feature_stat()` on the Pandas series itself. Before doing this, the series needs to be associated with the feature type 'Custom Credit Card'. The next cell makes `df['credit_card']` have the feature type 'Custom Credit Card' and then displays the summary statistics."
   ]
  },
  {
   "cell_type": "code",
   "execution_count": null,
   "id": "b5ca8f2f",
   "metadata": {},
   "outputs": [],
   "source": [
    "df['credit_card'].ads.feature_type = ['Custom Credit Card']\n",
    "df['credit_card'].ads.feature_stat()"
   ]
  },
  {
   "cell_type": "markdown",
   "id": "a4aa6afb",
   "metadata": {},
   "source": [
    "<a id=\"feature_type_plot\"></a>\n",
    "## Feature Type Plot\n",
    "\n",
    "The `.feature_plot()` method is used to provide a univariate plot that is specific to a feature type.  You can create your own plot that will visualize your feature type. For the CustomCreditCard feature type, a bar chart was implemented in the `.feature_plot()` method. It counts the number of credit cards based on the issuing financial institution. It then sorts the counts from highest to lowest. The method returns a Seaborn plot object that can then be customized.\n",
    "\n",
    "The plot method can be accessed by calling `.feature_plot()` on a series. The next cell creates a Seaborn plot object for the feature type Custom Credit Card."
   ]
  },
  {
   "cell_type": "code",
   "execution_count": null,
   "id": "6d2677d4",
   "metadata": {},
   "outputs": [],
   "source": [
    "df['credit_card'].ads.feature_plot()"
   ]
  },
  {
   "cell_type": "markdown",
   "id": "05b93c78",
   "metadata": {},
   "source": [
    "<a id=\"feature_type_method\"></a>\n",
    "## Custom Method in a Feature Type Class\n",
    "\n",
    "It is often desirable to add methods to a feature type class that provide extra functionality when working with that feature type. In the `CustomCreditCard` class the method `.issuer()` was added. This method returns the name of the organization that issued the credit card number.\n",
    "\n",
    "The custom method can be accessed by calling `.issuer()` on a series using the feature type class. The next uses this approach to create a series for credit card issuers. This approach has the advantage that the series, `df['credit_card']` does not have to have the feature type `CustomCreditCard`."
   ]
  },
  {
   "cell_type": "code",
   "execution_count": null,
   "id": "f5d039a7",
   "metadata": {},
   "outputs": [],
   "source": [
    "CustomCreditCard.issuer(df['credit_card'])"
   ]
  },
  {
   "cell_type": "markdown",
   "id": "2dc83b37",
   "metadata": {},
   "source": [
    "The more common approach is to call `.issuer()` on the Pandas series itself. Before doing this, the series needs to be associated with the feature type 'Custom Credit Card'. The next cell makes `df['credit_card']` have the feature type 'Custom Credit Card' and issuer of each credit card number."
   ]
  },
  {
   "cell_type": "code",
   "execution_count": null,
   "id": "a201e601",
   "metadata": {},
   "outputs": [],
   "source": [
    "df['credit_card'].ads.feature_type = ['Custom Credit Card']\n",
    "df['credit_card'].ads.issuer()"
   ]
  },
  {
   "cell_type": "markdown",
   "id": "f4891af8",
   "metadata": {},
   "source": [
    "<a id='unregister_custom_type'></a>\n",
    "## Unregistering a Custom Feature Type\n",
    "\n",
    "To unregister custom feature type the `feature_type_manager.feature_type_unregister()` method can be used for this. This method accepts either a feature type object `feature_type_manager.feature_type_unregister(CustomCreditCard)` or its name `feature_type_manager.feature_type_unregister(\"Custom Credit Card\")`.\n",
    "\n",
    "The next cell unregisters the `CustomCreditCard` feature type and displays the currently registered feature types. Notice that `CustomCreditCard` is not listed."
   ]
  },
  {
   "cell_type": "code",
   "execution_count": null,
   "id": "3de574ae",
   "metadata": {},
   "outputs": [],
   "source": [
    "feature_type_manager.feature_type_unregister(CustomCreditCard)\n",
    "feature_type_manager.feature_type_registered()"
   ]
  },
  {
   "cell_type": "markdown",
   "id": "0e8f859e",
   "metadata": {},
   "source": [
    "<a id=\"reference\"></a>\n",
    "# References\n",
    "\n",
    "- [ADS Library Documentation](https://docs.cloud.oracle.com/en-us/iaas/tools/ads-sdk/latest/index.html)\n",
    "- [Data Science YouTube Videos](https://www.youtube.com/playlist?list=PLKCk3OyNwIzv6CWMhvqSB_8MLJIZdO80L)\n",
    "- [OCI Data Science Documentation](https://docs.cloud.oracle.com/en-us/iaas/data-science/using/data-science.htm)\n",
    "- [Oracle Data & AI Blog](https://blogs.oracle.com/datascience/)"
   ]
  }
 ],
 "metadata": {
  "kernelspec": {
   "display_name": "Python [conda env:dataexpl_p37_cpu_v3]",
   "language": "python",
   "name": "conda-env-dataexpl_p37_cpu_v3-py"
  },
  "language_info": {
   "codemirror_mode": {
    "name": "ipython",
    "version": 3
   },
   "file_extension": ".py",
   "mimetype": "text/x-python",
   "name": "python",
   "nbconvert_exporter": "python",
   "pygments_lexer": "ipython3",
   "version": "3.7.12"
  }
 },
 "nbformat": 4,
 "nbformat_minor": 5
}
