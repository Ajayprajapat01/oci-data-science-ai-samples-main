{
 "cells": [
  {
   "cell_type": "markdown",
   "id": "4496adb9",
   "metadata": {},
   "source": [
    "# <b>KeyValue Extraction</b>"
   ]
  },
  {
   "cell_type": "markdown",
   "id": "82a14c3a",
   "metadata": {},
   "source": [
    "The AIServiceDocumentClient offers the feature to create a custom <b>KeyValue extraction</b> model by giving a training dataset. This notebook aims to provide clarity on how to call the trained model. <br>\n",
    "<ul>\n",
    "    <li>The raw output is saved as <code>response_document.json</code> in the <code>output</code> directory. </li>\n",
    "</ul>"
   ]
  },
  {
   "cell_type": "markdown",
   "id": "a0502c5e",
   "metadata": {},
   "source": [
    "### Steps to run the notebook:\n",
    "<details>\n",
    "    <summary>Notebook session setup</summary>\n",
    "    <ol>\n",
    "        <li><font size=\"2\">Installing the OCI SDK</font></li>\n",
    "        <li><font size=\"2\">Installing other dependencies</font></li>\n",
    "        <li><font size=\"2\">Setup sample input images</font></li>\n",
    "        <li><font size=\"2\">Create output folder</font></li>\n",
    "        <li><font size=\"2\">Setup helper .py files</font></li>\n",
    "    </ol>\n",
    "</details>\n",
    "\n",
    "<details>\n",
    "    <summary>Importing the required modules</summary>\n",
    "</details>\n",
    "\n",
    "<details>\n",
    "    <summary>Setting the input variables</summary>\n",
    "     <font size=\"2\">The user can give input variables of their choice or can use the sample input given.</font>\n",
    "</details>\n",
    "\n",
    "<details>\n",
    "    <summary>Running the main pipeline</summary>\n",
    "    <font size=\"2\">Run all cells to get the output in the <code>output</code> directory. </font><br>\n",
    "</details>"
   ]
  },
  {
   "cell_type": "markdown",
   "id": "49b99ff0",
   "metadata": {},
   "source": [
    "### Notebook session setup\n",
    "<details>\n",
    "    <summary>Instructions</summary>\n",
    "    <ul>\n",
    "        <li><font size=\"2\">The user needs to setup only once.</font></li>\n",
    "        <li><font size=\"2\">Uncomment the commented cells and run once to setup.</font></li>\n",
    "        <li><font size=\"2\">Comment back the same cells to avoid running again.</font></li>\n",
    "    </ul>\n",
    "</details>"
   ]
  },
  {
   "cell_type": "markdown",
   "id": "a244515b",
   "metadata": {},
   "source": [
    "#### Installing the OCI Python SDK"
   ]
  },
  {
   "cell_type": "code",
   "execution_count": null,
   "id": "eb1c2f14",
   "metadata": {},
   "outputs": [],
   "source": [
    "# !pip3 install oci-cli\n",
    "# !pip3 install --trusted-host=artifactory.oci.oraclecorp.com -i https://artifactory.oci.oraclecorp.com/api/pypi/global-dev-pypi/simple -U oci==2.88.2+preview.1.5970"
   ]
  },
  {
   "cell_type": "markdown",
   "id": "deac9c4a",
   "metadata": {},
   "source": [
    "#### Installing other dependencies"
   ]
  },
  {
   "cell_type": "code",
   "execution_count": null,
   "id": "fd1af74f",
   "metadata": {},
   "outputs": [],
   "source": [
    "# !pip install matplotlib==3.3.4\n",
    "# !pip install pandas==1.1.5"
   ]
  },
  {
   "cell_type": "markdown",
   "id": "c47f5cfc",
   "metadata": {},
   "source": [
    "#### Setup sample input images"
   ]
  },
  {
   "cell_type": "code",
   "execution_count": null,
   "id": "29d51b98",
   "metadata": {},
   "outputs": [],
   "source": [
    "# !wget \"https://objectstorage.us-ashburn-1.oraclecloud.com/n/axhheqi2ofpb/b/document_demo_notebooks/o/Ladingbill.png\"\n",
    "# !mkdir data\n",
    "# !mv Ladingbill.png data"
   ]
  },
  {
   "cell_type": "markdown",
   "id": "4375eb7f",
   "metadata": {},
   "source": [
    "### Setup Path to store output in JSON format"
   ]
  },
  {
   "cell_type": "code",
   "execution_count": null,
   "id": "40dd0cff",
   "metadata": {},
   "outputs": [],
   "source": [
    "# !mkdir output"
   ]
  },
  {
   "cell_type": "markdown",
   "id": "1910b331",
   "metadata": {},
   "source": [
    "#### Setup helper .py files"
   ]
  },
  {
   "cell_type": "code",
   "execution_count": null,
   "id": "28c69716",
   "metadata": {},
   "outputs": [],
   "source": [
    "# !wget \"https://objectstorage.us-ashburn-1.oraclecloud.com/n/axhheqi2ofpb/b/document_demo_notebooks/o/analyze_document_utils.py\"\n",
    "# !mkdir helper\n",
    "# !mv analyze_document_utils.py helper"
   ]
  },
  {
   "cell_type": "markdown",
   "id": "4c8da98c",
   "metadata": {},
   "source": [
    "### Imports"
   ]
  },
  {
   "cell_type": "code",
   "execution_count": null,
   "id": "15e042b0",
   "metadata": {},
   "outputs": [],
   "source": [
    "import base64\n",
    "import uuid\n",
    "import io\n",
    "import json\n",
    "from PIL import Image\n",
    "import matplotlib.pyplot as plt\n",
    "import requests\n",
    "import oci\n",
    "from helper.analyze_document_utils import is_url, clean_output, display_classes, create_processor_job_callback"
   ]
  },
  {
   "cell_type": "markdown",
   "id": "c12e2f10",
   "metadata": {},
   "source": [
    "### Set input variables\n",
    "<details>\n",
    "<summary><font size=\"3\">input_path</font></summary>\n",
    "<font size=\"2\">The image URL or filepath from the notebook session.</font><br>\n",
    "</details>\n",
    "<details>\n",
    "<summary><font size=\"3\">compartment_id</font></summary>\n",
    "<font size=\"2\">The OCID of the compartment where the model is created. </font><br>\n",
    "</details>\n",
    "<details>\n",
    "<summary><font size=\"3\">namespace_name</font></summary>\n",
    "<font size=\"2\">The namespace name where you are working in OCI console. </font><br>\n",
    "</details>\n",
    "<details>\n",
    "<summary><font size=\"3\">bucket_name</font></summary>\n",
    "<font size=\"2\">The name of the bucket that is created in Lab1.  </font><br>\n",
    "</details>\n",
    "<details>\n",
    "<summary><font size=\"3\">model_id</font></summary>\n",
    "<font size=\"2\">The OCID of the model created in Lab2. This can be found in the model details. </font><br>\n",
    "</details>"
   ]
  },
  {
   "cell_type": "code",
   "execution_count": null,
   "id": "ac910658",
   "metadata": {},
   "outputs": [],
   "source": [
    "input_path = \"data/Ladingbill.png\"\n",
    "compartment_id = \"<compartment ID>\" \n",
    "namespace_name = \"<namespace>\" \n",
    "bucket_name = \"<bucketname>\"\n",
    "model_id = \"<model ID>\""
   ]
  },
  {
   "cell_type": "markdown",
   "id": "a4cf2f27",
   "metadata": {},
   "source": [
    "### Authorize user config"
   ]
  },
  {
   "cell_type": "code",
   "execution_count": null,
   "id": "454d8335",
   "metadata": {},
   "outputs": [],
   "source": [
    "config = oci.config.from_file('~/.oci/config')"
   ]
  },
  {
   "cell_type": "markdown",
   "id": "67a6c195",
   "metadata": {},
   "source": [
    "### View input image"
   ]
  },
  {
   "cell_type": "code",
   "execution_count": null,
   "id": "281069f0",
   "metadata": {},
   "outputs": [],
   "source": [
    "if is_url(input_path):\n",
    "    encoded_string = base64.b64encode(requests.get(input_path).content)\n",
    "else:\n",
    "    with open(input_path, \"rb\") as document_file:\n",
    "        encoded_string = base64.b64encode(document_file.read())\n",
    "\n",
    "image_data = base64.b64decode(encoded_string)\n",
    "image = Image.open(io.BytesIO(image_data))\n",
    "plt.gcf().set_dpi(200)\n",
    "plt.axis('off')\n",
    "plt.imshow(image)"
   ]
  },
  {
   "cell_type": "markdown",
   "id": "501bf963",
   "metadata": {},
   "source": [
    "### Create AI service document client"
   ]
  },
  {
   "cell_type": "code",
   "execution_count": null,
   "id": "f4db78ad",
   "metadata": {},
   "outputs": [],
   "source": [
    "ai_service_document_client = oci.ai_document.AIServiceDocumentClientCompositeOperations(oci.ai_document.AIServiceDocumentClient(config=config))\n",
    "key_value_extraction_feature = oci.ai_document.models.DocumentKeyValueExtractionFeature()\n",
    "key_value_extraction_feature.model_id = model_id"
   ]
  },
  {
   "cell_type": "markdown",
   "id": "4f0a7c9d",
   "metadata": {},
   "source": [
    "#### Create output folder"
   ]
  },
  {
   "cell_type": "code",
   "execution_count": null,
   "id": "111b1b6c",
   "metadata": {},
   "outputs": [],
   "source": [
    "output_location = oci.ai_document.models.OutputLocation()\n",
    "output_location.namespace_name = namespace_name\n",
    "output_location.bucket_name = bucket_name\n",
    "output_location.prefix = \"prefix\""
   ]
  },
  {
   "cell_type": "markdown",
   "id": "9b9b98d9",
   "metadata": {},
   "source": [
    "### Create Object for Processor Job Details"
   ]
  },
  {
   "cell_type": "code",
   "execution_count": null,
   "id": "7b70c734",
   "metadata": {},
   "outputs": [],
   "source": [
    "create_processor_job_details_key_value_extraction = oci.ai_document.models.CreateProcessorJobDetails(\n",
    "                                                    display_name=str(uuid.uuid4()),\n",
    "                                                    compartment_id=compartment_id,\n",
    "                                                    input_location=oci.ai_document.models.InlineDocumentContent(data=encoded_string.decode('utf-8')),\n",
    "                                                    output_location=output_location,\n",
    "                                                    processor_config=oci.ai_document.models.GeneralProcessorConfig(features=[key_value_extraction_feature]))\n"
   ]
  },
  {
   "cell_type": "markdown",
   "id": "c9ba1b7a",
   "metadata": {},
   "source": [
    "### Create the Processor Job\n",
    "The Processor Job is created and we wait for it to get completed successfully. It should finally move to <code>SUCCEEDED</code> state."
   ]
  },
  {
   "cell_type": "code",
   "execution_count": null,
   "id": "4400104c",
   "metadata": {},
   "outputs": [],
   "source": [
    "create_processor_response = ai_service_document_client.create_processor_job_and_wait_for_state(\n",
    "    create_processor_job_details=create_processor_job_details_key_value_extraction,\n",
    "    wait_for_states=[oci.ai_document.models.ProcessorJob.LIFECYCLE_STATE_SUCCEEDED],\n",
    "    waiter_kwargs={\"wait_callback\": create_processor_job_callback})\n",
    "print(\"Processor call is in {} state with request_id: {}.\\n\".format(create_processor_response.data.lifecycle_state, create_processor_response.request_id))"
   ]
  },
  {
   "cell_type": "markdown",
   "id": "1b3ace96",
   "metadata": {},
   "source": [
    "### Processor Job response"
   ]
  },
  {
   "cell_type": "code",
   "execution_count": null,
   "id": "c7a3c1de",
   "metadata": {},
   "outputs": [],
   "source": [
    "processor_job: oci.ai_document.models.ProcessorJob = create_processor_response.data\n",
    "print(create_processor_response.data)"
   ]
  },
  {
   "cell_type": "markdown",
   "id": "a97f572c",
   "metadata": {},
   "source": [
    "### Getting the output JSON file from Object Storage\n",
    "The Job output is stored in the output location specified by the user. We retrieve it using object storage client."
   ]
  },
  {
   "cell_type": "code",
   "execution_count": null,
   "id": "dc0cc537",
   "metadata": {},
   "outputs": [],
   "source": [
    "object_storage_client = oci.object_storage.ObjectStorageClient(config=config)\n",
    "get_object_response = object_storage_client.get_object(namespace_name=output_location.namespace_name,\n",
    "                                                       bucket_name=output_location.bucket_name,\n",
    "                                                       object_name=\"{}/{}/_/results/defaultObject.json\".format(\n",
    "                                                           output_location.prefix, processor_job.id))"
   ]
  },
  {
   "cell_type": "markdown",
   "id": "fa80767f",
   "metadata": {},
   "source": [
    "### Clean and save the API response as json"
   ]
  },
  {
   "cell_type": "code",
   "execution_count": null,
   "id": "ecbf3b59",
   "metadata": {},
   "outputs": [],
   "source": [
    "res_json = json.loads(str(get_object_response.data.content.decode('utf-8')))\n",
    "clean_res = clean_output(res_json)\n",
    "with open('output/response_document.json', 'w') as fp:\n",
    "    json.dump(clean_res, fp)"
   ]
  },
  {
   "cell_type": "markdown",
   "id": "b9030b7a",
   "metadata": {},
   "source": [
    "### Display the classes with their confidence levels"
   ]
  },
  {
   "cell_type": "code",
   "execution_count": null,
   "id": "94e91ff6",
   "metadata": {},
   "outputs": [],
   "source": [
    "display_classes(clean_res)"
   ]
  }
 ],
 "metadata": {
  "kernelspec": {
   "display_name": "Python 3.10.8 64-bit",
   "language": "python",
   "name": "python3"
  },
  "language_info": {
   "codemirror_mode": {
    "name": "ipython",
    "version": 3
   },
   "file_extension": ".py",
   "mimetype": "text/x-python",
   "name": "python",
   "nbconvert_exporter": "python",
   "pygments_lexer": "ipython3",
   "version": "3.10.8"
  },
  "vscode": {
   "interpreter": {
    "hash": "b0fa6594d8f4cbf19f97940f81e996739fb7646882a419484c72d19e05852a7e"
   }
  }
 },
 "nbformat": 4,
 "nbformat_minor": 5
}
