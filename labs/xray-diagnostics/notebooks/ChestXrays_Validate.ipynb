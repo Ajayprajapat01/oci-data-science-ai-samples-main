{
 "cells": [
  {
   "cell_type": "markdown",
   "metadata": {},
   "source": [
    "<font color=gray>Oracle Cloud Infrastructure Data Science Demo Notebook\n",
    "\n",
    "Copyright (c) 2021 Oracle, Inc.<br>\n",
    "Licensed under the Universal Permissive License v 1.0 as shown at https://oss.oracle.com/licenses/upl.\n",
    "</font>"
   ]
  },
  {
   "cell_type": "markdown",
   "metadata": {},
   "source": [
    "# Validation of the CNN Model  "
   ]
  },
  {
   "cell_type": "code",
   "execution_count": null,
   "metadata": {},
   "outputs": [],
   "source": [
    "%load_ext autoreload\n",
    "%autoreload 2\n",
    "\n",
    "import keras \n",
    "from keras.models import Sequential, load_model\n",
    "from keras.layers import Dense, Dropout, Flatten\n",
    "from keras.layers import Conv2D, MaxPooling2D\n",
    "from keras import backend as K\n",
    "from keras.utils import plot_model\n",
    "\n",
    "from matplotlib import pyplot as plt \n",
    "import numpy as np \n",
    "import json \n",
    "import urllib\n",
    "from zipfile import ZipFile \n",
    "import skimage as ski\n",
    "import os \n",
    "import pandas as pd \n",
    "import glob\n",
    "from numpy import random as random\n",
    "import urllib \n",
    "import tensorflow as tf\n",
    "\n",
    "from sklearn.metrics import confusion_matrix\n",
    "\n",
    "from skimage import transform \n",
    "from seaborn import heatmap \n",
    "\n",
    "from utilities import display_xray_image, evaluate_model_performance"
   ]
  },
  {
   "cell_type": "code",
   "execution_count": null,
   "metadata": {},
   "outputs": [],
   "source": [
    "path_to_train_dataset = f\"./data/chest_xray/train/\"\n",
    "path_to_test_dataset = f\"./data/chest_xray/test/\"\n",
    "model_artifact_path = f\"./model_artifact\"\n",
    "model_file = f\"xray_predictor4-march21.hdf5\"\n",
    "model_path = os.path.join(model_artifact_path, model_file)"
   ]
  },
  {
   "cell_type": "code",
   "execution_count": null,
   "metadata": {},
   "outputs": [],
   "source": [
    "# Pulling some statistics about the test dataset:\n",
    "\n",
    "pneumonia_test_list = glob.glob(path_to_test_dataset+'PNEUMONIA/*')\n",
    "normal_test_list = glob.glob(path_to_test_dataset+'NORMAL/*')\n",
    "test_list = pneumonia_test_list + normal_test_list\n",
    "print(\"Test sample size = {}, Pneumonia = {}, Normal = {}\".format(len(test_list), \n",
    "                                                                      len(pneumonia_test_list), \n",
    "                                                                      len(normal_test_list)))"
   ]
  },
  {
   "cell_type": "code",
   "execution_count": null,
   "metadata": {},
   "outputs": [],
   "source": [
    "# Building out the dataframe that will contain all the metadata about the x-ray images \n",
    "\n",
    "test_df = pd.DataFrame(data={\"path\":test_list})\n",
    "test_df[\"observed_class\"] = test_df[\"path\"].apply(lambda x: 0 if \"/NORMAL/\" in x else 1 )\n",
    "test_df[\"extension\"] = test_df[\"path\"].apply(lambda x: os.path.splitext(x)[1])"
   ]
  },
  {
   "cell_type": "code",
   "execution_count": null,
   "metadata": {},
   "outputs": [],
   "source": [
    "print(test_df.shape)"
   ]
  },
  {
   "cell_type": "code",
   "execution_count": null,
   "metadata": {},
   "outputs": [],
   "source": [
    "test_df.head()"
   ]
  },
  {
   "cell_type": "code",
   "execution_count": null,
   "metadata": {},
   "outputs": [],
   "source": [
    "display_xray_image(test_df['path'].iloc[0])"
   ]
  },
  {
   "cell_type": "markdown",
   "metadata": {},
   "source": [
    "## Image Transformations"
   ]
  },
  {
   "cell_type": "code",
   "execution_count": null,
   "metadata": {},
   "outputs": [],
   "source": [
    "# Defining those image transformations: \n",
    "\n",
    "def image_transformations(image_path, dims=(200, 300)): \n",
    "    \"\"\"\n",
    "    \"\"\"\n",
    "    # Resize the original image. Consistent with training dataset: \n",
    "    image = transform.resize(ski.io.imread(image_path), output_shape=dims)\n",
    "    # Take the first channel only: \n",
    "    image = image[:,:,0] if len(image.shape)>2 else image\n",
    "    return image"
   ]
  },
  {
   "cell_type": "code",
   "execution_count": null,
   "metadata": {},
   "outputs": [],
   "source": [
    "# Applying transformations to images and observed labels: \n",
    "\n",
    "test_df['resized_image'] = test_df['path'].apply(lambda x: image_transformations(x))\n",
    "\n",
    "# encoding the class as a numpy array: \n",
    "test_df['y'] = test_df['observed_class'].apply(lambda x: np.array([0, 1]) \n",
    "                                            if x==1 else  np.array([1, 0]))\n",
    "\n",
    "Xtest = test_df['resized_image'].values \n",
    "Ytest = test_df['y'].values\n",
    "\n",
    "Xtest = np.asarray([i.reshape(200,300,1) for i in Xtest])\n",
    "Ytest = np.asarray([i.reshape(2) for i in Ytest])"
   ]
  },
  {
   "cell_type": "code",
   "execution_count": null,
   "metadata": {},
   "outputs": [],
   "source": [
    "print(\"Xtest shape: {}, Ytest shape: {}\".format(Xtest.shape, Ytest.shape))"
   ]
  },
  {
   "cell_type": "code",
   "execution_count": null,
   "metadata": {},
   "outputs": [],
   "source": [
    "display_xray_image(test_df.iloc[0]['resized_image'])"
   ]
  },
  {
   "cell_type": "markdown",
   "metadata": {},
   "source": [
    "# Evaluating the CNN model "
   ]
  },
  {
   "cell_type": "code",
   "execution_count": null,
   "metadata": {},
   "outputs": [],
   "source": [
    "model = keras.models.load_model(model_path)"
   ]
  },
  {
   "cell_type": "code",
   "execution_count": null,
   "metadata": {},
   "outputs": [],
   "source": [
    "evaluate_model_performance(model_path, Xtest, Ytest, test_df['observed_class'].values, \n",
    "                           labels=[\"normal\", \"pneumonia\"])"
   ]
  },
  {
   "cell_type": "code",
   "execution_count": null,
   "metadata": {},
   "outputs": [],
   "source": []
  }
 ],
 "metadata": {
  "kernelspec": {
   "display_name": "Python [conda env:mlcpuv1]",
   "language": "python",
   "name": "conda-env-mlcpuv1-py"
  },
  "language_info": {
   "codemirror_mode": {
    "name": "ipython",
    "version": 3
   },
   "file_extension": ".py",
   "mimetype": "text/x-python",
   "name": "python",
   "nbconvert_exporter": "python",
   "pygments_lexer": "ipython3",
   "version": "3.6.11"
  }
 },
 "nbformat": 4,
 "nbformat_minor": 4
}
