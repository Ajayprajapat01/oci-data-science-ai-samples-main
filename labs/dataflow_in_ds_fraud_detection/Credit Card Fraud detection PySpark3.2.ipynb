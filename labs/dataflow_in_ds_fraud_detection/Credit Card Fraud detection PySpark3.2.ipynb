{
 "cells": [
  {
   "cell_type": "markdown",
   "metadata": {},
   "source": [
    "Copyright (c) 2022 Oracle, Inc. All rights reserved. Licensed under the [Universal Permissive License v 1.0](https://oss.oracle.com/licenses/upl).\n",
    "\n",
    "---\n",
    "\n",
    "# <font color=\"red\">Train and Deploy Models from Massive Datasets</font>\n",
    "## <font color=\"red\">Credit Card Fraud Detection use-case</font>\n",
    "<p style=\"margin-left:10%; margin-right:10%;\">by the <font color=\"teal\">Oracle Cloud Infrastructure Data Science Service.</font></p>\n",
    "\n",
    "---\n",
    "\n",
    "# Overview:\n",
    "\n",
    "Credit card fraud is a major source of losses for any merchant, and the prevalence of this form of payment combined with the increase in online transactions makes it an important issue to try to tackle.\n",
    "\n",
    "However fraud is still a small fraction of all transactions and training a machine learning model for this purpose tends to require a vast amount of data.\n",
    "\n",
    "In this notebook, you will learn how to work with Spark within the [Data Science](https://docs.oracle.com/en-us/iaas/data-science/using/data-science.htm) service. [Spark](https://spark.apache.org/docs/latest/) is a distributed computing framework which is available as a service on Oracle Cloud Infrastructure (OCI) as [Data Flow](https://docs.oracle.com/en-us/iaas/data-flow/using/dfs_getting_started.htm); a fully managed Spark deployment.\n",
    "\n",
    "You will explore a synthetic dataset of credit card transactions, try models and evaluate their performance on this dataset. You will create Spark applications to run training and batch scoring on Oracle Cloud Infrastructure Data Flow, the Oracle serverless Spark platform, and then deploy a model inference server callable via a REST endpoint.\n",
    "\n"
   ]
  },
  {
   "cell_type": "markdown",
   "metadata": {},
   "source": [
    "<a id=\"feature1\"></a>\n",
    "## Prerequisites\n",
    "\n",
    "- Experience with the specific Topic: Intermediate.\n",
    "\n",
    "- Professional experience: None\n",
    "\n",
    "- To run this notebook, your tenancy needs to be set up to use Data Flow. See [https://docs.oracle.com/en-us/iaas/data-flow/using/dfs_getting_started.htm](https://docs.oracle.com/en-us/iaas/data-flow/using/dfs_getting_started.htm) to get started.\n",
    "\n",
    "- To run this notebook, use the PySpark CPU v4 conda environment. To install use:\n",
    "\n",
    "    ```\n",
    "    odsc conda install -s pyspark32_p38_cpu_v2\n",
    "    ```\n",
    "\n",
    "\n",
    "- The notebook requires an Object Storage bucket to store the code that will be created and used by Data Flow applications, and an Object Storage bucket for the data.\n",
    "\n",
    "- The data generation part of this use-case can be very time-consuming, depending on the amount of data you wish to generate. We recommend the use of the shape with at least 8 OCPUs. Generating terabytes of data can take several hours. To run this notebook, a medium-size dataset that can be generated in a few minutes is sufficient, but to obtain the best-performing model, training on the largest dataset is needed.\n"
   ]
  },
  {
   "cell_type": "markdown",
   "metadata": {},
   "source": [
    "---\n",
    "\n",
    "## Contents:\n",
    "\n",
    "- <a href='#use_case'>Introduction</a>\n",
    "- <a href=\"#setup\">1. Setup</a>\n",
    "    - <a href=\"#variables\">1.1. Variables</a>\n",
    "    - <a href=\"#utilities\">1.2. Utility Functions</a>\n",
    "- <a href=\"#dataset\">2. Generate the Dataset</a>\n",
    "- <a href=\"#store_data\">3. Store Dataset on Object Storage</a>\n",
    "- <a href=\"#explore\">4. Explore the Dataset</a>\n",
    "    - <a href=\"#customer_info\">4.1. Customer Information</a>\n",
    "        - <a href=\"#age\">4.1.1. Customer Age</a>\n",
    "        - <a href=\"#gender\">4.1.2. Customer Gender</a>\n",
    "        - <a href=\"#city_population\">4.1.3. Customer City Population</a>\n",
    "    - <a href=\"#transaction_info\">4.2. Transaction Information</a>\n",
    "        - <a href=\"#day_of_week\">4.2.1. Day of Week</a>\n",
    "        - <a href=\"#weekend\">4.2.2. Weekend or Weekday</a>\n",
    "        - <a href=\"#month_of_year\">4.2.3. Month of the Year</a>\n",
    "        - <a href=\"#time_of_day\">4.2.4. Time of Day</a>\n",
    "        - <a href=\"#amount\">4.2.5. Transaction Amount</a>\n",
    "        - <a href=\"#category\">4.2.6. Merchant Category</a>\n",
    "        - <a href=\"#distance\">4.2.7. Distance to Merchant</a>\n",
    "- <a href=\"#features\">5. Feature Engineering</a>\n",
    "    - <a href=\"#build_features\">5.1. Build the feature set</a>\n",
    "    - <a href=\"#split_set\">5.2. Split Train and Test sets</a>\n",
    "    - <a href=\"#rebalance\">5.3. Balance Classes</a>\n",
    "    - <a href=\"#eval_helper\">5.4. Model Evaluation helper</a>\n",
    "- <a href=\"#model_selection\">6. Model Selection</a>\n",
    "    - <a href=\"#lr\">6.1. Logistic Regression Model</a>\n",
    "    - <a href=\"#dt\">6.2. Decision Tree Classifier Model</a>\n",
    "    - <a href=\"#rf\">6.3. Random Forest Classifier</a>\n",
    "    - <a href=\"#gbt\">6.4. Gradient Boosted Trees</a>\n",
    "- <a href=\"#df_training\">7. Running Training on OCI Data Flow</a>\n",
    "    - <a href=\"#training_script\">7.1. Data Flow Training Application script</a>\n",
    "    - <a href=\"#test_training\">7.2. Test the Data Flow Application script locally</a>\n",
    "    - <a href=\"#training_app\">7.3. Create the Data Flow Application</a>\n",
    "    - <a href=\"#training_run\">7.4. Create a Data Flow Training Run</a>\n",
    "    - <a href=\"#edit_script\">7.5. Editing Data Flow applications</a>\n",
    "- <a href=\"#df_scoring\">8. Create a Batch Scoring Application</a>\n",
    "    - <a href=\"#scoring_script\">8.1. Data Flow Batch Scoring Application script</a>\n",
    "    - <a href=\"#scoring_run\">8.2. Create a Data Flow Run for scoring</a>\n",
    "- <a href=\"#model_cat\">9. Create a Model in Model Catalog</a>\n",
    "    - <a href=\"#artifact\">9.1. Prepare the Model Artifact for Model Catalog</a>\n",
    "    - <a href=\"#model_script\">9.2. Create the Inference Model script</a>\n",
    "    - <a href=\"#pull_model\">9.3. Get the trained model into the model deployment folder</a>\n",
    "    - <a href=\"#save_to_cat\">9.4. Save the model into Model Catalog</a>\n",
    "    - <a href=\"#test_model\">9.5. Test the model locally</a>\n",
    "- <a href=\"#md\">10. Deploy the model</a>\n",
    "    - <a href=\"#md_create\">10.1 Create a Model Deployment and Endpoint</a>\n",
    "    - <a href=\"#test_md\">10.2 Test the Model Deployment Endpoint</a>\n",
    "- <a href=\"#clean\">11. Clean up</a>\n",
    "    - <a href=\"#md_clean\">11.1 Clean up model deployment</a>\n",
    "    - <a href=\"#clean_mc\">11.2 Remove the model from Model Catalog</a>\n",
    "    - <a href=\"#clean_mc\">11.3 Delete Data Flow applications</a>\n",
    "    - <a href=\"#clean_mc\">11.4 Delete Local files</a>\n",
    "    - <a href=\"#clean_mc\">11.5 Delete the datasets and dataset generator</a>\n",
    "- <a href=\"#reference\">References</a>\n",
    "\n",
    "---\n",
    "\n",
    "**Important:**\n",
    "\n",
    "Placeholder text for required values are surrounded by angle brackets that must be removed when adding the indicated content. For example, when adding a database name to `database_name = \"<database_name>\"` would become `database_name = \"production\"`."
   ]
  },
  {
   "cell_type": "code",
   "execution_count": null,
   "metadata": {},
   "outputs": [],
   "source": [
    "# make sure ads is version 2.6.2 (2.6.3 to 2.6.6 had a bug)\n",
    "!pip install -U oracle-ads==2.6.2 matplotlib==3.3.0 --quiet"
   ]
  },
  {
   "cell_type": "code",
   "execution_count": 1,
   "metadata": {},
   "outputs": [],
   "source": [
    "import ads\n",
    "import json\n",
    "import matplotlib.pyplot as plt\n",
    "import numpy as np\n",
    "import oci\n",
    "import ocifs\n",
    "import os\n",
    "import pandas as pd\n",
    "import pyspark\n",
    "import re\n",
    "import requests\n",
    "import sys\n",
    "\n",
    "from ads.catalog.model import ModelCatalog\n",
    "from ads.common.model_artifact import ModelArtifact\n",
    "from ads.common.model_export_util import prepare_generic_model\n",
    "from ads.dataflow.dataflow import DataFlow\n",
    "from ads.model.generic_model import GenericModel\n",
    "from ads.model.deployment import ModelDeployer\n",
    "\n",
    "from datetime import datetime\n",
    "from glob import glob\n",
    "\n",
    "from pyspark import SparkContext\n",
    "from pyspark.conf import SparkConf\n",
    "from pyspark.ml import Pipeline, PipelineModel\n",
    "from pyspark.ml.classification import DecisionTreeClassifier, GBTClassifier, LogisticRegression, RandomForestClassifier\n",
    "from pyspark.ml.evaluation import BinaryClassificationEvaluator\n",
    "from pyspark.ml.feature import StringIndexer, OneHotEncoder, VectorAssembler\n",
    "from pyspark.ml.functions import vector_to_array\n",
    "\n",
    "from sklearn.metrics import auc, confusion_matrix, ConfusionMatrixDisplay, precision_recall_curve, \\\n",
    "                            PrecisionRecallDisplay, roc_auc_score, roc_curve, RocCurveDisplay\n",
    "\n",
    "from pyspark.sql.functions import *\n",
    "from pyspark.sql import SparkSession\n",
    "from pyspark.sql.types import FloatType\n"
   ]
  },
  {
   "cell_type": "markdown",
   "metadata": {},
   "source": [
    "<a id='use_case'></a>\n",
    "# Introduction\n",
    "\n",
    "<a id='setup'></a>\n",
    "## 1. Setup\n",
    "\n",
    "<a id='variables'></a>\n",
    "### 1.1 Variables\n",
    "\n",
    "Please populate the variables in the next cell with your own values."
   ]
  },
  {
   "cell_type": "code",
   "execution_count": 2,
   "metadata": {},
   "outputs": [],
   "source": [
    "# home folder\n",
    "home_folder = '~/'\n",
    "# Object Storage tenancy namespace\n",
    "tenancy_namespace = '<namespace>'\n",
    "# Data bucket name, where the data will be stored\n",
    "data_bucket_name = '<bucket_name>'\n",
    "# code bucket name, where the Data Flow code will be stored\n",
    "code_bucket_name = '<bucket_name>'\n",
    "# logs bucket name, where Data Flow log files will be sent\n",
    "logs_bucket_name = '<bucket_name>'"
   ]
  },
  {
   "cell_type": "markdown",
   "metadata": {},
   "source": [
    "Configure resource principal for the local Spark context. This allow access to things like Object Storage from the local Spark instance."
   ]
  },
  {
   "cell_type": "code",
   "execution_count": 4,
   "metadata": {},
   "outputs": [
    {
     "name": "stdout",
     "output_type": "stream",
     "text": [
      "The core-site.xml is being written to /home/datascience/spark_conf_dir/core-site.xml\n"
     ]
    }
   ],
   "source": [
    "!odsc core-site config --overwrite --authentication resource_principal"
   ]
  },
  {
   "cell_type": "markdown",
   "metadata": {},
   "source": [
    "If the Data Science environment does not use Resource Principal, you can set up authentication using an API key with:"
   ]
  },
  {
   "cell_type": "code",
   "execution_count": 5,
   "metadata": {},
   "outputs": [],
   "source": [
    "# uncomment to use the following:\n",
    "# !odsc core-site config --overwrite --authentication api_key"
   ]
  },
  {
   "cell_type": "markdown",
   "metadata": {},
   "source": [
    "<a id=\"utilities\"></a>\n",
    "### 1.2. Utility Functions\n",
    "\n",
    "In this section, you will define utility functions to get a Spark session. The way to obtain the Spark session depends on whether the code runs locally, in a Data Science Notebook or in Data Flow."
   ]
  },
  {
   "cell_type": "code",
   "execution_count": 6,
   "metadata": {},
   "outputs": [],
   "source": [
    "def is_in_oci():\n",
    "    return os.environ.get(\"HOME\") == \"/home/dataflow\" or os.environ.get(\"HOME\") == \"/home/datascience\"\n",
    "\n",
    "def get_spark_session(\n",
    "        app_name, \n",
    "        file_location=None, \n",
    "        profile_name=None, \n",
    "        spark_config={}\n",
    "    ):\n",
    "    \"\"\"\n",
    "    Get a Spark session in a way that supports running locally or in Data Flow.\n",
    "    \"\"\"\n",
    "    \n",
    "    # If we are in Data Flow or Data Science, we assume the instance uses Instance Principal \n",
    "    # for authorization, and we can create a Spark Session Builder without config\n",
    "    if is_in_oci():\n",
    "        spark_builder = SparkSession.builder.appName(app_name)\n",
    "        \n",
    "    # If we run on a local machine, we need to provide authentication from the OCI config\n",
    "    else:\n",
    "        # Import OCI.\n",
    "        try:\n",
    "            import oci\n",
    "        except:\n",
    "            raise Exception(\n",
    "                \"You need to install the OCI python library to test locally\"\n",
    "            )\n",
    "        # Use defaults for anything unset.\n",
    "        if file_location is None:\n",
    "            file_location = oci.config.DEFAULT_LOCATION\n",
    "        if profile_name is None:\n",
    "            profile_name = oci.config.DEFAULT_PROFILE\n",
    "\n",
    "        # Load the config file.\n",
    "        try:\n",
    "            oci_config = oci.config.from_file(\n",
    "                file_location=file_location, profile_name=profile_name\n",
    "            )\n",
    "        except Exception as e:\n",
    "            print(\"You need to set up your OCI config properly to run locally\")\n",
    "            raise e\n",
    "        conf = SparkConf()\n",
    "        conf.set(\"fs.oci.client.auth.tenantId\", oci_config[\"tenancy\"])\n",
    "        conf.set(\"fs.oci.client.auth.userId\", oci_config[\"user\"])\n",
    "        conf.set(\"fs.oci.client.auth.fingerprint\", oci_config[\"fingerprint\"])\n",
    "        conf.set(\"fs.oci.client.auth.pemfilepath\", oci_config[\"key_file\"])\n",
    "        conf.set(\n",
    "            \"fs.oci.client.hostname\",\n",
    "            \"https://objectstorage.\\{0\\}.oraclecloud.com\".format(oci_config[\"region\"]),\n",
    "        )\n",
    "        spark_builder = SparkSession.builder.appName(app_name).config(conf=conf)\n",
    "\n",
    "    # Add in extra configuration.\n",
    "    for key, val in spark_config.items():\n",
    "        spark_builder.config(key, val)\n",
    "\n",
    "    # Create the Spark session.\n",
    "    session = spark_builder.getOrCreate()\n",
    "    return session\n",
    "        "
   ]
  },
  {
   "cell_type": "markdown",
   "metadata": {},
   "source": [
    "<a id=\"dataset\"></a>\n",
    "## 2. Generate the Dataset\n",
    "\n",
    "In this section, you will generate a synthetic credit card transaction dataset, using the project at [https://github.com/namebrandon/Sparkov_Data_Generation](https://github.com/namebrandon/Sparkov_Data_Generation)\n",
    "\n",
    "\n",
    "- Go to the Launcher, open a Terminal window and perform the following tasks:\n",
    "\n",
    "- Clone the data generation repository:\n",
    "\n",
    "    ```bash\n",
    "    git clone https://github.com/namebrandon/Sparkov_Data_Generation\n",
    "    ```\n",
    "\n",
    "\n",
    "- Get into the `Sparkov_Data_Generation` folder and install the requirements:\n",
    "\n",
    "    ```bash\n",
    "    cd Sparkov_Data_Generation\n",
    "    pip install -r requirements.txt\n",
    "    ```\n",
    "\n",
    "\n",
    "- Generate a small training dataset with 100 customers and transactions over 2 years:\n",
    "\n",
    "    ```bash\n",
    "    python datagen.py -n 100 -o \"data/training set/small\" 01-01-2012 12-31-2013\n",
    "    ```\n",
    "\n",
    "\n",
    "- Generate a medium training dataset with 1000 customers and transactions over 2 years:\n",
    "\n",
    "    ```bash\n",
    "    python datagen.py -n 1000 -o \"data/training set/medium\" 01-01-2012 12-31-2013\n",
    "    ```\n",
    "\n",
    "\n",
    "- Generate a medium scoring dataset with 1000 customers and transactions over 2 years:\n",
    "\n",
    "    ```bash\n",
    "    python datagen.py -n 1000 -o \"data/scoring set/medium\" 01-01-2012 12-31-2013\n",
    "    ```\n",
    "\n",
    "\n",
    "- To generate a very large training dataset of ~1.5TB and ~5.5B records, to use as a realistic out-of-memory training set with the Data Flow application, use the settings below.\n",
    "\n",
    "    Note: this will take a minimum of 2h on the largest shape VM available, and requires that you have selected at least 2000GB of storage when provisioning the notebook session. You can skip this step and run the notebook with the medium dataset but will get the best-performing model only when training with the very large dataset.\n",
    "\n",
    "    ```bash\n",
    "    python datagen.py -n 250000 -o \"data/training set/xlarge\" 01-01-2000 12-31-2020\n",
    "    ```\n",
    "\n",
    "The data generated is located in the data folder of the Sparkov_Data_Generation project.\n",
    "\n",
    "The file pattern insures all csv files named after the profiles are picked up, excluding the 'customers.csv'. Data files include *male*.csv and *female*.csv so *male*.csv covers both. In this notebook, the medium dataset is used for exploration.\n"
   ]
  },
  {
   "cell_type": "code",
   "execution_count": 7,
   "metadata": {},
   "outputs": [],
   "source": [
    "data_folder = os.path.join(os.path.expanduser(home_folder), 'Sparkov_Data_Generation/data/')\n",
    "file_pattern = 'training set/medium/*male*.csv'"
   ]
  },
  {
   "cell_type": "markdown",
   "metadata": {},
   "source": [
    "<a id=\"store_data\"></a>\n",
    "## 3. Store Dataset on Object Storage\n",
    "\n",
    "The Data Flow applications cannot access the local storage on the Data Science notebook, so the data needs to be moved to Object Storage.\n",
    "\n",
    "The helper function in the following cell moves the local files to the data Object Storage bucket defined in setup."
   ]
  },
  {
   "cell_type": "code",
   "execution_count": 8,
   "metadata": {},
   "outputs": [],
   "source": [
    "def store_on_oss(tenancy_namespace, bucket_name, data_folder, file_pattern):\n",
    "    if is_in_oci():\n",
    "        signer = oci.auth.signers.get_resource_principals_signer()\n",
    "        object_storage_client = oci.object_storage.ObjectStorageClient(config={}, signer=signer)\n",
    "    else:\n",
    "        config = oci.config.from_file()\n",
    "        object_storage_client = oci.object_storage.ObjectStorageClient(config)\n",
    "\n",
    "    files = glob(data_folder + file_pattern)\n",
    "    file_count = len(files)\n",
    "    for i, file in enumerate(files):\n",
    "        print(f'{i + 1}/{file_count} copy: {file}')\n",
    "        filename = file.replace(data_folder, '')\n",
    "        print(f'{i + 1}/{file_count} to: {bucket_name}@{tenancy_namespace}/{filename}')\n",
    "        with open(file, 'r') as f:\n",
    "            put_object_response = object_storage_client.put_object(\n",
    "                namespace_name=tenancy_namespace,\n",
    "                bucket_name=bucket_name,\n",
    "                object_name=filename,\n",
    "                put_object_body=f\n",
    "            )\n",
    "        # sign in every so often because the auth has a timeout\n",
    "        if i == 100:\n",
    "            signer = oci.auth.signers.get_resource_principals_signer()\n",
    "            object_storage_client = oci.object_storage.ObjectStorageClient(config={}, signer=signer)"
   ]
  },
  {
   "cell_type": "code",
   "execution_count": 66,
   "metadata": {
    "collapsed": true,
    "jupyter": {
     "outputs_hidden": true
    }
   },
   "outputs": [
    {
     "name": "stdout",
     "output_type": "stream",
     "text": [
      "1/60 copy: /home/datascience/Sparkov_Data_Generation/data/training set/medium/young_adults_male_urban_200-399.csv\n",
      "1/60 to: fraud-detection-data@bigdatadatasciencelarge/training set/medium/young_adults_male_urban_200-399.csv\n",
      "2/60 copy: /home/datascience/Sparkov_Data_Generation/data/training set/medium/adults_50up_male_urban_600-799.csv\n",
      "2/60 to: fraud-detection-data@bigdatadatasciencelarge/training set/medium/adults_50up_male_urban_600-799.csv\n",
      "3/60 copy: /home/datascience/Sparkov_Data_Generation/data/training set/medium/young_adults_male_rural_200-399.csv\n",
      "3/60 to: fraud-detection-data@bigdatadatasciencelarge/training set/medium/young_adults_male_rural_200-399.csv\n",
      "4/60 copy: /home/datascience/Sparkov_Data_Generation/data/training set/medium/adults_2550_female_rural_600-799.csv\n",
      "4/60 to: fraud-detection-data@bigdatadatasciencelarge/training set/medium/adults_2550_female_rural_600-799.csv\n",
      "5/60 copy: /home/datascience/Sparkov_Data_Generation/data/training set/medium/young_adults_female_rural_200-399.csv\n",
      "5/60 to: fraud-detection-data@bigdatadatasciencelarge/training set/medium/young_adults_female_rural_200-399.csv\n",
      "6/60 copy: /home/datascience/Sparkov_Data_Generation/data/training set/medium/adults_50up_male_urban_800-999.csv\n",
      "6/60 to: fraud-detection-data@bigdatadatasciencelarge/training set/medium/adults_50up_male_urban_800-999.csv\n",
      "7/60 copy: /home/datascience/Sparkov_Data_Generation/data/training set/medium/young_adults_male_rural_600-799.csv\n",
      "7/60 to: fraud-detection-data@bigdatadatasciencelarge/training set/medium/young_adults_male_rural_600-799.csv\n",
      "8/60 copy: /home/datascience/Sparkov_Data_Generation/data/training set/medium/young_adults_female_rural_000-199.csv\n",
      "8/60 to: fraud-detection-data@bigdatadatasciencelarge/training set/medium/young_adults_female_rural_000-199.csv\n",
      "9/60 copy: /home/datascience/Sparkov_Data_Generation/data/training set/medium/adults_2550_male_rural_400-599.csv\n",
      "9/60 to: fraud-detection-data@bigdatadatasciencelarge/training set/medium/adults_2550_male_rural_400-599.csv\n",
      "10/60 copy: /home/datascience/Sparkov_Data_Generation/data/training set/medium/adults_50up_male_rural_400-599.csv\n",
      "10/60 to: fraud-detection-data@bigdatadatasciencelarge/training set/medium/adults_50up_male_rural_400-599.csv\n",
      "11/60 copy: /home/datascience/Sparkov_Data_Generation/data/training set/medium/young_adults_male_urban_600-799.csv\n",
      "11/60 to: fraud-detection-data@bigdatadatasciencelarge/training set/medium/young_adults_male_urban_600-799.csv\n",
      "12/60 copy: /home/datascience/Sparkov_Data_Generation/data/training set/medium/adults_50up_female_rural_600-799.csv\n",
      "12/60 to: fraud-detection-data@bigdatadatasciencelarge/training set/medium/adults_50up_female_rural_600-799.csv\n",
      "13/60 copy: /home/datascience/Sparkov_Data_Generation/data/training set/medium/young_adults_male_rural_000-199.csv\n",
      "13/60 to: fraud-detection-data@bigdatadatasciencelarge/training set/medium/young_adults_male_rural_000-199.csv\n",
      "14/60 copy: /home/datascience/Sparkov_Data_Generation/data/training set/medium/young_adults_female_urban_000-199.csv\n",
      "14/60 to: fraud-detection-data@bigdatadatasciencelarge/training set/medium/young_adults_female_urban_000-199.csv\n",
      "15/60 copy: /home/datascience/Sparkov_Data_Generation/data/training set/medium/adults_50up_female_urban_400-599.csv\n",
      "15/60 to: fraud-detection-data@bigdatadatasciencelarge/training set/medium/adults_50up_female_urban_400-599.csv\n",
      "16/60 copy: /home/datascience/Sparkov_Data_Generation/data/training set/medium/young_adults_female_urban_200-399.csv\n",
      "16/60 to: fraud-detection-data@bigdatadatasciencelarge/training set/medium/young_adults_female_urban_200-399.csv\n",
      "17/60 copy: /home/datascience/Sparkov_Data_Generation/data/training set/medium/adults_2550_male_rural_800-999.csv\n",
      "17/60 to: fraud-detection-data@bigdatadatasciencelarge/training set/medium/adults_2550_male_rural_800-999.csv\n",
      "18/60 copy: /home/datascience/Sparkov_Data_Generation/data/training set/medium/adults_50up_male_urban_400-599.csv\n",
      "18/60 to: fraud-detection-data@bigdatadatasciencelarge/training set/medium/adults_50up_male_urban_400-599.csv\n",
      "19/60 copy: /home/datascience/Sparkov_Data_Generation/data/training set/medium/adults_50up_female_urban_800-999.csv\n",
      "19/60 to: fraud-detection-data@bigdatadatasciencelarge/training set/medium/adults_50up_female_urban_800-999.csv\n",
      "20/60 copy: /home/datascience/Sparkov_Data_Generation/data/training set/medium/adults_2550_male_urban_400-599.csv\n",
      "20/60 to: fraud-detection-data@bigdatadatasciencelarge/training set/medium/adults_2550_male_urban_400-599.csv\n",
      "21/60 copy: /home/datascience/Sparkov_Data_Generation/data/training set/medium/adults_50up_male_rural_000-199.csv\n",
      "21/60 to: fraud-detection-data@bigdatadatasciencelarge/training set/medium/adults_50up_male_rural_000-199.csv\n",
      "22/60 copy: /home/datascience/Sparkov_Data_Generation/data/training set/medium/adults_2550_male_urban_000-199.csv\n",
      "22/60 to: fraud-detection-data@bigdatadatasciencelarge/training set/medium/adults_2550_male_urban_000-199.csv\n",
      "23/60 copy: /home/datascience/Sparkov_Data_Generation/data/training set/medium/adults_2550_male_rural_600-799.csv\n",
      "23/60 to: fraud-detection-data@bigdatadatasciencelarge/training set/medium/adults_2550_male_rural_600-799.csv\n",
      "24/60 copy: /home/datascience/Sparkov_Data_Generation/data/training set/medium/young_adults_male_urban_400-599.csv\n",
      "24/60 to: fraud-detection-data@bigdatadatasciencelarge/training set/medium/young_adults_male_urban_400-599.csv\n",
      "25/60 copy: /home/datascience/Sparkov_Data_Generation/data/training set/medium/adults_50up_male_rural_800-999.csv\n",
      "25/60 to: fraud-detection-data@bigdatadatasciencelarge/training set/medium/adults_50up_male_rural_800-999.csv\n",
      "26/60 copy: /home/datascience/Sparkov_Data_Generation/data/training set/medium/young_adults_female_rural_600-799.csv\n",
      "26/60 to: fraud-detection-data@bigdatadatasciencelarge/training set/medium/young_adults_female_rural_600-799.csv\n",
      "27/60 copy: /home/datascience/Sparkov_Data_Generation/data/training set/medium/young_adults_male_rural_800-999.csv\n",
      "27/60 to: fraud-detection-data@bigdatadatasciencelarge/training set/medium/young_adults_male_rural_800-999.csv\n",
      "28/60 copy: /home/datascience/Sparkov_Data_Generation/data/training set/medium/adults_50up_female_urban_000-199.csv\n",
      "28/60 to: fraud-detection-data@bigdatadatasciencelarge/training set/medium/adults_50up_female_urban_000-199.csv\n",
      "29/60 copy: /home/datascience/Sparkov_Data_Generation/data/training set/medium/adults_2550_female_rural_200-399.csv\n",
      "29/60 to: fraud-detection-data@bigdatadatasciencelarge/training set/medium/adults_2550_female_rural_200-399.csv\n",
      "30/60 copy: /home/datascience/Sparkov_Data_Generation/data/training set/medium/young_adults_male_urban_800-999.csv\n",
      "30/60 to: fraud-detection-data@bigdatadatasciencelarge/training set/medium/young_adults_male_urban_800-999.csv\n",
      "31/60 copy: /home/datascience/Sparkov_Data_Generation/data/training set/medium/adults_2550_female_urban_400-599.csv\n",
      "31/60 to: fraud-detection-data@bigdatadatasciencelarge/training set/medium/adults_2550_female_urban_400-599.csv\n",
      "32/60 copy: /home/datascience/Sparkov_Data_Generation/data/training set/medium/adults_50up_male_rural_600-799.csv\n",
      "32/60 to: fraud-detection-data@bigdatadatasciencelarge/training set/medium/adults_50up_male_rural_600-799.csv\n",
      "33/60 copy: /home/datascience/Sparkov_Data_Generation/data/training set/medium/young_adults_female_urban_800-999.csv\n",
      "33/60 to: fraud-detection-data@bigdatadatasciencelarge/training set/medium/young_adults_female_urban_800-999.csv\n",
      "34/60 copy: /home/datascience/Sparkov_Data_Generation/data/training set/medium/adults_2550_female_rural_400-599.csv\n",
      "34/60 to: fraud-detection-data@bigdatadatasciencelarge/training set/medium/adults_2550_female_rural_400-599.csv\n",
      "35/60 copy: /home/datascience/Sparkov_Data_Generation/data/training set/medium/adults_2550_female_urban_200-399.csv\n",
      "35/60 to: fraud-detection-data@bigdatadatasciencelarge/training set/medium/adults_2550_female_urban_200-399.csv\n",
      "36/60 copy: /home/datascience/Sparkov_Data_Generation/data/training set/medium/adults_2550_male_urban_200-399.csv\n",
      "36/60 to: fraud-detection-data@bigdatadatasciencelarge/training set/medium/adults_2550_male_urban_200-399.csv\n",
      "37/60 copy: /home/datascience/Sparkov_Data_Generation/data/training set/medium/adults_50up_female_rural_800-999.csv\n",
      "37/60 to: fraud-detection-data@bigdatadatasciencelarge/training set/medium/adults_50up_female_rural_800-999.csv\n",
      "38/60 copy: /home/datascience/Sparkov_Data_Generation/data/training set/medium/young_adults_female_rural_400-599.csv\n",
      "38/60 to: fraud-detection-data@bigdatadatasciencelarge/training set/medium/young_adults_female_rural_400-599.csv\n",
      "39/60 copy: /home/datascience/Sparkov_Data_Generation/data/training set/medium/adults_2550_female_rural_000-199.csv\n",
      "39/60 to: fraud-detection-data@bigdatadatasciencelarge/training set/medium/adults_2550_female_rural_000-199.csv\n",
      "40/60 copy: /home/datascience/Sparkov_Data_Generation/data/training set/medium/adults_50up_female_urban_200-399.csv\n",
      "40/60 to: fraud-detection-data@bigdatadatasciencelarge/training set/medium/adults_50up_female_urban_200-399.csv\n",
      "41/60 copy: /home/datascience/Sparkov_Data_Generation/data/training set/medium/adults_50up_male_rural_200-399.csv\n",
      "41/60 to: fraud-detection-data@bigdatadatasciencelarge/training set/medium/adults_50up_male_rural_200-399.csv\n",
      "42/60 copy: /home/datascience/Sparkov_Data_Generation/data/training set/medium/adults_2550_female_urban_000-199.csv\n",
      "42/60 to: fraud-detection-data@bigdatadatasciencelarge/training set/medium/adults_2550_female_urban_000-199.csv\n",
      "43/60 copy: /home/datascience/Sparkov_Data_Generation/data/training set/medium/adults_2550_female_urban_800-999.csv\n",
      "43/60 to: fraud-detection-data@bigdatadatasciencelarge/training set/medium/adults_2550_female_urban_800-999.csv\n",
      "44/60 copy: /home/datascience/Sparkov_Data_Generation/data/training set/medium/adults_50up_female_urban_600-799.csv\n",
      "44/60 to: fraud-detection-data@bigdatadatasciencelarge/training set/medium/adults_50up_female_urban_600-799.csv\n",
      "45/60 copy: /home/datascience/Sparkov_Data_Generation/data/training set/medium/adults_50up_male_urban_200-399.csv\n",
      "45/60 to: fraud-detection-data@bigdatadatasciencelarge/training set/medium/adults_50up_male_urban_200-399.csv\n",
      "46/60 copy: /home/datascience/Sparkov_Data_Generation/data/training set/medium/adults_2550_male_urban_600-799.csv\n",
      "46/60 to: fraud-detection-data@bigdatadatasciencelarge/training set/medium/adults_2550_male_urban_600-799.csv\n",
      "47/60 copy: /home/datascience/Sparkov_Data_Generation/data/training set/medium/adults_2550_male_urban_800-999.csv\n",
      "47/60 to: fraud-detection-data@bigdatadatasciencelarge/training set/medium/adults_2550_male_urban_800-999.csv\n",
      "48/60 copy: /home/datascience/Sparkov_Data_Generation/data/training set/medium/adults_50up_male_urban_000-199.csv\n",
      "48/60 to: fraud-detection-data@bigdatadatasciencelarge/training set/medium/adults_50up_male_urban_000-199.csv\n",
      "49/60 copy: /home/datascience/Sparkov_Data_Generation/data/training set/medium/adults_2550_male_rural_200-399.csv\n",
      "49/60 to: fraud-detection-data@bigdatadatasciencelarge/training set/medium/adults_2550_male_rural_200-399.csv\n",
      "50/60 copy: /home/datascience/Sparkov_Data_Generation/data/training set/medium/adults_50up_female_rural_200-399.csv\n",
      "50/60 to: fraud-detection-data@bigdatadatasciencelarge/training set/medium/adults_50up_female_rural_200-399.csv\n",
      "51/60 copy: /home/datascience/Sparkov_Data_Generation/data/training set/medium/young_adults_female_urban_600-799.csv\n",
      "51/60 to: fraud-detection-data@bigdatadatasciencelarge/training set/medium/young_adults_female_urban_600-799.csv\n",
      "52/60 copy: /home/datascience/Sparkov_Data_Generation/data/training set/medium/young_adults_female_rural_800-999.csv\n",
      "52/60 to: fraud-detection-data@bigdatadatasciencelarge/training set/medium/young_adults_female_rural_800-999.csv\n",
      "53/60 copy: /home/datascience/Sparkov_Data_Generation/data/training set/medium/adults_50up_female_rural_000-199.csv\n",
      "53/60 to: fraud-detection-data@bigdatadatasciencelarge/training set/medium/adults_50up_female_rural_000-199.csv\n",
      "54/60 copy: /home/datascience/Sparkov_Data_Generation/data/training set/medium/adults_50up_female_rural_400-599.csv\n",
      "54/60 to: fraud-detection-data@bigdatadatasciencelarge/training set/medium/adults_50up_female_rural_400-599.csv\n",
      "55/60 copy: /home/datascience/Sparkov_Data_Generation/data/training set/medium/young_adults_male_urban_000-199.csv\n",
      "55/60 to: fraud-detection-data@bigdatadatasciencelarge/training set/medium/young_adults_male_urban_000-199.csv\n",
      "56/60 copy: /home/datascience/Sparkov_Data_Generation/data/training set/medium/young_adults_female_urban_400-599.csv\n",
      "56/60 to: fraud-detection-data@bigdatadatasciencelarge/training set/medium/young_adults_female_urban_400-599.csv\n",
      "57/60 copy: /home/datascience/Sparkov_Data_Generation/data/training set/medium/adults_2550_male_rural_000-199.csv\n",
      "57/60 to: fraud-detection-data@bigdatadatasciencelarge/training set/medium/adults_2550_male_rural_000-199.csv\n",
      "58/60 copy: /home/datascience/Sparkov_Data_Generation/data/training set/medium/adults_2550_female_rural_800-999.csv\n",
      "58/60 to: fraud-detection-data@bigdatadatasciencelarge/training set/medium/adults_2550_female_rural_800-999.csv\n",
      "59/60 copy: /home/datascience/Sparkov_Data_Generation/data/training set/medium/young_adults_male_rural_400-599.csv\n",
      "59/60 to: fraud-detection-data@bigdatadatasciencelarge/training set/medium/young_adults_male_rural_400-599.csv\n",
      "60/60 copy: /home/datascience/Sparkov_Data_Generation/data/training set/medium/adults_2550_female_urban_600-799.csv\n",
      "60/60 to: fraud-detection-data@bigdatadatasciencelarge/training set/medium/adults_2550_female_urban_600-799.csv\n",
      "1/60 copy: /home/datascience/Sparkov_Data_Generation/data/training set/small/adults_50up_male_rural_00-19.csv\n",
      "1/60 to: fraud-detection-data@bigdatadatasciencelarge/training set/small/adults_50up_male_rural_00-19.csv\n",
      "2/60 copy: /home/datascience/Sparkov_Data_Generation/data/training set/small/adults_50up_male_urban_00-19.csv\n",
      "2/60 to: fraud-detection-data@bigdatadatasciencelarge/training set/small/adults_50up_male_urban_00-19.csv\n",
      "3/60 copy: /home/datascience/Sparkov_Data_Generation/data/training set/small/young_adults_male_rural_80-99.csv\n",
      "3/60 to: fraud-detection-data@bigdatadatasciencelarge/training set/small/young_adults_male_rural_80-99.csv\n",
      "4/60 copy: /home/datascience/Sparkov_Data_Generation/data/training set/small/adults_50up_male_urban_80-99.csv\n",
      "4/60 to: fraud-detection-data@bigdatadatasciencelarge/training set/small/adults_50up_male_urban_80-99.csv\n",
      "5/60 copy: /home/datascience/Sparkov_Data_Generation/data/training set/small/young_adults_female_rural_00-19.csv\n",
      "5/60 to: fraud-detection-data@bigdatadatasciencelarge/training set/small/young_adults_female_rural_00-19.csv\n",
      "6/60 copy: /home/datascience/Sparkov_Data_Generation/data/training set/small/young_adults_male_urban_40-59.csv\n",
      "6/60 to: fraud-detection-data@bigdatadatasciencelarge/training set/small/young_adults_male_urban_40-59.csv\n",
      "7/60 copy: /home/datascience/Sparkov_Data_Generation/data/training set/small/adults_50up_female_urban_80-99.csv\n",
      "7/60 to: fraud-detection-data@bigdatadatasciencelarge/training set/small/adults_50up_female_urban_80-99.csv\n",
      "8/60 copy: /home/datascience/Sparkov_Data_Generation/data/training set/small/young_adults_female_urban_60-79.csv\n",
      "8/60 to: fraud-detection-data@bigdatadatasciencelarge/training set/small/young_adults_female_urban_60-79.csv\n",
      "9/60 copy: /home/datascience/Sparkov_Data_Generation/data/training set/small/adults_2550_female_urban_80-99.csv\n",
      "9/60 to: fraud-detection-data@bigdatadatasciencelarge/training set/small/adults_2550_female_urban_80-99.csv\n",
      "10/60 copy: /home/datascience/Sparkov_Data_Generation/data/training set/small/young_adults_female_rural_40-59.csv\n",
      "10/60 to: fraud-detection-data@bigdatadatasciencelarge/training set/small/young_adults_female_rural_40-59.csv\n",
      "11/60 copy: /home/datascience/Sparkov_Data_Generation/data/training set/small/young_adults_female_rural_60-79.csv\n",
      "11/60 to: fraud-detection-data@bigdatadatasciencelarge/training set/small/young_adults_female_rural_60-79.csv\n",
      "12/60 copy: /home/datascience/Sparkov_Data_Generation/data/training set/small/young_adults_male_rural_60-79.csv\n",
      "12/60 to: fraud-detection-data@bigdatadatasciencelarge/training set/small/young_adults_male_rural_60-79.csv\n",
      "13/60 copy: /home/datascience/Sparkov_Data_Generation/data/training set/small/adults_2550_male_urban_20-39.csv\n",
      "13/60 to: fraud-detection-data@bigdatadatasciencelarge/training set/small/adults_2550_male_urban_20-39.csv\n",
      "14/60 copy: /home/datascience/Sparkov_Data_Generation/data/training set/small/young_adults_male_urban_20-39.csv\n",
      "14/60 to: fraud-detection-data@bigdatadatasciencelarge/training set/small/young_adults_male_urban_20-39.csv\n",
      "15/60 copy: /home/datascience/Sparkov_Data_Generation/data/training set/small/adults_2550_male_urban_00-19.csv\n",
      "15/60 to: fraud-detection-data@bigdatadatasciencelarge/training set/small/adults_2550_male_urban_00-19.csv\n",
      "16/60 copy: /home/datascience/Sparkov_Data_Generation/data/training set/small/adults_50up_female_rural_80-99.csv\n",
      "16/60 to: fraud-detection-data@bigdatadatasciencelarge/training set/small/adults_50up_female_rural_80-99.csv\n",
      "17/60 copy: /home/datascience/Sparkov_Data_Generation/data/training set/small/adults_2550_female_rural_00-19.csv\n",
      "17/60 to: fraud-detection-data@bigdatadatasciencelarge/training set/small/adults_2550_female_rural_00-19.csv\n",
      "18/60 copy: /home/datascience/Sparkov_Data_Generation/data/training set/small/young_adults_female_rural_80-99.csv\n",
      "18/60 to: fraud-detection-data@bigdatadatasciencelarge/training set/small/young_adults_female_rural_80-99.csv\n",
      "19/60 copy: /home/datascience/Sparkov_Data_Generation/data/training set/small/adults_50up_female_rural_40-59.csv\n",
      "19/60 to: fraud-detection-data@bigdatadatasciencelarge/training set/small/adults_50up_female_rural_40-59.csv\n",
      "20/60 copy: /home/datascience/Sparkov_Data_Generation/data/training set/small/adults_50up_female_urban_60-79.csv\n",
      "20/60 to: fraud-detection-data@bigdatadatasciencelarge/training set/small/adults_50up_female_urban_60-79.csv\n",
      "21/60 copy: /home/datascience/Sparkov_Data_Generation/data/training set/small/young_adults_male_urban_60-79.csv\n",
      "21/60 to: fraud-detection-data@bigdatadatasciencelarge/training set/small/young_adults_male_urban_60-79.csv\n",
      "22/60 copy: /home/datascience/Sparkov_Data_Generation/data/training set/small/adults_50up_female_rural_60-79.csv\n",
      "22/60 to: fraud-detection-data@bigdatadatasciencelarge/training set/small/adults_50up_female_rural_60-79.csv\n",
      "23/60 copy: /home/datascience/Sparkov_Data_Generation/data/training set/small/adults_2550_female_urban_20-39.csv\n",
      "23/60 to: fraud-detection-data@bigdatadatasciencelarge/training set/small/adults_2550_female_urban_20-39.csv\n",
      "24/60 copy: /home/datascience/Sparkov_Data_Generation/data/training set/small/young_adults_female_urban_40-59.csv\n",
      "24/60 to: fraud-detection-data@bigdatadatasciencelarge/training set/small/young_adults_female_urban_40-59.csv\n",
      "25/60 copy: /home/datascience/Sparkov_Data_Generation/data/training set/small/adults_2550_male_rural_80-99.csv\n",
      "25/60 to: fraud-detection-data@bigdatadatasciencelarge/training set/small/adults_2550_male_rural_80-99.csv\n",
      "26/60 copy: /home/datascience/Sparkov_Data_Generation/data/training set/small/young_adults_female_urban_20-39.csv\n",
      "26/60 to: fraud-detection-data@bigdatadatasciencelarge/training set/small/young_adults_female_urban_20-39.csv\n",
      "27/60 copy: /home/datascience/Sparkov_Data_Generation/data/training set/small/adults_2550_female_rural_40-59.csv\n",
      "27/60 to: fraud-detection-data@bigdatadatasciencelarge/training set/small/adults_2550_female_rural_40-59.csv\n",
      "28/60 copy: /home/datascience/Sparkov_Data_Generation/data/training set/small/adults_50up_female_urban_00-19.csv\n",
      "28/60 to: fraud-detection-data@bigdatadatasciencelarge/training set/small/adults_50up_female_urban_00-19.csv\n",
      "29/60 copy: /home/datascience/Sparkov_Data_Generation/data/training set/small/young_adults_male_urban_00-19.csv\n",
      "29/60 to: fraud-detection-data@bigdatadatasciencelarge/training set/small/young_adults_male_urban_00-19.csv\n",
      "30/60 copy: /home/datascience/Sparkov_Data_Generation/data/training set/small/adults_2550_male_rural_00-19.csv\n",
      "30/60 to: fraud-detection-data@bigdatadatasciencelarge/training set/small/adults_2550_male_rural_00-19.csv\n",
      "31/60 copy: /home/datascience/Sparkov_Data_Generation/data/training set/small/young_adults_female_rural_20-39.csv\n",
      "31/60 to: fraud-detection-data@bigdatadatasciencelarge/training set/small/young_adults_female_rural_20-39.csv\n",
      "32/60 copy: /home/datascience/Sparkov_Data_Generation/data/training set/small/adults_2550_female_rural_20-39.csv\n",
      "32/60 to: fraud-detection-data@bigdatadatasciencelarge/training set/small/adults_2550_female_rural_20-39.csv\n",
      "33/60 copy: /home/datascience/Sparkov_Data_Generation/data/training set/small/adults_50up_male_urban_20-39.csv\n",
      "33/60 to: fraud-detection-data@bigdatadatasciencelarge/training set/small/adults_50up_male_urban_20-39.csv\n",
      "34/60 copy: /home/datascience/Sparkov_Data_Generation/data/training set/small/young_adults_male_rural_00-19.csv\n",
      "34/60 to: fraud-detection-data@bigdatadatasciencelarge/training set/small/young_adults_male_rural_00-19.csv\n",
      "35/60 copy: /home/datascience/Sparkov_Data_Generation/data/training set/small/adults_50up_male_rural_40-59.csv\n",
      "35/60 to: fraud-detection-data@bigdatadatasciencelarge/training set/small/adults_50up_male_rural_40-59.csv\n",
      "36/60 copy: /home/datascience/Sparkov_Data_Generation/data/training set/small/adults_2550_female_rural_60-79.csv\n",
      "36/60 to: fraud-detection-data@bigdatadatasciencelarge/training set/small/adults_2550_female_rural_60-79.csv\n",
      "37/60 copy: /home/datascience/Sparkov_Data_Generation/data/training set/small/young_adults_female_urban_00-19.csv\n",
      "37/60 to: fraud-detection-data@bigdatadatasciencelarge/training set/small/young_adults_female_urban_00-19.csv\n",
      "38/60 copy: /home/datascience/Sparkov_Data_Generation/data/training set/small/adults_2550_female_urban_60-79.csv\n",
      "38/60 to: fraud-detection-data@bigdatadatasciencelarge/training set/small/adults_2550_female_urban_60-79.csv\n",
      "39/60 copy: /home/datascience/Sparkov_Data_Generation/data/training set/small/adults_2550_female_urban_40-59.csv\n",
      "39/60 to: fraud-detection-data@bigdatadatasciencelarge/training set/small/adults_2550_female_urban_40-59.csv\n",
      "40/60 copy: /home/datascience/Sparkov_Data_Generation/data/training set/small/adults_2550_male_urban_60-79.csv\n",
      "40/60 to: fraud-detection-data@bigdatadatasciencelarge/training set/small/adults_2550_male_urban_60-79.csv\n",
      "41/60 copy: /home/datascience/Sparkov_Data_Generation/data/training set/small/young_adults_male_rural_20-39.csv\n",
      "41/60 to: fraud-detection-data@bigdatadatasciencelarge/training set/small/young_adults_male_rural_20-39.csv\n",
      "42/60 copy: /home/datascience/Sparkov_Data_Generation/data/training set/small/adults_2550_female_urban_00-19.csv\n",
      "42/60 to: fraud-detection-data@bigdatadatasciencelarge/training set/small/adults_2550_female_urban_00-19.csv\n",
      "43/60 copy: /home/datascience/Sparkov_Data_Generation/data/training set/small/adults_2550_male_rural_20-39.csv\n",
      "43/60 to: fraud-detection-data@bigdatadatasciencelarge/training set/small/adults_2550_male_rural_20-39.csv\n",
      "44/60 copy: /home/datascience/Sparkov_Data_Generation/data/training set/small/adults_2550_male_rural_60-79.csv\n",
      "44/60 to: fraud-detection-data@bigdatadatasciencelarge/training set/small/adults_2550_male_rural_60-79.csv\n",
      "45/60 copy: /home/datascience/Sparkov_Data_Generation/data/training set/small/adults_50up_male_rural_80-99.csv\n",
      "45/60 to: fraud-detection-data@bigdatadatasciencelarge/training set/small/adults_50up_male_rural_80-99.csv\n",
      "46/60 copy: /home/datascience/Sparkov_Data_Generation/data/training set/small/adults_50up_male_urban_60-79.csv\n",
      "46/60 to: fraud-detection-data@bigdatadatasciencelarge/training set/small/adults_50up_male_urban_60-79.csv\n",
      "47/60 copy: /home/datascience/Sparkov_Data_Generation/data/training set/small/young_adults_male_urban_80-99.csv\n",
      "47/60 to: fraud-detection-data@bigdatadatasciencelarge/training set/small/young_adults_male_urban_80-99.csv\n",
      "48/60 copy: /home/datascience/Sparkov_Data_Generation/data/training set/small/adults_50up_female_urban_20-39.csv\n",
      "48/60 to: fraud-detection-data@bigdatadatasciencelarge/training set/small/adults_50up_female_urban_20-39.csv\n",
      "49/60 copy: /home/datascience/Sparkov_Data_Generation/data/training set/small/adults_2550_male_urban_80-99.csv\n",
      "49/60 to: fraud-detection-data@bigdatadatasciencelarge/training set/small/adults_2550_male_urban_80-99.csv\n",
      "50/60 copy: /home/datascience/Sparkov_Data_Generation/data/training set/small/adults_50up_female_rural_00-19.csv\n",
      "50/60 to: fraud-detection-data@bigdatadatasciencelarge/training set/small/adults_50up_female_rural_00-19.csv\n",
      "51/60 copy: /home/datascience/Sparkov_Data_Generation/data/training set/small/adults_50up_male_rural_20-39.csv\n",
      "51/60 to: fraud-detection-data@bigdatadatasciencelarge/training set/small/adults_50up_male_rural_20-39.csv\n",
      "52/60 copy: /home/datascience/Sparkov_Data_Generation/data/training set/small/adults_50up_female_urban_40-59.csv\n",
      "52/60 to: fraud-detection-data@bigdatadatasciencelarge/training set/small/adults_50up_female_urban_40-59.csv\n",
      "53/60 copy: /home/datascience/Sparkov_Data_Generation/data/training set/small/adults_50up_female_rural_20-39.csv\n",
      "53/60 to: fraud-detection-data@bigdatadatasciencelarge/training set/small/adults_50up_female_rural_20-39.csv\n",
      "54/60 copy: /home/datascience/Sparkov_Data_Generation/data/training set/small/adults_2550_male_rural_40-59.csv\n",
      "54/60 to: fraud-detection-data@bigdatadatasciencelarge/training set/small/adults_2550_male_rural_40-59.csv\n",
      "55/60 copy: /home/datascience/Sparkov_Data_Generation/data/training set/small/young_adults_female_urban_80-99.csv\n",
      "55/60 to: fraud-detection-data@bigdatadatasciencelarge/training set/small/young_adults_female_urban_80-99.csv\n",
      "56/60 copy: /home/datascience/Sparkov_Data_Generation/data/training set/small/adults_2550_female_rural_80-99.csv\n",
      "56/60 to: fraud-detection-data@bigdatadatasciencelarge/training set/small/adults_2550_female_rural_80-99.csv\n",
      "57/60 copy: /home/datascience/Sparkov_Data_Generation/data/training set/small/adults_2550_male_urban_40-59.csv\n",
      "57/60 to: fraud-detection-data@bigdatadatasciencelarge/training set/small/adults_2550_male_urban_40-59.csv\n",
      "58/60 copy: /home/datascience/Sparkov_Data_Generation/data/training set/small/young_adults_male_rural_40-59.csv\n",
      "58/60 to: fraud-detection-data@bigdatadatasciencelarge/training set/small/young_adults_male_rural_40-59.csv\n",
      "59/60 copy: /home/datascience/Sparkov_Data_Generation/data/training set/small/adults_50up_male_urban_40-59.csv\n",
      "59/60 to: fraud-detection-data@bigdatadatasciencelarge/training set/small/adults_50up_male_urban_40-59.csv\n",
      "60/60 copy: /home/datascience/Sparkov_Data_Generation/data/training set/small/adults_50up_male_rural_60-79.csv\n",
      "60/60 to: fraud-detection-data@bigdatadatasciencelarge/training set/small/adults_50up_male_rural_60-79.csv\n",
      "1/60 copy: /home/datascience/Sparkov_Data_Generation/data/scoring set/medium/young_adults_male_urban_200-399.csv\n",
      "1/60 to: fraud-detection-data@bigdatadatasciencelarge/scoring set/medium/young_adults_male_urban_200-399.csv\n",
      "2/60 copy: /home/datascience/Sparkov_Data_Generation/data/scoring set/medium/adults_50up_male_urban_600-799.csv\n",
      "2/60 to: fraud-detection-data@bigdatadatasciencelarge/scoring set/medium/adults_50up_male_urban_600-799.csv\n",
      "3/60 copy: /home/datascience/Sparkov_Data_Generation/data/scoring set/medium/young_adults_male_rural_200-399.csv\n",
      "3/60 to: fraud-detection-data@bigdatadatasciencelarge/scoring set/medium/young_adults_male_rural_200-399.csv\n",
      "4/60 copy: /home/datascience/Sparkov_Data_Generation/data/scoring set/medium/adults_2550_female_rural_600-799.csv\n",
      "4/60 to: fraud-detection-data@bigdatadatasciencelarge/scoring set/medium/adults_2550_female_rural_600-799.csv\n",
      "5/60 copy: /home/datascience/Sparkov_Data_Generation/data/scoring set/medium/young_adults_female_rural_200-399.csv\n",
      "5/60 to: fraud-detection-data@bigdatadatasciencelarge/scoring set/medium/young_adults_female_rural_200-399.csv\n",
      "6/60 copy: /home/datascience/Sparkov_Data_Generation/data/scoring set/medium/adults_50up_male_urban_800-999.csv\n",
      "6/60 to: fraud-detection-data@bigdatadatasciencelarge/scoring set/medium/adults_50up_male_urban_800-999.csv\n",
      "7/60 copy: /home/datascience/Sparkov_Data_Generation/data/scoring set/medium/young_adults_male_rural_600-799.csv\n",
      "7/60 to: fraud-detection-data@bigdatadatasciencelarge/scoring set/medium/young_adults_male_rural_600-799.csv\n",
      "8/60 copy: /home/datascience/Sparkov_Data_Generation/data/scoring set/medium/young_adults_female_rural_000-199.csv\n",
      "8/60 to: fraud-detection-data@bigdatadatasciencelarge/scoring set/medium/young_adults_female_rural_000-199.csv\n",
      "9/60 copy: /home/datascience/Sparkov_Data_Generation/data/scoring set/medium/adults_2550_male_rural_400-599.csv\n",
      "9/60 to: fraud-detection-data@bigdatadatasciencelarge/scoring set/medium/adults_2550_male_rural_400-599.csv\n",
      "10/60 copy: /home/datascience/Sparkov_Data_Generation/data/scoring set/medium/adults_50up_male_rural_400-599.csv\n",
      "10/60 to: fraud-detection-data@bigdatadatasciencelarge/scoring set/medium/adults_50up_male_rural_400-599.csv\n",
      "11/60 copy: /home/datascience/Sparkov_Data_Generation/data/scoring set/medium/young_adults_male_urban_600-799.csv\n",
      "11/60 to: fraud-detection-data@bigdatadatasciencelarge/scoring set/medium/young_adults_male_urban_600-799.csv\n",
      "12/60 copy: /home/datascience/Sparkov_Data_Generation/data/scoring set/medium/adults_50up_female_rural_600-799.csv\n",
      "12/60 to: fraud-detection-data@bigdatadatasciencelarge/scoring set/medium/adults_50up_female_rural_600-799.csv\n",
      "13/60 copy: /home/datascience/Sparkov_Data_Generation/data/scoring set/medium/young_adults_male_rural_000-199.csv\n",
      "13/60 to: fraud-detection-data@bigdatadatasciencelarge/scoring set/medium/young_adults_male_rural_000-199.csv\n",
      "14/60 copy: /home/datascience/Sparkov_Data_Generation/data/scoring set/medium/young_adults_female_urban_000-199.csv\n",
      "14/60 to: fraud-detection-data@bigdatadatasciencelarge/scoring set/medium/young_adults_female_urban_000-199.csv\n",
      "15/60 copy: /home/datascience/Sparkov_Data_Generation/data/scoring set/medium/adults_50up_female_urban_400-599.csv\n",
      "15/60 to: fraud-detection-data@bigdatadatasciencelarge/scoring set/medium/adults_50up_female_urban_400-599.csv\n",
      "16/60 copy: /home/datascience/Sparkov_Data_Generation/data/scoring set/medium/young_adults_female_urban_200-399.csv\n",
      "16/60 to: fraud-detection-data@bigdatadatasciencelarge/scoring set/medium/young_adults_female_urban_200-399.csv\n",
      "17/60 copy: /home/datascience/Sparkov_Data_Generation/data/scoring set/medium/adults_2550_male_rural_800-999.csv\n",
      "17/60 to: fraud-detection-data@bigdatadatasciencelarge/scoring set/medium/adults_2550_male_rural_800-999.csv\n",
      "18/60 copy: /home/datascience/Sparkov_Data_Generation/data/scoring set/medium/adults_50up_male_urban_400-599.csv\n",
      "18/60 to: fraud-detection-data@bigdatadatasciencelarge/scoring set/medium/adults_50up_male_urban_400-599.csv\n",
      "19/60 copy: /home/datascience/Sparkov_Data_Generation/data/scoring set/medium/adults_50up_female_urban_800-999.csv\n",
      "19/60 to: fraud-detection-data@bigdatadatasciencelarge/scoring set/medium/adults_50up_female_urban_800-999.csv\n",
      "20/60 copy: /home/datascience/Sparkov_Data_Generation/data/scoring set/medium/adults_2550_male_urban_400-599.csv\n",
      "20/60 to: fraud-detection-data@bigdatadatasciencelarge/scoring set/medium/adults_2550_male_urban_400-599.csv\n",
      "21/60 copy: /home/datascience/Sparkov_Data_Generation/data/scoring set/medium/adults_50up_male_rural_000-199.csv\n",
      "21/60 to: fraud-detection-data@bigdatadatasciencelarge/scoring set/medium/adults_50up_male_rural_000-199.csv\n",
      "22/60 copy: /home/datascience/Sparkov_Data_Generation/data/scoring set/medium/adults_2550_male_urban_000-199.csv\n",
      "22/60 to: fraud-detection-data@bigdatadatasciencelarge/scoring set/medium/adults_2550_male_urban_000-199.csv\n",
      "23/60 copy: /home/datascience/Sparkov_Data_Generation/data/scoring set/medium/adults_2550_male_rural_600-799.csv\n",
      "23/60 to: fraud-detection-data@bigdatadatasciencelarge/scoring set/medium/adults_2550_male_rural_600-799.csv\n",
      "24/60 copy: /home/datascience/Sparkov_Data_Generation/data/scoring set/medium/young_adults_male_urban_400-599.csv\n",
      "24/60 to: fraud-detection-data@bigdatadatasciencelarge/scoring set/medium/young_adults_male_urban_400-599.csv\n",
      "25/60 copy: /home/datascience/Sparkov_Data_Generation/data/scoring set/medium/adults_50up_male_rural_800-999.csv\n",
      "25/60 to: fraud-detection-data@bigdatadatasciencelarge/scoring set/medium/adults_50up_male_rural_800-999.csv\n",
      "26/60 copy: /home/datascience/Sparkov_Data_Generation/data/scoring set/medium/young_adults_female_rural_600-799.csv\n",
      "26/60 to: fraud-detection-data@bigdatadatasciencelarge/scoring set/medium/young_adults_female_rural_600-799.csv\n",
      "27/60 copy: /home/datascience/Sparkov_Data_Generation/data/scoring set/medium/young_adults_male_rural_800-999.csv\n",
      "27/60 to: fraud-detection-data@bigdatadatasciencelarge/scoring set/medium/young_adults_male_rural_800-999.csv\n",
      "28/60 copy: /home/datascience/Sparkov_Data_Generation/data/scoring set/medium/adults_50up_female_urban_000-199.csv\n",
      "28/60 to: fraud-detection-data@bigdatadatasciencelarge/scoring set/medium/adults_50up_female_urban_000-199.csv\n",
      "29/60 copy: /home/datascience/Sparkov_Data_Generation/data/scoring set/medium/adults_2550_female_rural_200-399.csv\n",
      "29/60 to: fraud-detection-data@bigdatadatasciencelarge/scoring set/medium/adults_2550_female_rural_200-399.csv\n",
      "30/60 copy: /home/datascience/Sparkov_Data_Generation/data/scoring set/medium/young_adults_male_urban_800-999.csv\n",
      "30/60 to: fraud-detection-data@bigdatadatasciencelarge/scoring set/medium/young_adults_male_urban_800-999.csv\n",
      "31/60 copy: /home/datascience/Sparkov_Data_Generation/data/scoring set/medium/adults_2550_female_urban_400-599.csv\n",
      "31/60 to: fraud-detection-data@bigdatadatasciencelarge/scoring set/medium/adults_2550_female_urban_400-599.csv\n",
      "32/60 copy: /home/datascience/Sparkov_Data_Generation/data/scoring set/medium/adults_50up_male_rural_600-799.csv\n",
      "32/60 to: fraud-detection-data@bigdatadatasciencelarge/scoring set/medium/adults_50up_male_rural_600-799.csv\n",
      "33/60 copy: /home/datascience/Sparkov_Data_Generation/data/scoring set/medium/young_adults_female_urban_800-999.csv\n",
      "33/60 to: fraud-detection-data@bigdatadatasciencelarge/scoring set/medium/young_adults_female_urban_800-999.csv\n",
      "34/60 copy: /home/datascience/Sparkov_Data_Generation/data/scoring set/medium/adults_2550_female_rural_400-599.csv\n",
      "34/60 to: fraud-detection-data@bigdatadatasciencelarge/scoring set/medium/adults_2550_female_rural_400-599.csv\n",
      "35/60 copy: /home/datascience/Sparkov_Data_Generation/data/scoring set/medium/adults_2550_female_urban_200-399.csv\n",
      "35/60 to: fraud-detection-data@bigdatadatasciencelarge/scoring set/medium/adults_2550_female_urban_200-399.csv\n",
      "36/60 copy: /home/datascience/Sparkov_Data_Generation/data/scoring set/medium/adults_2550_male_urban_200-399.csv\n",
      "36/60 to: fraud-detection-data@bigdatadatasciencelarge/scoring set/medium/adults_2550_male_urban_200-399.csv\n",
      "37/60 copy: /home/datascience/Sparkov_Data_Generation/data/scoring set/medium/adults_50up_female_rural_800-999.csv\n",
      "37/60 to: fraud-detection-data@bigdatadatasciencelarge/scoring set/medium/adults_50up_female_rural_800-999.csv\n",
      "38/60 copy: /home/datascience/Sparkov_Data_Generation/data/scoring set/medium/young_adults_female_rural_400-599.csv\n",
      "38/60 to: fraud-detection-data@bigdatadatasciencelarge/scoring set/medium/young_adults_female_rural_400-599.csv\n",
      "39/60 copy: /home/datascience/Sparkov_Data_Generation/data/scoring set/medium/adults_2550_female_rural_000-199.csv\n",
      "39/60 to: fraud-detection-data@bigdatadatasciencelarge/scoring set/medium/adults_2550_female_rural_000-199.csv\n",
      "40/60 copy: /home/datascience/Sparkov_Data_Generation/data/scoring set/medium/adults_50up_female_urban_200-399.csv\n",
      "40/60 to: fraud-detection-data@bigdatadatasciencelarge/scoring set/medium/adults_50up_female_urban_200-399.csv\n",
      "41/60 copy: /home/datascience/Sparkov_Data_Generation/data/scoring set/medium/adults_50up_male_rural_200-399.csv\n",
      "41/60 to: fraud-detection-data@bigdatadatasciencelarge/scoring set/medium/adults_50up_male_rural_200-399.csv\n",
      "42/60 copy: /home/datascience/Sparkov_Data_Generation/data/scoring set/medium/adults_2550_female_urban_000-199.csv\n",
      "42/60 to: fraud-detection-data@bigdatadatasciencelarge/scoring set/medium/adults_2550_female_urban_000-199.csv\n",
      "43/60 copy: /home/datascience/Sparkov_Data_Generation/data/scoring set/medium/adults_2550_female_urban_800-999.csv\n",
      "43/60 to: fraud-detection-data@bigdatadatasciencelarge/scoring set/medium/adults_2550_female_urban_800-999.csv\n",
      "44/60 copy: /home/datascience/Sparkov_Data_Generation/data/scoring set/medium/adults_50up_female_urban_600-799.csv\n",
      "44/60 to: fraud-detection-data@bigdatadatasciencelarge/scoring set/medium/adults_50up_female_urban_600-799.csv\n",
      "45/60 copy: /home/datascience/Sparkov_Data_Generation/data/scoring set/medium/adults_50up_male_urban_200-399.csv\n",
      "45/60 to: fraud-detection-data@bigdatadatasciencelarge/scoring set/medium/adults_50up_male_urban_200-399.csv\n",
      "46/60 copy: /home/datascience/Sparkov_Data_Generation/data/scoring set/medium/adults_2550_male_urban_600-799.csv\n",
      "46/60 to: fraud-detection-data@bigdatadatasciencelarge/scoring set/medium/adults_2550_male_urban_600-799.csv\n",
      "47/60 copy: /home/datascience/Sparkov_Data_Generation/data/scoring set/medium/adults_2550_male_urban_800-999.csv\n",
      "47/60 to: fraud-detection-data@bigdatadatasciencelarge/scoring set/medium/adults_2550_male_urban_800-999.csv\n",
      "48/60 copy: /home/datascience/Sparkov_Data_Generation/data/scoring set/medium/adults_50up_male_urban_000-199.csv\n",
      "48/60 to: fraud-detection-data@bigdatadatasciencelarge/scoring set/medium/adults_50up_male_urban_000-199.csv\n",
      "49/60 copy: /home/datascience/Sparkov_Data_Generation/data/scoring set/medium/adults_2550_male_rural_200-399.csv\n",
      "49/60 to: fraud-detection-data@bigdatadatasciencelarge/scoring set/medium/adults_2550_male_rural_200-399.csv\n",
      "50/60 copy: /home/datascience/Sparkov_Data_Generation/data/scoring set/medium/adults_50up_female_rural_200-399.csv\n",
      "50/60 to: fraud-detection-data@bigdatadatasciencelarge/scoring set/medium/adults_50up_female_rural_200-399.csv\n",
      "51/60 copy: /home/datascience/Sparkov_Data_Generation/data/scoring set/medium/young_adults_female_urban_600-799.csv\n",
      "51/60 to: fraud-detection-data@bigdatadatasciencelarge/scoring set/medium/young_adults_female_urban_600-799.csv\n",
      "52/60 copy: /home/datascience/Sparkov_Data_Generation/data/scoring set/medium/young_adults_female_rural_800-999.csv\n",
      "52/60 to: fraud-detection-data@bigdatadatasciencelarge/scoring set/medium/young_adults_female_rural_800-999.csv\n",
      "53/60 copy: /home/datascience/Sparkov_Data_Generation/data/scoring set/medium/adults_50up_female_rural_000-199.csv\n",
      "53/60 to: fraud-detection-data@bigdatadatasciencelarge/scoring set/medium/adults_50up_female_rural_000-199.csv\n",
      "54/60 copy: /home/datascience/Sparkov_Data_Generation/data/scoring set/medium/adults_50up_female_rural_400-599.csv\n",
      "54/60 to: fraud-detection-data@bigdatadatasciencelarge/scoring set/medium/adults_50up_female_rural_400-599.csv\n",
      "55/60 copy: /home/datascience/Sparkov_Data_Generation/data/scoring set/medium/young_adults_male_urban_000-199.csv\n",
      "55/60 to: fraud-detection-data@bigdatadatasciencelarge/scoring set/medium/young_adults_male_urban_000-199.csv\n",
      "56/60 copy: /home/datascience/Sparkov_Data_Generation/data/scoring set/medium/young_adults_female_urban_400-599.csv\n",
      "56/60 to: fraud-detection-data@bigdatadatasciencelarge/scoring set/medium/young_adults_female_urban_400-599.csv\n",
      "57/60 copy: /home/datascience/Sparkov_Data_Generation/data/scoring set/medium/adults_2550_male_rural_000-199.csv\n",
      "57/60 to: fraud-detection-data@bigdatadatasciencelarge/scoring set/medium/adults_2550_male_rural_000-199.csv\n",
      "58/60 copy: /home/datascience/Sparkov_Data_Generation/data/scoring set/medium/adults_2550_female_rural_800-999.csv\n",
      "58/60 to: fraud-detection-data@bigdatadatasciencelarge/scoring set/medium/adults_2550_female_rural_800-999.csv\n",
      "59/60 copy: /home/datascience/Sparkov_Data_Generation/data/scoring set/medium/young_adults_male_rural_400-599.csv\n",
      "59/60 to: fraud-detection-data@bigdatadatasciencelarge/scoring set/medium/young_adults_male_rural_400-599.csv\n",
      "60/60 copy: /home/datascience/Sparkov_Data_Generation/data/scoring set/medium/adults_2550_female_urban_600-799.csv\n",
      "60/60 to: fraud-detection-data@bigdatadatasciencelarge/scoring set/medium/adults_2550_female_urban_600-799.csv\n"
     ]
    }
   ],
   "source": [
    "# run the function for the various datasets\n",
    "file_pattern_to_store = 'training set/medium/*male*.csv'\n",
    "store_on_oss(tenancy_namespace, data_bucket_name, data_folder, file_pattern_to_store)\n",
    "\n",
    "file_pattern_to_store = 'training set/small/*male*.csv'\n",
    "store_on_oss(tenancy_namespace, data_bucket_name, data_folder, file_pattern_to_store)\n",
    "\n",
    "file_pattern_to_store = 'scoring set/medium/*male*.csv'\n",
    "store_on_oss(tenancy_namespace, data_bucket_name, data_folder, file_pattern_to_store)"
   ]
  },
  {
   "cell_type": "markdown",
   "metadata": {},
   "source": [
    "<a id=\"explore\"></a>\n",
    "## 4. Explore the Dataset\n",
    "\n",
    "You will load the dataset and sample a subset for exploration."
   ]
  },
  {
   "cell_type": "code",
   "execution_count": 9,
   "metadata": {},
   "outputs": [
    {
     "name": "stderr",
     "output_type": "stream",
     "text": [
      "Using Spark's default log4j profile: org/apache/spark/log4j-defaults.properties\n",
      "Setting default log level to \"WARN\".\n",
      "To adjust logging level use sc.setLogLevel(newLevel). For SparkR, use setLogLevel(newLevel).\n",
      "22/12/14 17:48:50 WARN NativeCodeLoader: Unable to load native-hadoop library for your platform... using builtin-java classes where applicable\n",
      "                                                                                \r"
     ]
    }
   ],
   "source": [
    "sc = get_spark_session(app_name=\"CC_Fraud_Detection\")\n",
    "\n",
    "sc.conf.set(\"spark.sql.legacy.timeParserPolicy\", \"LEGACY\")\n",
    "sc.conf.set(\"spark.sql.debug.maxToStringFields\", 1000)\n",
    "df = sc.read.option(\"delimiter\", \"|\").csv(data_folder + file_pattern, header=True, inferSchema=True)\n"
   ]
  },
  {
   "cell_type": "markdown",
   "metadata": {},
   "source": [
    "You can have a look at the schema with:"
   ]
  },
  {
   "cell_type": "code",
   "execution_count": 10,
   "metadata": {},
   "outputs": [
    {
     "name": "stdout",
     "output_type": "stream",
     "text": [
      "root\n",
      " |-- ssn: string (nullable = true)\n",
      " |-- cc_num: long (nullable = true)\n",
      " |-- first: string (nullable = true)\n",
      " |-- last: string (nullable = true)\n",
      " |-- gender: string (nullable = true)\n",
      " |-- street: string (nullable = true)\n",
      " |-- city: string (nullable = true)\n",
      " |-- state: string (nullable = true)\n",
      " |-- zip: integer (nullable = true)\n",
      " |-- lat: double (nullable = true)\n",
      " |-- long: double (nullable = true)\n",
      " |-- city_pop: integer (nullable = true)\n",
      " |-- job: string (nullable = true)\n",
      " |-- dob: string (nullable = true)\n",
      " |-- acct_num: long (nullable = true)\n",
      " |-- profile: string (nullable = true)\n",
      " |-- trans_num: string (nullable = true)\n",
      " |-- trans_date: string (nullable = true)\n",
      " |-- trans_time: string (nullable = true)\n",
      " |-- unix_time: integer (nullable = true)\n",
      " |-- category: string (nullable = true)\n",
      " |-- amt: double (nullable = true)\n",
      " |-- is_fraud: integer (nullable = true)\n",
      " |-- merchant: string (nullable = true)\n",
      " |-- merch_lat: double (nullable = true)\n",
      " |-- merch_long: double (nullable = true)\n",
      "\n"
     ]
    }
   ],
   "source": [
    "df.printSchema()"
   ]
  },
  {
   "cell_type": "markdown",
   "metadata": {},
   "source": [
    "and get a sense of the distribution of the data with:"
   ]
  },
  {
   "cell_type": "code",
   "execution_count": 11,
   "metadata": {},
   "outputs": [
    {
     "name": "stderr",
     "output_type": "stream",
     "text": [
      "                                                                                \r"
     ]
    },
    {
     "data": {
      "text/plain": [
       "1725598"
      ]
     },
     "execution_count": 11,
     "metadata": {},
     "output_type": "execute_result"
    }
   ],
   "source": [
    "df.count()"
   ]
  },
  {
   "cell_type": "markdown",
   "metadata": {},
   "source": [
    "You can check the ratio of fraudulent vs. legitimate transactions with:"
   ]
  },
  {
   "cell_type": "code",
   "execution_count": 12,
   "metadata": {},
   "outputs": [
    {
     "name": "stderr",
     "output_type": "stream",
     "text": [
      "[Stage 7:================================>                          (5 + 4) / 9]\r"
     ]
    },
    {
     "name": "stdout",
     "output_type": "stream",
     "text": [
      "+--------+-------+\n",
      "|is_fraud|  count|\n",
      "+--------+-------+\n",
      "|       1|   9468|\n",
      "|       0|1716130|\n",
      "+--------+-------+\n",
      "\n"
     ]
    },
    {
     "name": "stderr",
     "output_type": "stream",
     "text": [
      "                                                                                \r"
     ]
    }
   ],
   "source": [
    "df.groupBy('is_fraud').count().show(2)"
   ]
  },
  {
   "cell_type": "markdown",
   "metadata": {},
   "source": [
    "Down-sampling the dataset will make it easier to run local exploration tasks. Here the dataset is down-sampled to 5% of the original 1.6M+ rows."
   ]
  },
  {
   "cell_type": "code",
   "execution_count": 13,
   "metadata": {},
   "outputs": [],
   "source": [
    "df_sample = df.sample(False, 0.05)"
   ]
  },
  {
   "cell_type": "markdown",
   "metadata": {},
   "source": [
    "You can check that the new row count is much smaller:"
   ]
  },
  {
   "cell_type": "code",
   "execution_count": 14,
   "metadata": {},
   "outputs": [
    {
     "name": "stderr",
     "output_type": "stream",
     "text": [
      "                                                                                \r"
     ]
    },
    {
     "data": {
      "text/plain": [
       "86436"
      ]
     },
     "execution_count": 14,
     "metadata": {},
     "output_type": "execute_result"
    }
   ],
   "source": [
    "df_sample.count()"
   ]
  },
  {
   "cell_type": "code",
   "execution_count": 15,
   "metadata": {},
   "outputs": [
    {
     "name": "stderr",
     "output_type": "stream",
     "text": [
      "[Stage 13:===================================================>      (8 + 1) / 9]\r"
     ]
    },
    {
     "name": "stdout",
     "output_type": "stream",
     "text": [
      "+--------+-----+\n",
      "|is_fraud|count|\n",
      "+--------+-----+\n",
      "|       1|  457|\n",
      "|       0|85979|\n",
      "+--------+-----+\n",
      "\n"
     ]
    },
    {
     "name": "stderr",
     "output_type": "stream",
     "text": [
      "                                                                                \r"
     ]
    }
   ],
   "source": [
    "df_sample.groupBy('is_fraud').count().show(2)"
   ]
  },
  {
   "cell_type": "markdown",
   "metadata": {},
   "source": [
    "<a id=\"customer_info\"></a>\n",
    "### 4.1. Customer Information\n",
    "\n",
    "The first 16 columns correspond to the customer profile:\n",
    "- ssn: string (nullable = true)\n",
    "- cc_num: long (nullable = true)\n",
    "- first: string (nullable = true)\n",
    "- last: string (nullable = true)\n",
    "- gender: string (nullable = true)\n",
    "- street: string (nullable = true)\n",
    "- city: string (nullable = true)\n",
    "- state: string (nullable = true)\n",
    "- zip: integer (nullable = true)\n",
    "- lat: double (nullable = true)\n",
    "- long: double (nullable = true)\n",
    "- city_pop: integer (nullable = true)\n",
    "- job: string (nullable = true)\n",
    "- dob: string (nullable = true)\n",
    "- acct_num: long (nullable = true)\n",
    "- profile: string (nullable = true)\n",
    "\n",
    "Looking at how the data is generated, we can see that any customer may have fraudulent transactions, so that `ssn`, `acct_num`, `name`, or `job` may not be relevant.\n",
    "\n",
    "Each customer has a specific profile, which determines the type, amount, and frequency of transactions. The profiles consider `gender`, `age`, and type of city (urban or rural), so gender, age, and city details are relevant columns.\n",
    "\n",
    "In each profile, there is also a flag determining if the customer travels or not. Note that at the time of writing (v1.0) the generator code does not take this flag into account)\n"
   ]
  },
  {
   "cell_type": "markdown",
   "metadata": {},
   "source": [
    "<a id=\"age\"></a>\n",
    "#### 4.1.1. Customer Age\n",
    "\n",
    "Let's have a look at the customer attributes, starting with age:"
   ]
  },
  {
   "cell_type": "code",
   "execution_count": 16,
   "metadata": {},
   "outputs": [
    {
     "name": "stderr",
     "output_type": "stream",
     "text": [
      "                                                                                \r"
     ]
    },
    {
     "data": {
      "text/plain": [
       "<AxesSubplot: title={'center': 'Fraud vs. Legitimate'}, ylabel='Frequency'>"
      ]
     },
     "execution_count": 16,
     "metadata": {},
     "output_type": "execute_result"
    },
    {
     "data": {
      "image/png": "[encoded data removed]",
      "text/plain": [
       "<Figure size 640x480 with 2 Axes>"
      ]
     },
     "metadata": {},
     "output_type": "display_data"
    }
   ],
   "source": [
    "df_sample\\\n",
    "    .withColumn('age',floor(datediff(col('trans_date'), to_date(col('dob'), 'yyyy-mm-dd'))/365.25))\\\n",
    "    .withColumn('fraud', when(col('is_fraud') == 1, col('age')).when(col('is_fraud') == 0, None))\\\n",
    "    .withColumn('legitimate', when(col('is_fraud') == 0, col('age')).when(col('is_fraud') == 0, None))\\\n",
    "    .select(['fraud', 'legitimate'])\\\n",
    "    .toPandas().plot.hist(by=['fraud', 'legitimate'], histtype='bar', bins=100, title='Fraud vs. Legitimate', xlabel='Age', secondary_y='fraud')\n"
   ]
  },
  {
   "cell_type": "markdown",
   "metadata": {},
   "source": [
    "Customer age distribution between fraudulent and non fraudulent transactions is visually different indicating age is a relevant factor."
   ]
  },
  {
   "cell_type": "markdown",
   "metadata": {},
   "source": [
    "<a id=\"gender\"></a>\n",
    "#### 4.1.2. Customer Gender\n"
   ]
  },
  {
   "cell_type": "code",
   "execution_count": 17,
   "metadata": {},
   "outputs": [
    {
     "name": "stderr",
     "output_type": "stream",
     "text": [
      "                                                                                \r"
     ]
    },
    {
     "data": {
      "text/plain": [
       "<AxesSubplot: title={'center': 'legitimate'}, ylabel='count'>"
      ]
     },
     "execution_count": 17,
     "metadata": {},
     "output_type": "execute_result"
    },
    {
     "data": {
      "image/png": "[encoded data removed]",
      "text/plain": [
       "<Figure size 640x480 with 1 Axes>"
      ]
     },
     "metadata": {},
     "output_type": "display_data"
    },
    {
     "data": {
      "image/png": "[encoded data removed]",
      "text/plain": [
       "<Figure size 640x480 with 1 Axes>"
      ]
     },
     "metadata": {},
     "output_type": "display_data"
    }
   ],
   "source": [
    "df_sample.filter(col('is_fraud') == 1)\\\n",
    "    .withColumn('gender',when((col('gender') == 'M'),'Male').when((col('gender') == 'F'),'Female'))\\\n",
    "    .select('gender')\\\n",
    "    .groupBy('gender')\\\n",
    "    .count()\\\n",
    "    .toPandas().set_index('gender').plot.pie(y='count', title='fraud', legend=None)\n",
    "\n",
    "df_sample.filter(col('is_fraud') == 0)\\\n",
    "    .withColumn('gender',when((col('gender') == 'M'),'Male').when((col('gender') == 'F'),'Female'))\\\n",
    "    .select('gender')\\\n",
    "    .groupBy('gender')\\\n",
    "    .count()\\\n",
    "    .toPandas().set_index('gender').plot.pie(y='count', title='legitimate', legend=None)"
   ]
  },
  {
   "cell_type": "markdown",
   "metadata": {},
   "source": [
    "The dataset is fairly balanced in terms of gender distribution."
   ]
  },
  {
   "cell_type": "markdown",
   "metadata": {},
   "source": [
    "<a id=\"city_population\"></a>\n",
    "#### 4.1.3. Customer City Population\n"
   ]
  },
  {
   "cell_type": "code",
   "execution_count": 18,
   "metadata": {},
   "outputs": [
    {
     "name": "stderr",
     "output_type": "stream",
     "text": [
      "                                                                                \r"
     ]
    },
    {
     "data": {
      "text/plain": [
       "<AxesSubplot: title={'center': 'Fraud vs. Legitimate'}, ylabel='Frequency'>"
      ]
     },
     "execution_count": 18,
     "metadata": {},
     "output_type": "execute_result"
    },
    {
     "data": {
      "image/png": "[encoded data removed]",
      "text/plain": [
       "<Figure size 640x480 with 2 Axes>"
      ]
     },
     "metadata": {},
     "output_type": "display_data"
    }
   ],
   "source": [
    "df_sample\\\n",
    "    .withColumn('fraud', when(col('is_fraud') == 1, col('city_pop')).when(col('is_fraud') == 0, 0))\\\n",
    "    .withColumn('legitimate', when(col('is_fraud') == 0, col('city_pop')).when(col('is_fraud') == 0, 0))\\\n",
    "    .select(['fraud', 'legitimate'])\\\n",
    "    .toPandas().plot.hist(by=['fraud', 'legitimate'], histtype='bar', bins=100, logy=True, title='Fraud vs. Legitimate', xlabel='Population', secondary_y='fraud')\n",
    "                "
   ]
  },
  {
   "cell_type": "markdown",
   "metadata": {},
   "source": [
    "The generator creates profiles based on urban or rural areas, yet the population distribution seems similar with both fraud and legitimate transactions."
   ]
  },
  {
   "cell_type": "markdown",
   "metadata": {},
   "source": [
    "<a id=\"transaction_info\"></a>\n",
    "### 4.2. Transaction Information\n",
    "\n",
    "The next 10 columns cover the transaction information, including the label `is_fraud`:\n",
    "- trans_num: string (nullable = true)\n",
    "- trans_date: string (nullable = true)\n",
    "- trans_time: string (nullable = true)\n",
    "- unix_time: integer (nullable = true)\n",
    "- category: string (nullable = true)\n",
    "- amt: double (nullable = true)\n",
    "- is_fraud: integer (nullable = true)\n",
    "- merchant: string (nullable = true)\n",
    "- merch_lat: double (nullable = true)\n",
    "- merch_long: double (nullable = true)\n",
    "\n",
    "Let's have a look at the transaction columns to see what may be relevant:\n",
    "\n"
   ]
  },
  {
   "cell_type": "markdown",
   "metadata": {},
   "source": [
    "<a id=\"day_of_week\"></a>\n",
    "#### 4.2.1. Day of Week\n",
    "\n",
    "First, let's look for patterns of fraudulent transactions vs. legitimate ones in the transaction date:"
   ]
  },
  {
   "cell_type": "code",
   "execution_count": 19,
   "metadata": {},
   "outputs": [
    {
     "name": "stderr",
     "output_type": "stream",
     "text": [
      "                                                                                \r"
     ]
    },
    {
     "data": {
      "text/plain": [
       "<AxesSubplot: title={'center': 'Legitimate'}, xlabel='Day of the Week'>"
      ]
     },
     "execution_count": 19,
     "metadata": {},
     "output_type": "execute_result"
    },
    {
     "data": {
      "image/png": "[encoded data removed]",
      "text/plain": [
       "<Figure size 640x480 with 1 Axes>"
      ]
     },
     "metadata": {},
     "output_type": "display_data"
    },
    {
     "data": {
      "image/png": "[encoded data removed]",
      "text/plain": [
       "<Figure size 640x480 with 1 Axes>"
      ]
     },
     "metadata": {},
     "output_type": "display_data"
    }
   ],
   "source": [
    "df_sample.filter(col('is_fraud') == 1)\\\n",
    "    .withColumn('day_of_week', dayofweek(col('trans_date')))\\\n",
    "    .select('day_of_week')\\\n",
    "    .groupBy('day_of_week')\\\n",
    "    .count()\\\n",
    "    .sort('day_of_week')\\\n",
    "    .toPandas().plot.bar(y='count', x='day_of_week', title='Fraud', xlabel='Day of the Week')\n",
    "\n",
    "df_sample.filter(col('is_fraud') == 0)\\\n",
    "    .withColumn('day_of_week', dayofweek(col('trans_date')))\\\n",
    "    .select('day_of_week')\\\n",
    "    .groupBy('day_of_week')\\\n",
    "    .count()\\\n",
    "    .sort('day_of_week')\\\n",
    "    .toPandas().plot.bar(y='count', x='day_of_week', title='Legitimate', xlabel='Day of the Week')\n"
   ]
  },
  {
   "cell_type": "markdown",
   "metadata": {},
   "source": [
    "Day of the week seem to have some relevance although it may just be our sample."
   ]
  },
  {
   "cell_type": "markdown",
   "metadata": {},
   "source": [
    "<a id=\"weekend\"></a>\n",
    "#### 4.2.2. Weekend or Weekday\n",
    "\n",
    "Let's now look if fraud is more prevalent on weekend or weekdays:"
   ]
  },
  {
   "cell_type": "code",
   "execution_count": 20,
   "metadata": {},
   "outputs": [
    {
     "name": "stderr",
     "output_type": "stream",
     "text": [
      "                                                                                \r"
     ]
    },
    {
     "data": {
      "text/plain": [
       "<AxesSubplot: title={'center': 'Legitimate'}, ylabel='count'>"
      ]
     },
     "execution_count": 20,
     "metadata": {},
     "output_type": "execute_result"
    },
    {
     "data": {
      "image/png": "[encoded data removed]",
      "text/plain": [
       "<Figure size 640x480 with 1 Axes>"
      ]
     },
     "metadata": {},
     "output_type": "display_data"
    },
    {
     "data": {
      "image/png": "[encoded data removed]",
      "text/plain": [
       "<Figure size 640x480 with 1 Axes>"
      ]
     },
     "metadata": {},
     "output_type": "display_data"
    }
   ],
   "source": [
    "df_sample.filter(col('is_fraud') == 1)\\\n",
    "    .withColumn('is_weekend', when(dayofweek(col(\"trans_date\")).isin([1,7]), 'Weekend').otherwise('Weekday'))\\\n",
    "    .select('is_weekend')\\\n",
    "    .groupBy('is_weekend')\\\n",
    "    .count()\\\n",
    "    .toPandas().set_index('is_weekend').plot.pie(y='count', title='Fraud', legend=None)\n",
    "df_sample.filter(col('is_fraud') == 0)\\\n",
    "    .withColumn('is_weekend', when(dayofweek(col(\"trans_date\")).isin([1,7]), 'Weekend').otherwise('Weekday'))\\\n",
    "    .select('is_weekend')\\\n",
    "    .groupBy('is_weekend')\\\n",
    "    .count()\\\n",
    "    .toPandas().set_index('is_weekend').plot.pie(y='count', title='Legitimate', legend=None)"
   ]
  },
  {
   "cell_type": "markdown",
   "metadata": {},
   "source": [
    "There is a significant skew towards fraudulent transactions on weekends."
   ]
  },
  {
   "cell_type": "markdown",
   "metadata": {},
   "source": [
    "<a id=\"month_of_year\"></a>\n",
    "#### 1.4.2.3. Month of the Year\n",
    "\n",
    "Let's now look at the month of the year"
   ]
  },
  {
   "cell_type": "code",
   "execution_count": 21,
   "metadata": {},
   "outputs": [
    {
     "name": "stderr",
     "output_type": "stream",
     "text": [
      "                                                                                \r"
     ]
    },
    {
     "data": {
      "text/plain": [
       "<AxesSubplot: title={'center': 'legitimate'}, xlabel='Month of the Year'>"
      ]
     },
     "execution_count": 21,
     "metadata": {},
     "output_type": "execute_result"
    },
    {
     "data": {
      "image/png": "[encoded data removed]",
      "text/plain": [
       "<Figure size 640x480 with 1 Axes>"
      ]
     },
     "metadata": {},
     "output_type": "display_data"
    },
    {
     "data": {
      "image/png": "[encoded data removed]",
      "text/plain": [
       "<Figure size 640x480 with 1 Axes>"
      ]
     },
     "metadata": {},
     "output_type": "display_data"
    }
   ],
   "source": [
    "df_sample.filter(col('is_fraud') == 1)\\\n",
    "    .withColumn('month_of_year', month(col('trans_date')))\\\n",
    "    .select('month_of_year')\\\n",
    "    .groupBy('month_of_year')\\\n",
    "    .count()\\\n",
    "    .sort('month_of_year')\\\n",
    "    .toPandas().plot.bar(y='count', x='month_of_year', xlabel='Month of the Year', title='Fraud', legend=None)\n",
    "\n",
    "df_sample.filter(col('is_fraud') == 0)\\\n",
    "    .withColumn('month_of_year', month(col('trans_date')))\\\n",
    "    .select('month_of_year')\\\n",
    "    .groupBy('month_of_year')\\\n",
    "    .count()\\\n",
    "    .sort('month_of_year')\\\n",
    "    .toPandas().plot.bar(y='count', x='month_of_year', xlabel='Month of the Year', title='legitimate', legend=None)\n"
   ]
  },
  {
   "cell_type": "markdown",
   "metadata": {},
   "source": [
    "The month of the year seems relevant as fraudulent transactions are fairly evenly distributed over the whole year while legitimate transaction peek in December."
   ]
  },
  {
   "cell_type": "markdown",
   "metadata": {},
   "source": [
    "<a id=\"time_of_day\"></a>\n",
    "#### 4.2.4. Time of Day\n",
    "\n",
    "Now let's look at the time of day:"
   ]
  },
  {
   "cell_type": "code",
   "execution_count": 22,
   "metadata": {},
   "outputs": [
    {
     "name": "stderr",
     "output_type": "stream",
     "text": [
      "                                                                                \r"
     ]
    },
    {
     "data": {
      "text/plain": [
       "<AxesSubplot: title={'center': 'Legitimate'}, xlabel='Hour of the Day'>"
      ]
     },
     "execution_count": 22,
     "metadata": {},
     "output_type": "execute_result"
    },
    {
     "data": {
      "image/png": "[encoded data removed]",
      "text/plain": [
       "<Figure size 640x480 with 1 Axes>"
      ]
     },
     "metadata": {},
     "output_type": "display_data"
    },
    {
     "data": {
      "image/png": "[encoded data removed]",
      "text/plain": [
       "<Figure size 640x480 with 1 Axes>"
      ]
     },
     "metadata": {},
     "output_type": "display_data"
    }
   ],
   "source": [
    "df_sample.filter(col('is_fraud') == 1)\\\n",
    "    .withColumn('hour_of_day', hour(col('trans_time')))\\\n",
    "    .select('hour_of_day')\\\n",
    "    .groupBy('hour_of_day')\\\n",
    "    .count()\\\n",
    "    .sort('hour_of_day')\\\n",
    "    .toPandas().plot.bar(y='count', x='hour_of_day', title='Fraud', legend=None, xlabel='Hour of the Day')\n",
    "\n",
    "df_sample.filter(col('is_fraud') == 0)\\\n",
    "    .withColumn('hour_of_day', hour(col('trans_time')))\\\n",
    "    .select('hour_of_day')\\\n",
    "    .groupBy('hour_of_day')\\\n",
    "    .count()\\\n",
    "    .sort('hour_of_day')\\\n",
    "    .toPandas().plot.bar(y='count', x='hour_of_day', title='Legitimate', legend=None, xlabel='Hour of the Day')\n"
   ]
  },
  {
   "cell_type": "markdown",
   "metadata": {},
   "source": [
    "Time of day is one of the factors that highlight fraudulent transactions. This is expected as the generator code specifically \n",
    "defines a higher probability of fraud during late evening and early morning hours."
   ]
  },
  {
   "cell_type": "markdown",
   "metadata": {},
   "source": [
    "<a id=\"amount\"></a>\n",
    "#### 4.2.5. Transaction Amount\n",
    "\n",
    "Let's see what other columns may be relevant. The transaction amount distribution is expected to be a factor:"
   ]
  },
  {
   "cell_type": "code",
   "execution_count": 23,
   "metadata": {},
   "outputs": [
    {
     "name": "stderr",
     "output_type": "stream",
     "text": [
      "                                                                                \r"
     ]
    },
    {
     "data": {
      "text/plain": [
       "<AxesSubplot: title={'center': 'Fraud vs. Legitimate'}, ylabel='Frequency'>"
      ]
     },
     "execution_count": 23,
     "metadata": {},
     "output_type": "execute_result"
    },
    {
     "data": {
      "image/png": "[encoded data removed]",
      "text/plain": [
       "<Figure size 640x480 with 2 Axes>"
      ]
     },
     "metadata": {},
     "output_type": "display_data"
    }
   ],
   "source": [
    "df_sample\\\n",
    "    .withColumn('fraud', when(col('is_fraud') == 1, col('amt')).when(col('is_fraud') == 0, None))\\\n",
    "    .withColumn('legitimate', when(col('is_fraud') == 0, col('amt')).when(col('is_fraud') == 0, None))\\\n",
    "    .select(['fraud', 'legitimate'])\\\n",
    "    .toPandas().plot.hist(by=['fraud', 'legitimate'], histtype='bar', bins=100, logy=True, title='Fraud vs. Legitimate', xlabel='Amount', secondary_y='fraud')\n"
   ]
  },
  {
   "cell_type": "markdown",
   "metadata": {},
   "source": [
    "Amount is clearly a factor in identifying fraudulent transactions, so this column will be kept."
   ]
  },
  {
   "cell_type": "markdown",
   "metadata": {},
   "source": [
    "<a id=\"category\"></a>\n",
    "#### 4.2.6. Merchant Category\n",
    "\n",
    "Let's look at the merchant `category` column:"
   ]
  },
  {
   "cell_type": "code",
   "execution_count": 24,
   "metadata": {},
   "outputs": [
    {
     "name": "stderr",
     "output_type": "stream",
     "text": [
      "                                                                                \r"
     ]
    },
    {
     "data": {
      "text/plain": [
       "<AxesSubplot: title={'center': 'legitimate'}, xlabel='category'>"
      ]
     },
     "execution_count": 24,
     "metadata": {},
     "output_type": "execute_result"
    },
    {
     "data": {
      "image/png": "[encoded data removed]",
      "text/plain": [
       "<Figure size 640x480 with 1 Axes>"
      ]
     },
     "metadata": {},
     "output_type": "display_data"
    },
    {
     "data": {
      "image/png": "[encoded data removed]",
      "text/plain": [
       "<Figure size 640x480 with 1 Axes>"
      ]
     },
     "metadata": {},
     "output_type": "display_data"
    }
   ],
   "source": [
    "df_sample.filter(col('is_fraud') == 1)\\\n",
    "    .select('category')\\\n",
    "    .groupBy('category')\\\n",
    "    .count()\\\n",
    "    .orderBy('category')\\\n",
    "    .toPandas().plot.bar(y='count', x='category', title='Fraud', legend=None)\n",
    "\n",
    "df_sample.filter(col('is_fraud') == 0)\\\n",
    "    .select('category')\\\n",
    "    .groupBy('category')\\\n",
    "    .count()\\\n",
    "    .orderBy('category')\\\n",
    "    .toPandas().plot.bar(y='count', x='category', title='legitimate', legend=None)\n"
   ]
  },
  {
   "cell_type": "markdown",
   "metadata": {},
   "source": [
    "It also seem to carry some information about fraud. Because it is categorical data, it will need to be encoded to be suitable for regression models."
   ]
  },
  {
   "cell_type": "markdown",
   "metadata": {},
   "source": [
    "<a id=\"distance\"></a>\n",
    "#### 4.2.7. Distance to Merchant\n",
    "\n",
    "The distance to the merchant may be relevant. The following cell is a helper function to compute distance from geo coordinates."
   ]
  },
  {
   "cell_type": "code",
   "execution_count": 25,
   "metadata": {},
   "outputs": [],
   "source": [
    "def distance(lat, long, merchant_lat, merchant_long):\n",
    "\n",
    "    # approximate radius of earth in km\n",
    "    R = 6373.0\n",
    "\n",
    "    s_lat = np.deg2rad(float(lat))                      \n",
    "    s_lng = np.deg2rad(float(long))     \n",
    "    e_lat = np.deg2rad(float(merchant_lat))                       \n",
    "    e_lng = np.deg2rad(float(merchant_long))  \n",
    "\n",
    "    d = np.sin((e_lat - s_lat) / 2)**2 + np.cos(s_lat) * np.cos(e_lat) * np.sin((e_lng - s_lng) / 2)**2\n",
    "\n",
    "    return float(2 * R * np.arcsin(np.sqrt(d)))\n",
    "\n",
    "distance_udf = udf(lambda lat, long, merchant_lat, merchant_long: distance(lat, long, merchant_lat, merchant_long), FloatType())"
   ]
  },
  {
   "cell_type": "markdown",
   "metadata": {},
   "source": [
    "Applying the function to the dataframe, using the `lat`, `long`, `merch_lat` and `merch_long`:"
   ]
  },
  {
   "cell_type": "code",
   "execution_count": 26,
   "metadata": {},
   "outputs": [],
   "source": [
    "df_sample = df_sample.withColumn(\"distance\", distance_udf(col('lat'), col('long'), col('merch_lat'), col('merch_long')))"
   ]
  },
  {
   "cell_type": "markdown",
   "metadata": {},
   "source": [
    "The comparison between legitimate and fraudulent transactions can now be plotted as a histogram:"
   ]
  },
  {
   "cell_type": "code",
   "execution_count": 27,
   "metadata": {},
   "outputs": [
    {
     "name": "stderr",
     "output_type": "stream",
     "text": [
      "                                                                                \r"
     ]
    },
    {
     "data": {
      "text/plain": [
       "<AxesSubplot: title={'center': 'Fraud vs. Legitimate'}, ylabel='Frequency'>"
      ]
     },
     "execution_count": 27,
     "metadata": {},
     "output_type": "execute_result"
    },
    {
     "data": {
      "image/png": "[encoded data removed]",
      "text/plain": [
       "<Figure size 640x480 with 2 Axes>"
      ]
     },
     "metadata": {},
     "output_type": "display_data"
    }
   ],
   "source": [
    "df_sample\\\n",
    "    .withColumn('fraud', when(col('is_fraud') == 1, col('distance')).when(col('is_fraud') == 0, None))\\\n",
    "    .withColumn('legitimate', when(col('is_fraud') == 0, col('distance')).when(col('is_fraud') == 0, None))\\\n",
    "    .select(['fraud', 'legitimate'])\\\n",
    "    .toPandas().plot.hist(by=['fraud', 'legitimate'], histtype='bar', bins=100, logy=True, title='Fraud vs. Legitimate', xlabel='Distance', secondary_y='fraud')\n"
   ]
  },
  {
   "cell_type": "markdown",
   "metadata": {},
   "source": [
    "Distance doesn't show to be an important factor. In fact, the travelling flag is disabled in the generator code. This feature can be kept for when the flag is enabled."
   ]
  },
  {
   "cell_type": "markdown",
   "metadata": {},
   "source": [
    "<a id=\"features\"></a>\n",
    "## 5. Feature Engineering\n",
    "\n",
    "Since many machine learning models expect numeric values as input, and many of the dataset columns are string columns, these need to be encoded to test various models.\n",
    "\n",
    "For the customer information:\n",
    "\n",
    "- The value for `gender` is `male` or `female` so it can be dummy encoded.\n",
    "- The `street`, `city`, and `state` are difficult to 1-hot encode as this type of encoding assumes a fixed set of categories. `zip` actually encodes these values fairly accurately so it could be used alone, however despite being an integer, it is technically categorical data and not numeric.\n",
    "- The `long` and `lat` pair of values is a better representation of the city location and potential area for fraud. Distance to the merchant is a metric of interest in this model, so `lat` and `long` are the better columns to use.\n",
    "- The `dob` (date of birth) column is useful information but customer profiles use `age`, `age` will be computed from `dob`.\n",
    "- The `city_pop` column defines whether a city is urban or rural, which is part of the profiles.\n",
    "\n",
    "For the transaction information:\n",
    "\n",
    "- The `amount` column is important.\n",
    "- The merchant `merch_long` and `merch_lat` columns are needed for distance calculation.\n",
    "- The merchant `category` is a categorical column that needs encoding.\n",
    "- The transaction date and time need to be augmented to extract additional useful features.\n",
    "\n",
    "In conclusion, you will:\n",
    "\n",
    "- Keep and encode the `gender` column.\n",
    "- Compute `age` from `dob`.\n",
    "- Compute time of day, day of the week, if the day is a weekend, and the month of the year from the transaction date.\n",
    "- Use `long` and `lat` to compute distance to the merchant.\n",
    "- Use `city_pop` to represent city area.\n",
    "\n",
    "\n",
    "With the identified features, you will put it together into a single function for feature engineering that includes the necessary transforms.\n",
    "\n",
    "This includes the 1-hot encoding for the `category` column we have not worked on yet."
   ]
  },
  {
   "cell_type": "markdown",
   "metadata": {},
   "source": [
    "<a id=\"build_features\"></a>\n",
    "### 5.1 Build the feature set"
   ]
  },
  {
   "cell_type": "code",
   "execution_count": 28,
   "metadata": {},
   "outputs": [],
   "source": [
    "def create_feature_columns(df):\n",
    "    # Augments the dataset with features we identified\n",
    "    \n",
    "    # drop unneeded columns\n",
    "    df = df.drop('ssn', 'cc_num', 'first', 'last', 'street', 'city', 'state', \n",
    "                 'zip', 'job', 'acct_num', 'profile', 'trans_num', 'unix_time', \n",
    "                 'merchant')\n",
    "\n",
    "    # transaction date and time features\n",
    "    df = df.withColumn('day_of_week', dayofweek(col('trans_date')))\n",
    "    df = df.withColumn('month_of_year', month(col('trans_date')))\n",
    "    df = df.withColumn('hour_of_day', hour(col('trans_time')))\n",
    "    df = df.withColumn('is_weekend', col('day_of_week').isin([1,7]).cast('int'))\n",
    "    \n",
    "    # distance\n",
    "    distance_udf = udf(lambda lat, long, merch_lat, merch_long: distance(lat, long, merch_lat, merch_long), FloatType())\n",
    "    df = df.withColumn(\"distance\", distance_udf(col('lat'), col('long'), col('merch_lat'), col('merch_long')))\n",
    "    \n",
    "    # customer age and gender\n",
    "    df = df.withColumn('age', floor(datediff(col('trans_date'), to_date(col('dob'), 'yyyy-mm-dd'))/365.25))\n",
    "    df = df.withColumn('gender', when((col('gender') == 'M'), 1).when((col('gender') == 'F'), 0).otherwise(-1))\n",
    "    \n",
    "    # drop no longer used columns\n",
    "    df = df.drop('dob', 'trans_date', 'trans_time')\n",
    "\n",
    "    return df\n",
    "\n",
    "def create_feature_encoding_pipeline(df):\n",
    "    # Create a pipeline model encoding categorica features\n",
    "    # which can be re-used to evaluate the model\n",
    "    \n",
    "    # 1-hot encode merchant category\n",
    "    stringIndexer = StringIndexer(inputCol='category', outputCol='category_index')\n",
    "    encoder = OneHotEncoder(inputCols=[stringIndexer.getOutputCol()], outputCols=['category_classVec'])\n",
    "    \n",
    "    stages = [stringIndexer, encoder]\n",
    "    \n",
    "    numeric_columns = [col[0] for col in df.dtypes if col[1] in ['int', 'double'] and col[0] != 'is_fraud']\n",
    "    assembler_inputs = ['category_classVec'] + numeric_columns\n",
    "    assembler = VectorAssembler(inputCols=assembler_inputs, outputCol=\"features\")\n",
    "    stages += [assembler]\n",
    "    \n",
    "    # put together the pipeline with the indexer, encoder and vector assembler\n",
    "    pipeline = Pipeline(stages=stages)\n",
    "    # fit the pipeline with the dataset\n",
    "    pipeline_model = pipeline.fit(df)\n",
    "    return pipeline_model\n",
    "\n",
    "def encode_features(df, pipeline_model):\n",
    "    df = pipeline_model.transform(df)\n",
    "    df = df.drop('category_classVec')    \n",
    "    return df\n",
    "    "
   ]
  },
  {
   "cell_type": "markdown",
   "metadata": {},
   "source": [
    "Putting it all together: \n",
    "- Create the feature columns\n",
    "- Create an encoding pipeline\n",
    "- Encode the features with the encoding pipeline"
   ]
  },
  {
   "cell_type": "code",
   "execution_count": 29,
   "metadata": {},
   "outputs": [
    {
     "name": "stderr",
     "output_type": "stream",
     "text": [
      "                                                                                \r"
     ]
    }
   ],
   "source": [
    "df2 = create_feature_columns(df_sample)\n",
    "pipeline_model = create_feature_encoding_pipeline(df2)\n",
    "df2 = encode_features(df2, pipeline_model)"
   ]
  },
  {
   "cell_type": "markdown",
   "metadata": {},
   "source": [
    "The dataset now includes the encoded features as a vector column named `features`."
   ]
  },
  {
   "cell_type": "code",
   "execution_count": 30,
   "metadata": {},
   "outputs": [
    {
     "name": "stdout",
     "output_type": "stream",
     "text": [
      "root\n",
      " |-- gender: integer (nullable = false)\n",
      " |-- lat: double (nullable = true)\n",
      " |-- long: double (nullable = true)\n",
      " |-- city_pop: integer (nullable = true)\n",
      " |-- category: string (nullable = true)\n",
      " |-- amt: double (nullable = true)\n",
      " |-- is_fraud: integer (nullable = true)\n",
      " |-- merch_lat: double (nullable = true)\n",
      " |-- merch_long: double (nullable = true)\n",
      " |-- distance: float (nullable = true)\n",
      " |-- day_of_week: integer (nullable = true)\n",
      " |-- month_of_year: integer (nullable = true)\n",
      " |-- hour_of_day: integer (nullable = true)\n",
      " |-- is_weekend: integer (nullable = true)\n",
      " |-- age: long (nullable = true)\n",
      " |-- category_index: double (nullable = false)\n",
      " |-- features: vector (nullable = true)\n",
      "\n"
     ]
    }
   ],
   "source": [
    "df2.printSchema()"
   ]
  },
  {
   "cell_type": "markdown",
   "metadata": {},
   "source": [
    "<a id=\"split_set\"></a>\n",
    "### 5.1. Split Train and Test sets\n",
    "\n",
    "You will now split the dataset into train and test subsets with a ratio of 80:20, so 80% is used for training and 20% is kept aside for testing. The testing set must be data the model has never seen before."
   ]
  },
  {
   "cell_type": "code",
   "execution_count": 31,
   "metadata": {},
   "outputs": [
    {
     "name": "stderr",
     "output_type": "stream",
     "text": [
      "                                                                                \r"
     ]
    },
    {
     "name": "stdout",
     "output_type": "stream",
     "text": [
      "Training Dataset Count: 69073\n"
     ]
    },
    {
     "name": "stderr",
     "output_type": "stream",
     "text": [
      "[Stage 102:===================>                                     (3 + 6) / 9]\r"
     ]
    },
    {
     "name": "stdout",
     "output_type": "stream",
     "text": [
      "Test Dataset Count: 17363\n"
     ]
    },
    {
     "name": "stderr",
     "output_type": "stream",
     "text": [
      "                                                                                \r"
     ]
    }
   ],
   "source": [
    "train, test = df2.randomSplit([0.8, 0.2], seed = 2018)\n",
    "print(\"Training Dataset Count: \" + str(train.count()))\n",
    "print(\"Test Dataset Count: \" + str(test.count()))"
   ]
  },
  {
   "cell_type": "markdown",
   "metadata": {},
   "source": [
    "<a id=\"rebalance\"></a>\n",
    "### 5.2. Balance Classes\n",
    "\n",
    "Fraud amounts to about 1% of transactions, so the dataset is strongly unbalanced. To give the fraud cases more weight during model training, the legitimate transactions are down-sampled to 5% of the original set. This is done on both the training set and testing set so the testing set matches the training set shape.\n",
    "\n",
    "The scoring set will later be used to test the model on the more realistic unbalanced dataset to evaluate what can be expected for its actual performance.\n"
   ]
  },
  {
   "cell_type": "code",
   "execution_count": 32,
   "metadata": {},
   "outputs": [
    {
     "name": "stderr",
     "output_type": "stream",
     "text": [
      "[Stage 105:============================================>            (7 + 2) / 9]\r"
     ]
    },
    {
     "name": "stdout",
     "output_type": "stream",
     "text": [
      "+--------+-----+\n",
      "|is_fraud|count|\n",
      "+--------+-----+\n",
      "|       0| 3455|\n",
      "|       1|  356|\n",
      "+--------+-----+\n",
      "\n"
     ]
    },
    {
     "name": "stderr",
     "output_type": "stream",
     "text": [
      "                                                                                \r"
     ]
    }
   ],
   "source": [
    "train_downsampled = train.sampleBy('is_fraud',\n",
    "                                    fractions = {\n",
    "                                         1: 1,\n",
    "                                         0: 0.05\n",
    "                                     }, seed= 1234)\n",
    "train_downsampled.groupBy('is_fraud').count().orderBy('is_fraud').show(2)"
   ]
  },
  {
   "cell_type": "code",
   "execution_count": 33,
   "metadata": {},
   "outputs": [
    {
     "name": "stderr",
     "output_type": "stream",
     "text": [
      "[Stage 108:=========================>                               (4 + 5) / 9]\r"
     ]
    },
    {
     "name": "stdout",
     "output_type": "stream",
     "text": [
      "+--------+-----+\n",
      "|is_fraud|count|\n",
      "+--------+-----+\n",
      "|       0|  882|\n",
      "|       1|  101|\n",
      "+--------+-----+\n",
      "\n"
     ]
    },
    {
     "name": "stderr",
     "output_type": "stream",
     "text": [
      "                                                                                \r"
     ]
    }
   ],
   "source": [
    "test_downsampled = test.sampleBy('is_fraud',\n",
    "                                    fractions = {\n",
    "                                         1: 1,\n",
    "                                         0: 0.05\n",
    "                                     }, seed= 1234)\n",
    "test_downsampled.groupBy('is_fraud').count().orderBy('is_fraud').show(2)"
   ]
  },
  {
   "cell_type": "markdown",
   "metadata": {},
   "source": [
    "<a id=\"eval_helper\"></a>\n",
    "### 5.3. Model Evaluation helper\n",
    "\n",
    "To evaluate the performance of our model, the receiver operating characteristic (ROC) curve, the Precision / Recall curve, and the confusion matrix, are useful metrics that give indications about rates of false positives and false negatives.\n",
    "\n",
    "The next cell is a helper function to compute these functions, which can be used to evaluate the different models you will try.\n",
    "\n",
    "- The model decision function provides a way to introspect the ability of the classifier at different thresholds or steps of the fitting process.\n",
    "- The Receiver Operating Characteristic (ROC) Area Under the Curve (AUC) provides a single metric measuring the area under the ROC curve. The ROC curve looks at False Positive Rate vs. True Positive Rate across the decision function. \n",
    "- The Confusion Matrix shows the number of True Positive, True Negative, False Positive, and False Negative, that is, the number of predictions that were correctly assigned to True or False as well as incorrectly classified. \n",
    "- The Precision / Recall curve provides another way to look at model performance. Precision is the ratio of correctly predicted fraudulent transactions over the number of predicted fraudulent transactions. Recall is the ratio of correctly predicted fraudulent transactions over the number of fraudulent transactions in the dataset. Ideally, both are close to 1.0.\n",
    "    \n",
    "The ROC and PR curves are useful because the curves of different models can be compared directly.\n",
    "\n",
    "ROC curves should be used when classes are balanced, while Precision-Recall curves are most useful for imbalanced datasets because ROC curve makes use of True Negatives in the False Positive Rate while it is avoided in the Precision-Recall curve.\n"
   ]
  },
  {
   "cell_type": "code",
   "execution_count": 34,
   "metadata": {},
   "outputs": [],
   "source": [
    "def eval_model(model, data, balanced=True):\n",
    "    \n",
    "    preds = model.transform(data)\n",
    "    y_preds = preds.select('prediction').rdd.keys().collect()\n",
    "    y_score = preds.select(vector_to_array(\"probability\")[1]).rdd.keys().collect()\n",
    "    y = preds.select(\"is_fraud\").rdd.keys().collect()\n",
    "    if balanced:\n",
    "        fpr, tpr, _ = roc_curve(y, y_score)\n",
    "        print(f\"ROC area under curve Score: {roc_auc_score(y, y_score)}\")\n",
    "    prec, recall, _ = precision_recall_curve(y, y_score)    \n",
    "    cm = confusion_matrix(y, y_preds)\n",
    "    pr = np.array([prec, recall]).T\n",
    "    pr = pr[pr[:,0].argsort()]\n",
    "    print(f\"PR area under curve Score: {auc(pr[:,0], pr[:,1])}\")\n",
    "    print(f\"Confusion Matrix:\")\n",
    "    print(cm)\n",
    "    if balanced:\n",
    "        roc_display = RocCurveDisplay(fpr=fpr, tpr=tpr).plot()\n",
    "    pr_display = PrecisionRecallDisplay(precision=prec, recall=recall).plot()\n",
    "    cm_display = ConfusionMatrixDisplay(confusion_matrix=cm).plot()\n"
   ]
  },
  {
   "cell_type": "markdown",
   "metadata": {},
   "source": [
    "To evaluate 'real-life' performance, the scoring dataset is used. Classes in that dataset are not balanced.\n",
    "\n",
    "Make sure to consider this fact when looking at the numbers, especially when looking at the confusion matrix."
   ]
  },
  {
   "cell_type": "code",
   "execution_count": 35,
   "metadata": {},
   "outputs": [
    {
     "name": "stderr",
     "output_type": "stream",
     "text": [
      "                                                                                \r"
     ]
    }
   ],
   "source": [
    "scoring_file_pattern = 'scoring set/medium/*male*.csv'\n",
    "scoring_df = sc.read.option(\"delimiter\", \"|\").csv(data_folder + scoring_file_pattern, header=True, inferSchema=True)\n"
   ]
  },
  {
   "cell_type": "markdown",
   "metadata": {},
   "source": [
    "Extra features are created and all features are then encoded for that dataset, using the encoding pipeline created earlier."
   ]
  },
  {
   "cell_type": "code",
   "execution_count": 36,
   "metadata": {},
   "outputs": [],
   "source": [
    "scoring_df = create_feature_columns(scoring_df)\n",
    "scoring_df = encode_features(scoring_df, pipeline_model)"
   ]
  },
  {
   "cell_type": "markdown",
   "metadata": {},
   "source": [
    "<a id=\"model_selection\"></a>\n",
    "## 1.6. Model Selection\n",
    "\n",
    "Here you will train a selection of models on the sample dataset to find the best performing solution.\n",
    "\n",
    "Unfortunately, with Spark models, it is not possible to use the automl features of the oracle ads module, so models are trained and evaluated individually.\n"
   ]
  },
  {
   "cell_type": "markdown",
   "metadata": {},
   "source": [
    "<a id=\"lr\"></a>\n",
    "### 1.6.1. Logistic Regression Model\n"
   ]
  },
  {
   "cell_type": "code",
   "execution_count": 37,
   "metadata": {},
   "outputs": [
    {
     "name": "stderr",
     "output_type": "stream",
     "text": [
      "                                                                                \r"
     ]
    }
   ],
   "source": [
    "c_lr = LogisticRegression(featuresCol='features', labelCol='is_fraud')\n",
    "model_lr = c_lr.fit(train_downsampled)"
   ]
  },
  {
   "cell_type": "markdown",
   "metadata": {},
   "source": [
    "Evaluate the trained Logistic Regression model on the test set:"
   ]
  },
  {
   "cell_type": "code",
   "execution_count": 38,
   "metadata": {},
   "outputs": [
    {
     "name": "stderr",
     "output_type": "stream",
     "text": [
      "                                                                                \r"
     ]
    },
    {
     "name": "stdout",
     "output_type": "stream",
     "text": [
      "ROC area under curve Score: 0.8988235558249702\n",
      "PR area under curve Score: 0.6450464883436515\n",
      "Confusion Matrix:\n",
      "[[873   9]\n",
      " [ 47  54]]\n"
     ]
    },
    {
     "data": {
      "image/png": "[encoded data removed]",
      "text/plain": [
       "<Figure size 640x480 with 1 Axes>"
      ]
     },
     "metadata": {},
     "output_type": "display_data"
    },
    {
     "data": {
      "image/png": "[encoded data removed]",
      "text/plain": [
       "<Figure size 640x480 with 1 Axes>"
      ]
     },
     "metadata": {},
     "output_type": "display_data"
    },
    {
     "data": {
      "image/png": "[encoded data removed]",
      "text/plain": [
       "<Figure size 640x480 with 2 Axes>"
      ]
     },
     "metadata": {},
     "output_type": "display_data"
    }
   ],
   "source": [
    "eval_model(model_lr, test_downsampled, balanced=True)"
   ]
  },
  {
   "cell_type": "markdown",
   "metadata": {},
   "source": [
    "Evaluate the model on the scoring set:"
   ]
  },
  {
   "cell_type": "code",
   "execution_count": 39,
   "metadata": {},
   "outputs": [
    {
     "name": "stderr",
     "output_type": "stream",
     "text": [
      "                                                                                \r"
     ]
    },
    {
     "name": "stdout",
     "output_type": "stream",
     "text": [
      "PR area under curve Score: 0.33772017004477173\n",
      "Confusion Matrix:\n",
      "[[1698323   12785]\n",
      " [   4798    4641]]\n"
     ]
    },
    {
     "data": {
      "image/png": "[encoded data removed]",
      "text/plain": [
       "<Figure size 640x480 with 1 Axes>"
      ]
     },
     "metadata": {},
     "output_type": "display_data"
    },
    {
     "data": {
      "image/png": "[encoded data removed]",
      "text/plain": [
       "<Figure size 640x480 with 2 Axes>"
      ]
     },
     "metadata": {},
     "output_type": "display_data"
    }
   ],
   "source": [
    "eval_model(model_lr, scoring_df, balanced=False)"
   ]
  },
  {
   "cell_type": "markdown",
   "metadata": {},
   "source": [
    "The model performs OK on the balanced training set, but its performance drops quite significantly when looking at the unbalanced scoring set."
   ]
  },
  {
   "cell_type": "markdown",
   "metadata": {},
   "source": [
    "<a id=\"dt\"></a>\n",
    "### 1.6.2. Decision Tree Classifier Model\n"
   ]
  },
  {
   "cell_type": "code",
   "execution_count": 40,
   "metadata": {},
   "outputs": [
    {
     "name": "stderr",
     "output_type": "stream",
     "text": [
      "                                                                                \r"
     ]
    }
   ],
   "source": [
    "c_dt = DecisionTreeClassifier(featuresCol='features', labelCol='is_fraud')\n",
    "model_dt = c_dt.fit(train_downsampled)"
   ]
  },
  {
   "cell_type": "code",
   "execution_count": 41,
   "metadata": {},
   "outputs": [
    {
     "name": "stderr",
     "output_type": "stream",
     "text": [
      "                                                                                \r"
     ]
    },
    {
     "name": "stdout",
     "output_type": "stream",
     "text": [
      "ROC area under curve Score: 0.9662670348667519\n",
      "PR area under curve Score: 0.8095197553922506\n",
      "Confusion Matrix:\n",
      "[[867  15]\n",
      " [ 22  79]]\n"
     ]
    },
    {
     "data": {
      "image/png": "[encoded data removed]",
      "text/plain": [
       "<Figure size 640x480 with 1 Axes>"
      ]
     },
     "metadata": {},
     "output_type": "display_data"
    },
    {
     "data": {
      "image/png": "[encoded data removed]",
      "text/plain": [
       "<Figure size 640x480 with 1 Axes>"
      ]
     },
     "metadata": {},
     "output_type": "display_data"
    },
    {
     "data": {
      "image/png": "[encoded data removed]",
      "text/plain": [
       "<Figure size 640x480 with 2 Axes>"
      ]
     },
     "metadata": {},
     "output_type": "display_data"
    }
   ],
   "source": [
    "eval_model(model_dt, test_downsampled)"
   ]
  },
  {
   "cell_type": "code",
   "execution_count": 42,
   "metadata": {},
   "outputs": [
    {
     "name": "stderr",
     "output_type": "stream",
     "text": [
      "                                                                                \r"
     ]
    },
    {
     "name": "stdout",
     "output_type": "stream",
     "text": [
      "PR area under curve Score: 0.3888882263327813\n",
      "Confusion Matrix:\n",
      "[[1683239   27869]\n",
      " [   2390    7049]]\n"
     ]
    },
    {
     "data": {
      "image/png": "[encoded data removed]",
      "text/plain": [
       "<Figure size 640x480 with 1 Axes>"
      ]
     },
     "metadata": {},
     "output_type": "display_data"
    },
    {
     "data": {
      "image/png": "[encoded data removed]",
      "text/plain": [
       "<Figure size 640x480 with 2 Axes>"
      ]
     },
     "metadata": {},
     "output_type": "display_data"
    }
   ],
   "source": [
    "eval_model(model_dt, scoring_df, balanced=False)"
   ]
  },
  {
   "cell_type": "markdown",
   "metadata": {},
   "source": [
    "This model performs better on the scoring set, although it performed worse on the test set."
   ]
  },
  {
   "cell_type": "markdown",
   "metadata": {},
   "source": [
    "<a id=\"rf\"></a>\n",
    "### 1.6.3. Random Forest Classifier\n"
   ]
  },
  {
   "cell_type": "code",
   "execution_count": 43,
   "metadata": {},
   "outputs": [
    {
     "name": "stderr",
     "output_type": "stream",
     "text": [
      "                                                                                \r"
     ]
    }
   ],
   "source": [
    "c_rf = RandomForestClassifier(featuresCol='features', labelCol='is_fraud')\n",
    "model_rf = c_rf.fit(train_downsampled)"
   ]
  },
  {
   "cell_type": "code",
   "execution_count": 44,
   "metadata": {},
   "outputs": [
    {
     "name": "stderr",
     "output_type": "stream",
     "text": [
      "                                                                                \r"
     ]
    },
    {
     "name": "stdout",
     "output_type": "stream",
     "text": [
      "ROC area under curve Score: 0.9743157989268315\n",
      "PR area under curve Score: 0.7413955975365218\n",
      "Confusion Matrix:\n",
      "[[869  13]\n",
      " [ 24  77]]\n"
     ]
    },
    {
     "data": {
      "image/png": "[encoded data removed]",
      "text/plain": [
       "<Figure size 640x480 with 1 Axes>"
      ]
     },
     "metadata": {},
     "output_type": "display_data"
    },
    {
     "data": {
      "image/png": "[encoded data removed]",
      "text/plain": [
       "<Figure size 640x480 with 1 Axes>"
      ]
     },
     "metadata": {},
     "output_type": "display_data"
    },
    {
     "data": {
      "image/png": "[encoded data removed]",
      "text/plain": [
       "<Figure size 640x480 with 2 Axes>"
      ]
     },
     "metadata": {},
     "output_type": "display_data"
    }
   ],
   "source": [
    "eval_model(model_rf, test_downsampled)"
   ]
  },
  {
   "cell_type": "code",
   "execution_count": 45,
   "metadata": {},
   "outputs": [
    {
     "name": "stderr",
     "output_type": "stream",
     "text": [
      "                                                                                \r"
     ]
    },
    {
     "name": "stdout",
     "output_type": "stream",
     "text": [
      "PR area under curve Score: 0.521734402571641\n",
      "Confusion Matrix:\n",
      "[[1693058   18050]\n",
      " [   2827    6612]]\n"
     ]
    },
    {
     "data": {
      "image/png": "[encoded data removed]",
      "text/plain": [
       "<Figure size 640x480 with 1 Axes>"
      ]
     },
     "metadata": {},
     "output_type": "display_data"
    },
    {
     "data": {
      "image/png": "[encoded data removed]",
      "text/plain": [
       "<Figure size 640x480 with 2 Axes>"
      ]
     },
     "metadata": {},
     "output_type": "display_data"
    }
   ],
   "source": [
    "eval_model(model_rf, scoring_df, balanced=False)"
   ]
  },
  {
   "cell_type": "markdown",
   "metadata": {},
   "source": [
    "The Random Forest model performs significantly better on both the test and scoring sets."
   ]
  },
  {
   "cell_type": "markdown",
   "metadata": {},
   "source": [
    "<a id=\"gbt\"></a>\n",
    "### 1.6.4. Gradient Boosted Trees"
   ]
  },
  {
   "cell_type": "code",
   "execution_count": 46,
   "metadata": {},
   "outputs": [
    {
     "name": "stderr",
     "output_type": "stream",
     "text": [
      "                                                                                \r"
     ]
    }
   ],
   "source": [
    "# set log level to ERROR to suppress local Spark heap memory warnings.\n",
    "sc.sparkContext.setLogLevel(\"ERROR\")\n",
    "c_gbt = GBTClassifier(featuresCol='features', labelCol='is_fraud')\n",
    "model_gbt = c_gbt.fit(train_downsampled)"
   ]
  },
  {
   "cell_type": "code",
   "execution_count": 47,
   "metadata": {},
   "outputs": [
    {
     "name": "stderr",
     "output_type": "stream",
     "text": [
      "                                                                                \r"
     ]
    },
    {
     "name": "stdout",
     "output_type": "stream",
     "text": [
      "ROC area under curve Score: 0.9806638827148021\n",
      "PR area under curve Score: 0.7766585933728667\n",
      "Confusion Matrix:\n",
      "[[871  11]\n",
      " [ 20  81]]\n"
     ]
    },
    {
     "data": {
      "image/png": "[encoded data removed]",
      "text/plain": [
       "<Figure size 640x480 with 1 Axes>"
      ]
     },
     "metadata": {},
     "output_type": "display_data"
    },
    {
     "data": {
      "image/png": "[encoded data removed]",
      "text/plain": [
       "<Figure size 640x480 with 1 Axes>"
      ]
     },
     "metadata": {},
     "output_type": "display_data"
    },
    {
     "data": {
      "image/png": "[encoded data removed]",
      "text/plain": [
       "<Figure size 640x480 with 2 Axes>"
      ]
     },
     "metadata": {},
     "output_type": "display_data"
    }
   ],
   "source": [
    "eval_model(model_gbt, test_downsampled)"
   ]
  },
  {
   "cell_type": "code",
   "execution_count": 48,
   "metadata": {},
   "outputs": [
    {
     "name": "stderr",
     "output_type": "stream",
     "text": [
      "                                                                                \r"
     ]
    },
    {
     "name": "stdout",
     "output_type": "stream",
     "text": [
      "PR area under curve Score: 0.41655670851353666\n",
      "Confusion Matrix:\n",
      "[[1692498   18610]\n",
      " [   2341    7098]]\n"
     ]
    },
    {
     "data": {
      "image/png": "[encoded data removed]",
      "text/plain": [
       "<Figure size 640x480 with 1 Axes>"
      ]
     },
     "metadata": {},
     "output_type": "display_data"
    },
    {
     "data": {
      "image/png": "[encoded data removed]",
      "text/plain": [
       "<Figure size 640x480 with 2 Axes>"
      ]
     },
     "metadata": {},
     "output_type": "display_data"
    }
   ],
   "source": [
    "eval_model(model_gbt, scoring_df, balanced=False)"
   ]
  },
  {
   "cell_type": "markdown",
   "metadata": {},
   "source": [
    "The Gradient Boosted Tree classsifier performs better on the test set and slightly worse on the unbalanced scoring set. Note that the rate of false negative is also the lowest, so this model seems promising to train further on a larger dataset.\n",
    "\n",
    "The Random Forest classifier is another good option here. Swapping out the model type is trivial in the code that follows, so it is left as an exercise to the reader."
   ]
  },
  {
   "cell_type": "markdown",
   "metadata": {},
   "source": [
    "<a id=\"df_training\"></a>\n",
    "## 7. Running Training on OCI Data Flow\n",
    "\n",
    "To run the training on the OCI Data Flow service, the application code is put together into a single script.\n",
    "\n",
    "All the helper functions developed previously will be aggregated into a single cell, with the `main` function taking input parameters. This cell will be saved as a file to create the Data Flow application using the `%%writefile` Jupyter magic.\n",
    "\n",
    "The DataFlow ads module uses a base folder to store the files needed to send to the Data Flow service. To test the code locally, the code module should be importable from the notebook, so it must be available from the local folder, to make this possible, the base folder is defined relative to the current path."
   ]
  },
  {
   "cell_type": "code",
   "execution_count": 49,
   "metadata": {},
   "outputs": [],
   "source": [
    "dataflow_basefolder = os.path.join(os.getcwd(), 'dataflow')\n",
    "if not os.path.exists(dataflow_basefolder):\n",
    "    os.makedirs(dataflow_basefolder)"
   ]
  },
  {
   "cell_type": "markdown",
   "metadata": {},
   "source": [
    "<a id=\"training_script\"></a>\n",
    "### 7.1. Data Flow Training Application script\n",
    "\n",
    "In the code, the data transformation and model training are folded into a single pipeline."
   ]
  },
  {
   "cell_type": "code",
   "execution_count": 50,
   "metadata": {},
   "outputs": [
    {
     "name": "stdout",
     "output_type": "stream",
     "text": [
      "Writing /home/datascience/dataflow/fraud_detection_model_training.py\n"
     ]
    }
   ],
   "source": [
    "%%writefile {dataflow_basefolder}/fraud_detection_model_training.py\n",
    "import numpy as np\n",
    "import os\n",
    "import sys\n",
    "\n",
    "# Importing pyspark libraries\n",
    "from pyspark.conf import SparkConf\n",
    "from pyspark.ml import Pipeline\n",
    "from pyspark.ml.classification import GBTClassifier\n",
    "from pyspark.ml.evaluation import BinaryClassificationEvaluator\n",
    "from pyspark.ml.feature import StringIndexer, OneHotEncoder, VectorAssembler\n",
    "from pyspark.sql import SparkSession\n",
    "from pyspark.sql.functions import *\n",
    "from pyspark.sql.types import FloatType\n",
    "\n",
    "\n",
    "def get_spark_session(app_name, file_location=None, profile_name=None, spark_config={}):\n",
    "\n",
    "    spark_builder = SparkSession.builder.appName(app_name)\n",
    "\n",
    "    # Add in extra configuration.\n",
    "    for key, val in spark_config.items():\n",
    "        spark_builder.config(key, val)\n",
    "\n",
    "    # Create the Spark session.\n",
    "    session = spark_builder.getOrCreate()\n",
    "    return session\n",
    "\n",
    "\n",
    "def distance(lat, long, merchant_lat, merchant_long):\n",
    "    \n",
    "    # approximate radius of earth in km\n",
    "    R = 6373.0\n",
    "\n",
    "    s_lat = np.deg2rad(float(lat))                      \n",
    "    s_lng = np.deg2rad(float(long))     \n",
    "    e_lat = np.deg2rad(float(merchant_lat))                       \n",
    "    e_lng = np.deg2rad(float(merchant_long))  \n",
    "\n",
    "    d = np.sin((e_lat - s_lat) / 2)**2 + np.cos(s_lat) * np.cos(e_lat) * np.sin((e_lng - s_lng) / 2)**2\n",
    "\n",
    "    return float(2 * R * np.arcsin(np.sqrt(d)))\n",
    "\n",
    "\n",
    "def create_feature_columns(df):\n",
    "    # Augments the dataset with features we identified\n",
    "    \n",
    "    # drop unneeded columns\n",
    "    df = df.drop('ssn', 'cc_num', 'first', 'last', 'street', 'city', 'state', \n",
    "                 'zip', 'job', 'acct_num', 'profile', 'trans_num', 'unix_time', \n",
    "                 'merchant')\n",
    "\n",
    "    # transaction date and time features\n",
    "    df = df.withColumn('day_of_week', dayofweek(col('trans_date')))\n",
    "    df = df.withColumn('month_of_year', month(col('trans_date')))\n",
    "    df = df.withColumn('hour_of_day', hour(col('trans_time')))\n",
    "    df = df.withColumn('is_weekend', col('day_of_week').isin([1,7]).cast('int'))\n",
    "    \n",
    "    # distance\n",
    "    distance_udf = udf(lambda lat, long, merch_lat, merch_long: distance(lat, long, merch_lat, merch_long), FloatType())\n",
    "    df = df.withColumn(\"distance\", distance_udf(col('lat'), col('long'), col('merch_lat'), col('merch_long')))\n",
    "\n",
    "    # customer age and gender\n",
    "    df = df.withColumn('age', floor(datediff(col('trans_date'), to_date(col('dob'), 'yyyy-mm-dd'))/365.25))\n",
    "    df = df.withColumn('gender', when((col('gender') == 'M'), 1).when((col('gender') == 'F'), 0).otherwise(-1))\n",
    "    \n",
    "    # drop no longer used columns\n",
    "    df = df.drop('dob', 'trans_date', 'trans_time')\n",
    "\n",
    "    return df\n",
    "\n",
    "\n",
    "def create_and_fit_model(df):\n",
    "    # Create a pipeline model encoding categorica features\n",
    "    # which can be re-used to evaluate the model\n",
    "    \n",
    "    # 1-hot encode merchant category\n",
    "    stringIndexer = StringIndexer(inputCol='category', outputCol='category_index')\n",
    "    encoder = OneHotEncoder(inputCols=[stringIndexer.getOutputCol()], outputCols=['category_classVec'])\n",
    "    \n",
    "    # assemble the feature vector with all numerical columns and the category 1-hot encoded column\n",
    "    numeric_columns = [col[0] for col in df.dtypes if col[1] in ['int', 'double'] and col[0] != 'is_fraud']\n",
    "    assembler_inputs = ['category_classVec'] + numeric_columns\n",
    "    assembler = VectorAssembler(inputCols=assembler_inputs, outputCol=\"features\")\n",
    "\n",
    "    # define the model\n",
    "    c_gbt = GBTClassifier(featuresCol='features', labelCol='is_fraud', maxDepth=15, maxIter=20, stepSize=0.05)\n",
    "    \n",
    "    # line up the stages for the whole process\n",
    "    stages = [stringIndexer, encoder, assembler, c_gbt]\n",
    "    \n",
    "    # put together the pipeline and fit it\n",
    "    pipeline = Pipeline(stages=stages)\n",
    "    pipeline_model = pipeline.fit(df)\n",
    "    return pipeline_model\n",
    "\n",
    "\n",
    "def main(input_data_path, model_output_path, debug, spark_config={}):\n",
    "    \n",
    "    sc = get_spark_session(app_name='Fraud Detection Model Training', spark_config=spark_config)\n",
    "    sc.conf.set(\"spark.sql.legacy.timeParserPolicy\",\"LEGACY\")\n",
    "    df = sc.read.option(\"delimiter\", \"|\").csv(input_data_path, header=True, inferSchema=True)\n",
    "\n",
    "    df = create_feature_columns(df)\n",
    "\n",
    "    # split into train and test sets\n",
    "    train, test = df.randomSplit([0.8, 0.2], seed = 2018)\n",
    "    \n",
    "    # downsample the majority class\n",
    "    train_downsampled = train.sampleBy('is_fraud', fractions = {1: 1, 0: 0.05}, seed= 1234)\n",
    "\n",
    "    # fit and train the model\n",
    "    model = create_and_fit_model(train_downsampled)\n",
    "    \n",
    "    # write the fitted model to file to use for inference\n",
    "    model.write().overwrite().save(model_output_path)\n",
    "    \n",
    "    if debug == True:\n",
    "        predictions = model.transform(test)\n",
    "        predictions.select('age', 'is_fraud', 'rawPrediction', 'prediction', 'probability').show(50)\n",
    "        evaluator = BinaryClassificationEvaluator(labelCol='is_fraud')\n",
    "        print(\"Test Area Under ROC: \" + str(evaluator.evaluate(predictions, {evaluator.metricName: \"areaUnderROC\"})))\n",
    "\n",
    "            \n",
    "\n",
    "if __name__ == \"__main__\":\n",
    "    input_data_path = sys.argv[1]\n",
    "    model_output_path = sys.argv[2]\n",
    "    debug = False\n",
    "    if sys.argv[3].lower() == 'true':\n",
    "        debug = True\n",
    "\n",
    "    main(input_data_path, model_output_path, debug)\n",
    "\n"
   ]
  },
  {
   "cell_type": "markdown",
   "metadata": {},
   "source": [
    "<a id=\"test_training\"></a>\n",
    "### 7.2. Test the Data Flow Application script locally\n",
    "\n",
    "We can test the application locally by importing our file and running the main function, with proper input values.\n",
    "\n",
    "The next cell insures uses Jupyter magic syntax to insure the module created earlier is reloaded, so the code can be edited and tested again."
   ]
  },
  {
   "cell_type": "code",
   "execution_count": 51,
   "metadata": {},
   "outputs": [],
   "source": [
    "%load_ext autoreload\n",
    "%autoreload 2\n",
    "%reload_ext autoreload"
   ]
  },
  {
   "cell_type": "markdown",
   "metadata": {},
   "source": [
    "In the next cell, the local module created above is loaded. In order for this to work, the folder used to save the file needs to be within the folder where this notebook runs."
   ]
  },
  {
   "cell_type": "code",
   "execution_count": 52,
   "metadata": {},
   "outputs": [],
   "source": [
    "from dataflow.fraud_detection_model_training import main"
   ]
  },
  {
   "cell_type": "markdown",
   "metadata": {},
   "source": [
    "An output path for the model files is defined in the next cell"
   ]
  },
  {
   "cell_type": "code",
   "execution_count": 53,
   "metadata": {},
   "outputs": [],
   "source": [
    "model_output_path = 'output/model/small'"
   ]
  },
  {
   "cell_type": "markdown",
   "metadata": {},
   "source": [
    "You can now call the `main` function with the required inputs. Specific `spark_config` parameters are also passed to avoid memory issues when running on the local Spark cluster in this notebook."
   ]
  },
  {
   "cell_type": "code",
   "execution_count": 54,
   "metadata": {},
   "outputs": [
    {
     "name": "stderr",
     "output_type": "stream",
     "text": [
      "                                                                                \r"
     ]
    },
    {
     "name": "stdout",
     "output_type": "stream",
     "text": [
      "+---+--------+--------------------+----------+--------------------+\n",
      "|age|is_fraud|       rawPrediction|prediction|         probability|\n",
      "+---+--------+--------------------+----------+--------------------+\n",
      "| 37|       0|[1.33507788920967...|       0.0|[0.93524246659636...|\n",
      "| 37|       0|[1.33507788920967...|       0.0|[0.93524246659636...|\n",
      "| 37|       0|[1.33507788920967...|       0.0|[0.93524246659636...|\n",
      "| 37|       0|[1.33507788920967...|       0.0|[0.93524246659636...|\n",
      "| 37|       0|[1.33507788920967...|       0.0|[0.93524246659636...|\n",
      "| 37|       0|[1.33507788920967...|       0.0|[0.93524246659636...|\n",
      "| 37|       0|[1.33507788920967...|       0.0|[0.93524246659636...|\n",
      "| 37|       0|[1.33532770031104...|       0.0|[0.93527271913384...|\n",
      "| 37|       0|[1.32944492985417...|       0.0|[0.93455680271233...|\n",
      "| 37|       0|[1.22337036451146...|       0.0|[0.92032277969172...|\n",
      "| 36|       0|[1.33993948594121...|       0.0|[0.93582885585142...|\n",
      "| 37|       0|[1.32739641427196...|       0.0|[0.93430578014043...|\n",
      "| 37|       0|[1.33188995877260...|       0.0|[0.93485524574485...|\n",
      "| 37|       0|[1.33507788920967...|       0.0|[0.93524246659636...|\n",
      "| 37|       0|[1.33507788920967...|       0.0|[0.93524246659636...|\n",
      "| 37|       0|[1.33507788920967...|       0.0|[0.93524246659636...|\n",
      "| 36|       0|[1.33507788920967...|       0.0|[0.93524246659636...|\n",
      "| 37|       0|[1.33507788920967...|       0.0|[0.93524246659636...|\n",
      "| 37|       0|[1.33507788920967...|       0.0|[0.93524246659636...|\n",
      "| 37|       0|[1.33507788920967...|       0.0|[0.93524246659636...|\n",
      "| 37|       0|[1.33507788920967...|       0.0|[0.93524246659636...|\n",
      "| 37|       0|[1.33507788920967...|       0.0|[0.93524246659636...|\n",
      "| 37|       0|[1.33507788920967...|       0.0|[0.93524246659636...|\n",
      "| 37|       0|[1.33507788920967...|       0.0|[0.93524246659636...|\n",
      "| 37|       0|[1.33507788920967...|       0.0|[0.93524246659636...|\n",
      "| 37|       0|[1.33507788920967...|       0.0|[0.93524246659636...|\n",
      "| 37|       0|[1.33507788920967...|       0.0|[0.93524246659636...|\n",
      "| 36|       0|[1.33507788920967...|       0.0|[0.93524246659636...|\n",
      "| 37|       0|[1.33507788920967...|       0.0|[0.93524246659636...|\n",
      "| 36|       0|[1.33507788920967...|       0.0|[0.93524246659636...|\n",
      "| 37|       0|[1.33507788920967...|       0.0|[0.93524246659636...|\n",
      "| 36|       0|[1.33507788920967...|       0.0|[0.93524246659636...|\n",
      "| 37|       0|[1.29624498073653...|       0.0|[0.93037667959602...|\n",
      "| 37|       0|[1.29624498073653...|       0.0|[0.93037667959602...|\n",
      "| 37|       0|[1.33635741589922...|       0.0|[0.93539728057547...|\n",
      "| 37|       0|[1.33635741589922...|       0.0|[0.93539728057547...|\n",
      "| 37|       0|[1.33507788920967...|       0.0|[0.93524246659636...|\n",
      "| 37|       0|[1.33507788920967...|       0.0|[0.93524246659636...|\n",
      "| 37|       0|[1.33507788920967...|       0.0|[0.93524246659636...|\n",
      "| 37|       0|[1.33507788920967...|       0.0|[0.93524246659636...|\n",
      "| 36|       1|[-1.3255602108991...|       1.0|[0.06591998646999...|\n",
      "| 37|       0|[1.33507788920967...|       0.0|[0.93524246659636...|\n",
      "| 37|       0|[1.33507788920967...|       0.0|[0.93524246659636...|\n",
      "| 37|       0|[1.33507788920967...|       0.0|[0.93524246659636...|\n",
      "| 37|       0|[1.33507788920967...|       0.0|[0.93524246659636...|\n",
      "| 37|       0|[1.33507788920967...|       0.0|[0.93524246659636...|\n",
      "| 37|       0|[1.33507788920967...|       0.0|[0.93524246659636...|\n",
      "| 37|       0|[1.33534420923469...|       0.0|[0.93527471792832...|\n",
      "| 37|       0|[1.32952937453262...|       0.0|[0.9345671312924,...|\n",
      "| 37|       0|[1.23151514206313...|       0.0|[0.92150912360589...|\n",
      "+---+--------+--------------------+----------+--------------------+\n",
      "only showing top 50 rows\n",
      "\n"
     ]
    },
    {
     "name": "stderr",
     "output_type": "stream",
     "text": [
      "                                                                                \r"
     ]
    },
    {
     "name": "stdout",
     "output_type": "stream",
     "text": [
      "Test Area Under ROC: 0.9713495265899252\n"
     ]
    }
   ],
   "source": [
    "main(os.path.join(data_folder, file_pattern), model_output_path, debug=True, \n",
    "        spark_config={\n",
    "        'spark.driver.memory': '64g', \n",
    "        'spark.executor.memory': '64g'\n",
    "})\n"
   ]
  },
  {
   "cell_type": "markdown",
   "metadata": {},
   "source": [
    "<a id=\"training_app\"></a>\n",
    "### 7.3. Create the Data Flow Application\n",
    "\n",
    "The Oracle ADS package provides simple wrapper functions to create Data Flow applications and associated Runs.\n",
    "\n",
    "Resource principal is used to authenticate. If your notebook uses an API key, change the auth to `api_key`. On a local machine use your OCI config or API key for auth.\n",
    "\n",
    "#### Dependencies\n",
    "\n",
    "To run spark ml on dataflow, numpy is required. Numpy is no longer provided with PySpark 3.2 and needs to beprovided by the user in an archive.\n",
    "\n",
    "##### Option 1:\n",
    "- Download fraud-detection-archive.zip from oci bucket and place it in the local dataflow folder. This is automated via wget command below.\n",
    "\n",
    "##### Option 2:\n",
    "- Alternatively, manually create the archive by following the steps given here https://docs.oracle.com/en-us/iaas/data-flow/using/third-party-libraries.htm\n",
    "- In the step 3 given in the above link specify numpy==1.23.5 "
   ]
  },
  {
   "cell_type": "code",
   "execution_count": 55,
   "metadata": {},
   "outputs": [
    {
     "name": "stdout",
     "output_type": "stream",
     "text": [
      "--2022-12-14 18:01:58--  https://objectstorage.us-phoenix-1.oraclecloud.com/p/sTaB0V0SHM0RUyoCT5j7ez-A5Mtm8M5dj3VMwfaR4q-b_CO5srLiqrKoOc6txxUq/n/bigdatadatasciencelarge/b/anomaly-detection/o/fraud-detection-archive.zip\n",
      "Resolving objectstorage.us-phoenix-1.oraclecloud.com (objectstorage.us-phoenix-1.oraclecloud.com)... 134.70.12.1, 134.70.16.1, 134.70.8.1\n",
      "Connecting to objectstorage.us-phoenix-1.oraclecloud.com (objectstorage.us-phoenix-1.oraclecloud.com)|134.70.12.1|:443... connected.\n",
      "HTTP request sent, awaiting response... 200 OK\n",
      "Length: 36354238 (35M) [application/zip]\n",
      "Saving to: ‘dataflow/fraud-detection-archive.zip’\n",
      "\n",
      "100%[======================================>] 36,354,238  61.2MB/s   in 0.6s   \n",
      "\n",
      "2022-12-14 18:01:58 (61.2 MB/s) - ‘dataflow/fraud-detection-archive.zip’ saved [36354238/36354238]\n",
      "\n"
     ]
    }
   ],
   "source": [
    "!wget https://objectstorage.us-phoenix-1.oraclecloud.com/p/sTaB0V0SHM0RUyoCT5j7ez-A5Mtm8M5dj3VMwfaR4q-b_CO5srLiqrKoOc6txxUq/n/bigdatadatasciencelarge/b/anomaly-detection/o/fraud-detection-archive.zip -P dataflow/"
   ]
  },
  {
   "cell_type": "code",
   "execution_count": 56,
   "metadata": {},
   "outputs": [
    {
     "name": "stdout",
     "output_type": "stream",
     "text": [
      "WARNING:root:~/.oci/config file not exists, default value oci.config.DEFAULT_LOCATION used instead\n"
     ]
    }
   ],
   "source": [
    "ads.set_auth(auth='resource_principal')"
   ]
  },
  {
   "cell_type": "markdown",
   "metadata": {},
   "source": [
    "The Data Flow base folder needs to be passed specifically, so application and run files will be saved there, and picked up from there when editing.\n"
   ]
  },
  {
   "cell_type": "code",
   "execution_count": 57,
   "metadata": {},
   "outputs": [],
   "source": [
    "data_flow = DataFlow(dataflow_base_folder=dataflow_basefolder)"
   ]
  },
  {
   "cell_type": "markdown",
   "metadata": {},
   "source": [
    "You are now providing input parameters pointing to the files on Object Storage, so the Data Flow application can reach them."
   ]
  },
  {
   "cell_type": "code",
   "execution_count": 58,
   "metadata": {},
   "outputs": [],
   "source": [
    "pyspark_file_path = f'{dataflow_basefolder}/fraud_detection_model_training.py'\n",
    "# If you have generated and stored the xlarge dataset on Object Storage, you can set this parameter to xlarge\n",
    "# dataset_size = 'xlarge'\n",
    "dataset_size = 'medium'\n",
    "input_data_path = f'oci://{data_bucket_name}@{tenancy_namespace}/training set/{dataset_size}/*male*.csv'\n",
    "model_output_path = f'oci://{data_bucket_name}@{tenancy_namespace}/output/{dataset_size}/model'\n",
    "archive_file_path = f'{dataflow_basefolder}/fraud-detection-archive.zip'\n",
    "debug = 'true'"
   ]
  },
  {
   "cell_type": "markdown",
   "metadata": {},
   "source": [
    "You can now prepare the Data Flow application with the `prepare_app` function:\n",
    "\n",
    "- `arguments` is a list of arguments passed to the program as if it was run on command line so we pass the variables names defined in script_parameters.\n",
    "\n",
    "- `script_parameters` contains the default values for these variables."
   ]
  },
  {
   "cell_type": "code",
   "execution_count": 59,
   "metadata": {},
   "outputs": [],
   "source": [
    "training_app_config = data_flow.prepare_app(\n",
    "                        display_name=\"Fraud Detection Model Training\",\n",
    "                        script_bucket=code_bucket_name,\n",
    "                        pyspark_file_path=pyspark_file_path,\n",
    "                        logs_bucket=logs_bucket_name,\n",
    "                        archive_path=archive_file_path,\n",
    "                        archive_bucket=code_bucket_name,\n",
    "                        spark_version='3.2.1',\n",
    "                        arguments=[\n",
    "                            \"${input_data_path}\", \n",
    "                            \"${model_output_path}\", \n",
    "                            \"${debug}\"\n",
    "                        ],\n",
    "                        script_parameters={\n",
    "                         'input_data_path': input_data_path,\n",
    "                         'model_output_path': model_output_path,\n",
    "                         'debug': debug\n",
    "                        })\n"
   ]
  },
  {
   "cell_type": "markdown",
   "metadata": {},
   "source": [
    "You can now create the Data Flow application:"
   ]
  },
  {
   "cell_type": "code",
   "execution_count": 60,
   "metadata": {},
   "outputs": [
    {
     "name": "stdout",
     "output_type": "stream",
     "text": [
      "WARNING:ads.common:You have a file with the same key in your bucket on object storage. It will be overwritten per your request.\n"
     ]
    },
    {
     "data": {
      "application/vnd.jupyter.widget-view+json": {
       "model_id": "",
       "version_major": 2,
       "version_minor": 0
      },
      "text/plain": [
       "loop1:   0%|          | 0/2 [00:00<?, ?it/s]"
      ]
     },
     "metadata": {},
     "output_type": "display_data"
    }
   ],
   "source": [
    "training_app = data_flow.create_app(training_app_config, overwrite_script=True, overwrite_archive=True)"
   ]
  },
  {
   "cell_type": "markdown",
   "metadata": {},
   "source": [
    "To look up an existing app, use the following:"
   ]
  },
  {
   "cell_type": "code",
   "execution_count": 61,
   "metadata": {},
   "outputs": [
    {
     "name": "stdout",
     "output_type": "stream",
     "text": [
      "WARNING:root:~/.oci/config file not exists, default value oci.config.DEFAULT_LOCATION used instead\n"
     ]
    },
    {
     "data": {
      "text/html": [
       "<div>\n",
       "<style scoped>\n",
       "    .dataframe tbody tr th:only-of-type {\n",
       "        vertical-align: middle;\n",
       "    }\n",
       "\n",
       "    .dataframe tbody tr th {\n",
       "        vertical-align: top;\n",
       "    }\n",
       "\n",
       "    .dataframe thead th {\n",
       "        text-align: right;\n",
       "    }\n",
       "</style>\n",
       "<table border=\"1\" class=\"dataframe\">\n",
       "  <thead>\n",
       "    <tr style=\"text-align: right;\">\n",
       "      <th></th>\n",
       "      <th>display_name</th>\n",
       "      <th>id</th>\n",
       "    </tr>\n",
       "  </thead>\n",
       "  <tbody>\n",
       "    <tr>\n",
       "      <th>0</th>\n",
       "      <td>Fraud Detection Model Training</td>\n",
       "      <td>ocid1.dataflowapplication.oc1.phx.anyhqljsnif7xwia6ubdk3vbvrd6mun7vfjjqohavec7jsqzjhxgpxfpnznq</td>\n",
       "    </tr>\n",
       "    <tr>\n",
       "      <th>1</th>\n",
       "      <td>Fraud Detection Batch Scoring</td>\n",
       "      <td>ocid1.dataflowapplication.oc1.phx.anyhqljsnif7xwiaqd4eksues45tdoncfcxbgubcplmnv46reqlxujltxmwa</td>\n",
       "    </tr>\n",
       "    <tr>\n",
       "      <th>2</th>\n",
       "      <td>Fraud Detection Model Training</td>\n",
       "      <td>ocid1.dataflowapplication.oc1.phx.anyhqljtnif7xwiawgunxarvzvhrg5pyyn46wamgocdaofikyrw7arqlyaga</td>\n",
       "    </tr>\n",
       "  </tbody>\n",
       "</table>\n",
       "</div>"
      ],
      "text/plain": [
       "                     display_name  \\\n",
       "0  Fraud Detection Model Training   \n",
       "1   Fraud Detection Batch Scoring   \n",
       "2  Fraud Detection Model Training   \n",
       "\n",
       "                                                                                               id  \n",
       "0  ocid1.dataflowapplication.oc1.phx.anyhqljsnif7xwia6ubdk3vbvrd6mun7vfjjqohavec7jsqzjhxgpxfpnznq  \n",
       "1  ocid1.dataflowapplication.oc1.phx.anyhqljsnif7xwiaqd4eksues45tdoncfcxbgubcplmnv46reqlxujltxmwa  \n",
       "2  ocid1.dataflowapplication.oc1.phx.anyhqljtnif7xwiawgunxarvzvhrg5pyyn46wamgocdaofikyrw7arqlyaga  "
      ]
     },
     "execution_count": 61,
     "metadata": {},
     "output_type": "execute_result"
    }
   ],
   "source": [
    "ads.set_auth(auth='resource_principal')\n",
    "data_flow = DataFlow(dataflow_base_folder=dataflow_basefolder)\n",
    "pd.DataFrame(json.loads(str(data_flow.list_apps())))[['display_name', 'id']]"
   ]
  },
  {
   "cell_type": "markdown",
   "metadata": {},
   "source": [
    "In the next section, you will launch a Data Flow run. If you only wanted to launch a new run on an existing app, skip the app creation part above, look up the app ID, and use the code in the following cell, replacing the id in the `load_app` function to reload the app."
   ]
  },
  {
   "cell_type": "code",
   "execution_count": 62,
   "metadata": {},
   "outputs": [],
   "source": [
    "# ads.set_auth(auth='resource_principal')\n",
    "# data_flow = DataFlow(dataflow_base_folder=dataflow_basefolder)\n",
    "# training_app = data_flow.load_app(<app_id>)"
   ]
  },
  {
   "cell_type": "markdown",
   "metadata": {},
   "source": [
    "<a id=\"training_run\"></a>\n",
    "### 7.4. Create a Data Flow Training Run\n",
    "\n",
    "The app was created with default input parameters. At run-time, these parameters can be modified by passing them as arguments to the prepare_run function (commented out here):"
   ]
  },
  {
   "cell_type": "code",
   "execution_count": 63,
   "metadata": {},
   "outputs": [],
   "source": [
    "training_run_config = training_app.prepare_run(run_display_name=f\"Fraud Detection Model Training demo\",\n",
    "                             num_executors=12,\n",
    "                             driver_shape='VM.Standard2.16',\n",
    "                             executor_shape='VM.Standard2.16',\n",
    "                             # optional parameters overrides\n",
    "#                              input_data_path='<new_path_to_input_dataset>',\n",
    "#                              model_output_path= '<new_path_to_save_the_model>',\n",
    "#                              debug=True\n",
    "                            )"
   ]
  },
  {
   "cell_type": "markdown",
   "metadata": {},
   "source": [
    "Finally you can launch the run.\n",
    "\n",
    "The `wait` flag defines if the code should wait for the run to complete. A run on the medium set may take several minutes, and a run on the xlarge dataset would take several hours. The function authentication tends to time out after 30 minutes, so for large runs it is typically recommended to check the status in the OCI console."
   ]
  },
  {
   "cell_type": "code",
   "execution_count": 67,
   "metadata": {},
   "outputs": [
    {
     "name": "stdout",
     "output_type": "stream",
     "text": [
      "WARNING:root:~/.oci/config file not exists, default value oci.config.DEFAULT_LOCATION used instead\n"
     ]
    },
    {
     "data": {
      "application/vnd.jupyter.widget-view+json": {
       "model_id": "",
       "version_major": 2,
       "version_minor": 0
      },
      "text/plain": [
       "loop1:   0%|          | 0/3 [00:00<?, ?it/s]"
      ]
     },
     "metadata": {},
     "output_type": "display_data"
    }
   ],
   "source": [
    "ads.set_auth(auth='resource_principal')\n",
    "data_flow = DataFlow(dataflow_base_folder=dataflow_basefolder)\n",
    "training_run = training_app.run(training_run_config, save_log_to_local=True, wait=True)\n"
   ]
  },
  {
   "cell_type": "markdown",
   "metadata": {},
   "source": [
    "<a id=\"edit_script\"></a>\n",
    "### 7.5. Editing Data Flow applications\n",
    "\n",
    "You can edit the script, run the script cell to save the script locally, and come back to the cell above to create a new run. The script will be automatically synced into Object Storage before the run starts.\n",
    "\n",
    "Please note that the `%%writefile` magic tends to take a few seconds to update the script locally, so take a short pause before re-running the cell above to insure the latest code gets synced up.\n",
    "\n",
    "<a id=\"df_scoring\"></a>\n",
    "## 8. Create a Batch Scoring Application\n",
    "\n",
    "<a id=\"scoring_script\"></a>\n",
    "### 8.1. Data Flow Batch Scoring Application script\n",
    "\n",
    "In the following cell, the script for batch scoring or inference is put together in a single cell, just like for the training script. Note that this time the model pipeline is loaded, which performs all the steps (feature building, vector assembly) and then the `transform` method is called on the pipeline."
   ]
  },
  {
   "cell_type": "code",
   "execution_count": 68,
   "metadata": {},
   "outputs": [
    {
     "name": "stdout",
     "output_type": "stream",
     "text": [
      "Writing /home/datascience/dataflow/fraud_detection_batch_scoring.py\n"
     ]
    }
   ],
   "source": [
    "%%writefile {dataflow_basefolder}/fraud_detection_batch_scoring.py\n",
    "import numpy as np\n",
    "import os\n",
    "import sys\n",
    "\n",
    "# Importing pyspark libraries\n",
    "from pyspark.conf import SparkConf\n",
    "from pyspark.ml import PipelineModel\n",
    "from pyspark.ml.evaluation import BinaryClassificationEvaluator\n",
    "from pyspark.ml.feature import StringIndexer, OneHotEncoder, VectorAssembler\n",
    "from pyspark.sql import SparkSession\n",
    "from pyspark.sql.functions import *\n",
    "from pyspark.sql.types import FloatType\n",
    "\n",
    "    \n",
    "def get_spark_session(app_name, file_location=None, profile_name=None, spark_config={}):\n",
    "\n",
    "    spark_builder = SparkSession.builder.appName(app_name)\n",
    "        \n",
    "    # Add in extra configuration.\n",
    "    for key, val in spark_config.items():\n",
    "        spark_builder.config(key, val)\n",
    "\n",
    "    # Create the Spark session.\n",
    "    session = spark_builder.getOrCreate()\n",
    "    return session\n",
    "\n",
    "\n",
    "def distance(lat, long, merchant_lat, merchant_long):\n",
    "    \n",
    "    # approximate radius of earth in km\n",
    "    R = 6373.0\n",
    "\n",
    "    s_lat = np.deg2rad(float(lat))                      \n",
    "    s_lng = np.deg2rad(float(long))     \n",
    "    e_lat = np.deg2rad(float(merchant_lat))                       \n",
    "    e_lng = np.deg2rad(float(merchant_long))  \n",
    "\n",
    "    d = np.sin((e_lat - s_lat) / 2)**2 + np.cos(s_lat) * np.cos(e_lat) * np.sin((e_lng - s_lng) / 2)**2\n",
    "\n",
    "    return float(2 * R * np.arcsin(np.sqrt(d)))\n",
    "\n",
    "\n",
    "def create_feature_columns(df):\n",
    "    # Augments the dataset with features we identified\n",
    "    \n",
    "    # for scoring, we don't drop the original columns: \n",
    "    # we may want the original columns in the final output.\n",
    "    # Columns we need will be picked up by the pipeline\n",
    "    \n",
    "    # transaction date and time features\n",
    "    df = df.withColumn('day_of_week', dayofweek(col('trans_date')))\n",
    "    df = df.withColumn('month_of_year', month(col('trans_date')))\n",
    "    df = df.withColumn('hour_of_day', hour(col('trans_time')))\n",
    "    df = df.withColumn('is_weekend', col('day_of_week').isin([1,7]).cast('int'))\n",
    "    \n",
    "    # distance\n",
    "    distance_udf = udf(lambda lat, long, merch_lat, merch_long: distance(lat, long, merch_lat, merch_long), FloatType())\n",
    "    df = df.withColumn(\"distance\", distance_udf(col('lat'), col('long'), col('merch_lat'), col('merch_long')))\n",
    "    \n",
    "    # customer age and gender\n",
    "    df = df.withColumn('age', floor(datediff(col('trans_date'), to_date(col('dob'), 'yyyy-mm-dd'))/365.25))\n",
    "    df = df.withColumn('gender', when((col('gender') == 'M'), 1).when((col('gender') == 'F'), 0).otherwise(-1))\n",
    "    \n",
    "    return df\n",
    "\n",
    "\n",
    "def main(input_data_path, model_path, predictions_output_path, debug, spark_config={}):\n",
    "    \n",
    "    # create the session\n",
    "    sc = get_spark_session(app_name='Fraud Detection Model Training', spark_config=spark_config)\n",
    "    sc.conf.set(\"spark.sql.legacy.timeParserPolicy\",\"LEGACY\")\n",
    "    \n",
    "    # load the data\n",
    "    df = sc.read.option(\"delimiter\", \"|\").csv(input_data_path, header=True, inferSchema=True)\n",
    "    original_cols = df.columns\n",
    "\n",
    "    print(\"Dataset Count: \" + str(df.count()))\n",
    "\n",
    "    # augment the dat with tnew columns\n",
    "    df = create_feature_columns(df)\n",
    "    \n",
    "    # load the model\n",
    "    # edit\n",
    "    model = PipelineModel.load(model_path)\n",
    "\n",
    "    # predict\n",
    "    predictions = model.transform(df)\n",
    "    \n",
    "    # show some results\n",
    "    predictions.select('age', 'is_fraud', 'rawPrediction', 'prediction', 'probability').show(50)\n",
    "    evaluator = BinaryClassificationEvaluator(labelCol='is_fraud')\n",
    "    print(\"Test Area Under ROC: \" + str(evaluator.evaluate(predictions, {evaluator.metricName: \"areaUnderROC\"})))\n",
    "    predictions.printSchema()\n",
    "    predictions = predictions.select(original_cols + ['prediction'])\n",
    "    predictions.write.format('com.databricks.spark.csv').mode('overwrite').option(\"header\", \"true\").save(predictions_output_path)\n",
    "\n",
    "if __name__ == \"__main__\":\n",
    "    input_data_path = sys.argv[1]\n",
    "    model_path = sys.argv[2]\n",
    "    predictions_output_path = sys.argv[3]\n",
    "    debug = False\n",
    "    if sys.argv[4].lower() == 'true':\n",
    "        debug = True\n",
    "\n",
    "    main(input_data_path, model_path, predictions_output_path, debug)\n",
    "\n"
   ]
  },
  {
   "cell_type": "code",
   "execution_count": 69,
   "metadata": {},
   "outputs": [],
   "source": [
    "pyspark_file_path = f'{dataflow_basefolder}/fraud_detection_batch_scoring.py'\n",
    "\n",
    "# Note the inference dataset should be different from the training set\n",
    "inference_dataset_size = 'small'\n",
    "input_data_path = f'oci://{data_bucket_name}@{tenancy_namespace}/training set/{inference_dataset_size}/*male*.csv'\n",
    "archive_file_path = f'{dataflow_basefolder}/fraud-detection-archive.zip'\n",
    "predictions_output_path = f'oci://{data_bucket_name}@{tenancy_namespace}/output/{inference_dataset_size}/predictions/predictions.csv'\n",
    "debug = 'true'"
   ]
  },
  {
   "cell_type": "code",
   "execution_count": 70,
   "metadata": {},
   "outputs": [
    {
     "name": "stdout",
     "output_type": "stream",
     "text": [
      "WARNING:root:~/.oci/config file not exists, default value oci.config.DEFAULT_LOCATION used instead\n"
     ]
    }
   ],
   "source": [
    "ads.set_auth(auth='resource_principal')\n",
    "data_flow = DataFlow(dataflow_base_folder=dataflow_basefolder)"
   ]
  },
  {
   "cell_type": "code",
   "execution_count": 71,
   "metadata": {},
   "outputs": [],
   "source": [
    "scoring_app_config = data_flow.prepare_app(\n",
    "                        display_name=\"Fraud Detection Batch Scoring\",\n",
    "                        script_bucket=code_bucket_name,\n",
    "                        pyspark_file_path=pyspark_file_path,\n",
    "                        logs_bucket=logs_bucket_name,\n",
    "                        archive_path = archive_file_path,\n",
    "                        spark_version='3.2.1',\n",
    "                        arguments=[\n",
    "                            \"${input_data_path}\", \n",
    "                            \"${model_path}\", \n",
    "                            \"${predictions_output_path}\",\n",
    "                            \"${debug}\"\n",
    "                        ],\n",
    "                        script_parameters={\n",
    "                         'input_data_path': input_data_path,\n",
    "                         'model_path': model_output_path,\n",
    "                         'predictions_output_path': predictions_output_path,\n",
    "                         'debug': debug\n",
    "                        })\n"
   ]
  },
  {
   "cell_type": "code",
   "execution_count": 72,
   "metadata": {},
   "outputs": [
    {
     "name": "stdout",
     "output_type": "stream",
     "text": [
      "WARNING:ads.common:You have a file with the same key in your bucket on object storage. It will be overwritten per your request.\n",
      "WARNING:ads.common:You have a file with the same key in your bucket on object storage. It will be overwritten per your request.\n"
     ]
    },
    {
     "data": {
      "application/vnd.jupyter.widget-view+json": {
       "model_id": "",
       "version_major": 2,
       "version_minor": 0
      },
      "text/plain": [
       "loop1:   0%|          | 0/2 [00:00<?, ?it/s]"
      ]
     },
     "metadata": {},
     "output_type": "display_data"
    }
   ],
   "source": [
    "scoring_app = data_flow.create_app(scoring_app_config, overwrite_script=True, overwrite_archive=True)"
   ]
  },
  {
   "cell_type": "markdown",
   "metadata": {},
   "source": [
    "You can also load an existing app by looking up its id, then running `load_app`"
   ]
  },
  {
   "cell_type": "code",
   "execution_count": 73,
   "metadata": {},
   "outputs": [
    {
     "name": "stdout",
     "output_type": "stream",
     "text": [
      "WARNING:root:~/.oci/config file not exists, default value oci.config.DEFAULT_LOCATION used instead\n"
     ]
    },
    {
     "data": {
      "text/html": [
       "<div>\n",
       "<style scoped>\n",
       "    .dataframe tbody tr th:only-of-type {\n",
       "        vertical-align: middle;\n",
       "    }\n",
       "\n",
       "    .dataframe tbody tr th {\n",
       "        vertical-align: top;\n",
       "    }\n",
       "\n",
       "    .dataframe thead th {\n",
       "        text-align: right;\n",
       "    }\n",
       "</style>\n",
       "<table border=\"1\" class=\"dataframe\">\n",
       "  <thead>\n",
       "    <tr style=\"text-align: right;\">\n",
       "      <th></th>\n",
       "      <th>display_name</th>\n",
       "      <th>id</th>\n",
       "    </tr>\n",
       "  </thead>\n",
       "  <tbody>\n",
       "    <tr>\n",
       "      <th>0</th>\n",
       "      <td>Fraud Detection Batch Scoring</td>\n",
       "      <td>ocid1.dataflowapplication.oc1.phx.anyhqljsnif7xwiaywy2mtq7wzy4qnbxukq2scqvkfqnycutuadt6obm4hxa</td>\n",
       "    </tr>\n",
       "    <tr>\n",
       "      <th>1</th>\n",
       "      <td>Fraud Detection Model Training</td>\n",
       "      <td>ocid1.dataflowapplication.oc1.phx.anyhqljsnif7xwia6ubdk3vbvrd6mun7vfjjqohavec7jsqzjhxgpxfpnznq</td>\n",
       "    </tr>\n",
       "    <tr>\n",
       "      <th>2</th>\n",
       "      <td>Fraud Detection Batch Scoring</td>\n",
       "      <td>ocid1.dataflowapplication.oc1.phx.anyhqljsnif7xwiaqd4eksues45tdoncfcxbgubcplmnv46reqlxujltxmwa</td>\n",
       "    </tr>\n",
       "    <tr>\n",
       "      <th>3</th>\n",
       "      <td>Fraud Detection Model Training</td>\n",
       "      <td>ocid1.dataflowapplication.oc1.phx.anyhqljtnif7xwiawgunxarvzvhrg5pyyn46wamgocdaofikyrw7arqlyaga</td>\n",
       "    </tr>\n",
       "  </tbody>\n",
       "</table>\n",
       "</div>"
      ],
      "text/plain": [
       "                     display_name  \\\n",
       "0   Fraud Detection Batch Scoring   \n",
       "1  Fraud Detection Model Training   \n",
       "2   Fraud Detection Batch Scoring   \n",
       "3  Fraud Detection Model Training   \n",
       "\n",
       "                                                                                               id  \n",
       "0  ocid1.dataflowapplication.oc1.phx.anyhqljsnif7xwiaywy2mtq7wzy4qnbxukq2scqvkfqnycutuadt6obm4hxa  \n",
       "1  ocid1.dataflowapplication.oc1.phx.anyhqljsnif7xwia6ubdk3vbvrd6mun7vfjjqohavec7jsqzjhxgpxfpnznq  \n",
       "2  ocid1.dataflowapplication.oc1.phx.anyhqljsnif7xwiaqd4eksues45tdoncfcxbgubcplmnv46reqlxujltxmwa  \n",
       "3  ocid1.dataflowapplication.oc1.phx.anyhqljtnif7xwiawgunxarvzvhrg5pyyn46wamgocdaofikyrw7arqlyaga  "
      ]
     },
     "execution_count": 73,
     "metadata": {},
     "output_type": "execute_result"
    }
   ],
   "source": [
    "ads.set_auth(auth='resource_principal')\n",
    "data_flow = DataFlow(dataflow_base_folder=dataflow_basefolder)\n",
    "pd.DataFrame(json.loads(str(data_flow.list_apps())))[['display_name', 'id']]"
   ]
  },
  {
   "cell_type": "markdown",
   "metadata": {},
   "source": [
    "<a id=\"scoring_run\"></a>\n",
    "### 8.2. Create a Data Flow Run for scoring\n",
    "\n",
    "The run is prepared the same way the training run was prepared. At run-time, you again have the opportunity to override input parameters."
   ]
  },
  {
   "cell_type": "code",
   "execution_count": 74,
   "metadata": {},
   "outputs": [],
   "source": [
    "scoring_run_config = scoring_app.prepare_run(run_display_name=f\"Fraud Detection Batch Scoring - demo\",\n",
    "                             num_executors=2,\n",
    "                             driver_shape='VM.Standard2.16',\n",
    "                             executor_shape='VM.Standard2.16',\n",
    "                             # optional parameter overrides\n",
    "#                              input_data_path='<new_path_to_input_data>',\n",
    "#                              model_path= '<path_to_model_on_object_storage>',\n",
    "#                              predictions_output_path=f'<output_path_for_predictions>',\n",
    "#                              debug=True\n",
    "                            )"
   ]
  },
  {
   "cell_type": "code",
   "execution_count": 75,
   "metadata": {},
   "outputs": [],
   "source": [
    "scoring_run = scoring_app.run(scoring_run_config, save_log_to_local=True, wait=False)"
   ]
  },
  {
   "cell_type": "markdown",
   "metadata": {},
   "source": [
    "<a id=\"model_cat\"></a> \n",
    "## 9. Create a Model in Model Catalog\n",
    "\n",
    "<a id=\"artifact\"></a>\n",
    "### 9.1. Prepare the Model Artifact for Model Catalog\n",
    "\n",
    "Artifacts require a local folder to store files. In the next few cells, the default `score.py` file will be overwritten by the inference script, and the Spark model files will imported into this folder."
   ]
  },
  {
   "cell_type": "code",
   "execution_count": 76,
   "metadata": {},
   "outputs": [],
   "source": [
    "path_to_artifact = f\"./fraud-detection-model-deployment\"\n",
    "if not os.path.exists(path_to_artifact):\n",
    "    os.makedirs(path_to_artifact)"
   ]
  },
  {
   "cell_type": "code",
   "execution_count": 77,
   "metadata": {},
   "outputs": [
    {
     "name": "stdout",
     "output_type": "stream",
     "text": [
      "WARNING:ads.common:model not found in /home/datascience/fraud-detection-model-deployment. Save the serialized model under /home/datascience/fraud-detection-model-deployment.\n",
      "INFO:ADS:To auto-extract taxonomy metadata the model must be provided. Supported models: automl, keras, lightgbm, pytorch, sklearn, tensorflow, and xgboost.\n"
     ]
    }
   ],
   "source": [
    "model = GenericModel(estimator=None, \n",
    "                    auth=ads.common.auth.resource_principal(),\n",
    "                    model_file_name=\"model\",\n",
    "                    serialize=False,\n",
    "                    artifact_dir=path_to_artifact\n",
    "                )\n",
    "\n",
    "model.prepare(model_file_name=\"model\",\n",
    "              inference_conda_env='pyspark32_p38_cpu_v2', \n",
    "              inference_python_version='3.8',\n",
    "              force_overwrite=True)"
   ]
  },
  {
   "cell_type": "markdown",
   "metadata": {},
   "source": [
    "<a id=\"model_script\"></a>\n",
    "### 9.2. Create the Inference Model script\n",
    "\n",
    "Saving the script with the `%%writefile` magic overwrites the `score.py` file in the artifact folder"
   ]
  },
  {
   "cell_type": "code",
   "execution_count": 78,
   "metadata": {},
   "outputs": [
    {
     "name": "stdout",
     "output_type": "stream",
     "text": [
      "Overwriting ./fraud-detection-model-deployment/score.py\n"
     ]
    }
   ],
   "source": [
    "%%writefile {path_to_artifact}/score.py\n",
    "\n",
    "import json\n",
    "import numpy as np\n",
    "import ocifs\n",
    "import os\n",
    "import sys\n",
    "\n",
    "# Importing pyspark libraries\n",
    "from pyspark.ml import PipelineModel\n",
    "from pyspark.ml.classification import GBTClassificationModel\n",
    "from pyspark.ml.evaluation import BinaryClassificationEvaluator\n",
    "from pyspark.ml.feature import StringIndexer, OneHotEncoder, VectorAssembler\n",
    "from pyspark.sql import SparkSession\n",
    "from pyspark.sql.functions import *\n",
    "from pyspark.sql.types import FloatType\n",
    "\n",
    "\n",
    "model_file = 'model'\n",
    "\n",
    "sc = SparkSession \\\n",
    "    .builder \\\n",
    "    .appName('Fraud Detection Inference') \\\n",
    "    .config('spark.driver.memory', '64g') \\\n",
    "    .config('spark.executor.memory', '64g') \\\n",
    "    .getOrCreate()\n",
    "\n",
    "fs = ocifs.OCIFileSystem()\n",
    "\n",
    "def distance(lat, long, merchant_lat, merchant_long):\n",
    "\n",
    "    # approximate radius of earth in km\n",
    "    R = 6373.0\n",
    "\n",
    "    s_lat = np.deg2rad(float(lat))                      \n",
    "    s_lng = np.deg2rad(float(long))     \n",
    "    e_lat = np.deg2rad(float(merchant_lat))                       \n",
    "    e_lng = np.deg2rad(float(merchant_long))  \n",
    "\n",
    "    d = np.sin((e_lat - s_lat) / 2)**2 + np.cos(s_lat) * np.cos(e_lat) * np.sin((e_lng - s_lng) / 2)**2\n",
    "\n",
    "    return float(2 * R * np.arcsin(np.sqrt(d)))\n",
    "\n",
    "\n",
    "def create_feature_columns(df):\n",
    "    # Augments the dataset with features we identified\n",
    "        \n",
    "    # transaction date and time features\n",
    "    df = df.withColumn('day_of_week', dayofweek(col('trans_date')))\n",
    "    df = df.withColumn('month_of_year', month(col('trans_date')))\n",
    "    df = df.withColumn('hour_of_day', hour(col('trans_time')))\n",
    "    df = df.withColumn('is_weekend', col('day_of_week').isin([1,7]).cast('int'))\n",
    "    \n",
    "    # distance\n",
    "    distance_udf = udf(lambda lat, long, merch_lat, merch_long: distance(lat, long, merch_lat, merch_long), FloatType())\n",
    "    df = df.withColumn(\"distance\", distance_udf(col('lat'), col('long'), col('merch_lat'), col('merch_long')))\n",
    "    \n",
    "    # customer age and gender\n",
    "    df = df.withColumn('age', floor(datediff(col('trans_date'), to_date(col('dob'), 'yyyy-mm-dd'))/365.25))\n",
    "    df = df.withColumn('gender', when((col('gender') == 'M'), 1).when((col('gender') == 'F'), 0).otherwise(-1))\n",
    "    \n",
    "    return df\n",
    "\n",
    "\n",
    "def load_model():\n",
    "    \"\"\"\n",
    "    Loads model from the serialized format\n",
    "\n",
    "    Returns\n",
    "    -------\n",
    "    model:  a model instance on which predict API can be invoked\n",
    "    \"\"\"\n",
    "    \n",
    "    # Load config file\n",
    "    model_dir = os.path.dirname(os.path.realpath(__file__))\n",
    "    contents = os.listdir(model_dir)\n",
    "    if model_file in contents:\n",
    "        model = PipelineModel.load(os.path.join(model_dir, model_file))\n",
    "        return model\n",
    "    else:\n",
    "        raise Exception('{0} is not found in model directory {1}'.format(config_file, model_dir))\n",
    "    \n",
    "\n",
    "\n",
    "def predict(data, model=load_model()) -> dict:\n",
    "    \"\"\"\n",
    "    Returns prediction given the model and data to predict\n",
    "\n",
    "    Parameters\n",
    "    ----------\n",
    "    model: Model instance returned by load_model API\n",
    "    data: Data format as expected by the predict API of the core estimator. For eg. in case of sckit models it could be numpy array/List of list/Panda DataFrame\n",
    "\n",
    "    Returns\n",
    "    -------\n",
    "    predictions: Output from scoring server\n",
    "        Format: { 'prediction': output from `model.predict` method }\n",
    "\n",
    "    \"\"\"\n",
    "\n",
    "    # if the data is a single datapoint, wrap it into an array\n",
    "    if not isinstance(data, list):\n",
    "        data = [data]\n",
    "\n",
    "    # load the data into a Spark dataframe\n",
    "    df = sc.read.json(sc.sparkContext.parallelize(data))\n",
    "    df_cols = df.columns\n",
    "\n",
    "    print(\"Dataset Count: \" + str(df.count()))\n",
    "\n",
    "    # create the features and get predictions\n",
    "    df = create_feature_columns(df)\n",
    "    predictions = model.transform(df)\n",
    "    # output original columns and the prediction column, dropping other stats that are vectors \n",
    "    # and don't serialize when using toJSON\n",
    "    results = predictions.select(df_cols + ['prediction']).toJSON().map(json.loads).collect()\n",
    "    \n",
    "    # return the response to the request\n",
    "    return {'predictions': results}\n"
   ]
  },
  {
   "cell_type": "markdown",
   "metadata": {},
   "source": [
    "<a id=\"pull_model\"></a>\n",
    "### 9.3. Get the trained model into the model deployment folder\n",
    "\n",
    "Next the model generated with the Spark run and saved to object storage needs to be pulled and saved into our model folder. \n",
    "\n",
    "To do this, load it and then save it locally:"
   ]
  },
  {
   "cell_type": "code",
   "execution_count": 79,
   "metadata": {},
   "outputs": [
    {
     "name": "stderr",
     "output_type": "stream",
     "text": [
      "                                                                                \r"
     ]
    }
   ],
   "source": [
    "sc = get_spark_session(app_name='test')\n",
    "spark_model = PipelineModel.load(model_output_path)\n",
    "spark_model.write().overwrite().save(f'{path_to_artifact}/model')"
   ]
  },
  {
   "cell_type": "markdown",
   "metadata": {},
   "source": [
    "<a id=\"save_to_cat\"></a>\n",
    "### 9.4. Save the model into Model Catalog\n"
   ]
  },
  {
   "cell_type": "code",
   "execution_count": 80,
   "metadata": {},
   "outputs": [
    {
     "name": "stdout",
     "output_type": "stream",
     "text": [
      "['model', 'score.py', 'runtime.yaml']\n"
     ]
    },
    {
     "data": {
      "application/vnd.jupyter.widget-view+json": {
       "model_id": "",
       "version_major": 2,
       "version_minor": 0
      },
      "text/plain": [
       "loop1:   0%|          | 0/5 [00:00<?, ?it/s]"
      ]
     },
     "metadata": {},
     "output_type": "display_data"
    },
    {
     "name": "stdout",
     "output_type": "stream",
     "text": [
      "artifact:/tmp/saved_model_926e8f7c-fa7b-437b-a266-890bb1479424.zip\n"
     ]
    }
   ],
   "source": [
    "model_id = model.save(display_name='fraud-detection-model-demo',\n",
    "              description='Fraud Detection Model Deployment Demo')"
   ]
  },
  {
   "cell_type": "markdown",
   "metadata": {},
   "source": [
    "<a id=\"test_model\"></a>\n",
    "### 9.5. Test the model locally\n"
   ]
  },
  {
   "cell_type": "markdown",
   "metadata": {},
   "source": [
    "Get some sample data from the small dataset to test the model:"
   ]
  },
  {
   "cell_type": "code",
   "execution_count": 81,
   "metadata": {},
   "outputs": [
    {
     "name": "stdout",
     "output_type": "stream",
     "text": [
      "Dataset Count: 5\n"
     ]
    },
    {
     "name": "stderr",
     "output_type": "stream",
     "text": [
      "                                                                                \r"
     ]
    },
    {
     "data": {
      "text/html": [
       "<div>\n",
       "<style scoped>\n",
       "    .dataframe tbody tr th:only-of-type {\n",
       "        vertical-align: middle;\n",
       "    }\n",
       "\n",
       "    .dataframe tbody tr th {\n",
       "        vertical-align: top;\n",
       "    }\n",
       "\n",
       "    .dataframe thead th {\n",
       "        text-align: right;\n",
       "    }\n",
       "</style>\n",
       "<table border=\"1\" class=\"dataframe\">\n",
       "  <thead>\n",
       "    <tr style=\"text-align: right;\">\n",
       "      <th></th>\n",
       "      <th>acct_num</th>\n",
       "      <th>amt</th>\n",
       "      <th>category</th>\n",
       "      <th>cc_num</th>\n",
       "      <th>city</th>\n",
       "      <th>city_pop</th>\n",
       "      <th>dob</th>\n",
       "      <th>first</th>\n",
       "      <th>gender</th>\n",
       "      <th>is_fraud</th>\n",
       "      <th>...</th>\n",
       "      <th>profile</th>\n",
       "      <th>ssn</th>\n",
       "      <th>state</th>\n",
       "      <th>street</th>\n",
       "      <th>trans_date</th>\n",
       "      <th>trans_num</th>\n",
       "      <th>trans_time</th>\n",
       "      <th>unix_time</th>\n",
       "      <th>zip</th>\n",
       "      <th>prediction</th>\n",
       "    </tr>\n",
       "  </thead>\n",
       "  <tbody>\n",
       "    <tr>\n",
       "      <th>0</th>\n",
       "      <td>4688044575</td>\n",
       "      <td>37.59</td>\n",
       "      <td>gas_transport</td>\n",
       "      <td>676347735869</td>\n",
       "      <td>Millstadt</td>\n",
       "      <td>7290</td>\n",
       "      <td>1960-11-19</td>\n",
       "      <td>Jeffrey</td>\n",
       "      <td>1</td>\n",
       "      <td>0</td>\n",
       "      <td>...</td>\n",
       "      <td>adults_50up_male_urban.json</td>\n",
       "      <td>610-51-5348</td>\n",
       "      <td>IL</td>\n",
       "      <td>94311 Moore Station Apt. 655</td>\n",
       "      <td>2012-03-30</td>\n",
       "      <td>504e5b7897a36d5ae3fda83565ffe2bc</td>\n",
       "      <td>01:02:17</td>\n",
       "      <td>1333069337</td>\n",
       "      <td>62260</td>\n",
       "      <td>0.0</td>\n",
       "    </tr>\n",
       "    <tr>\n",
       "      <th>1</th>\n",
       "      <td>4688044575</td>\n",
       "      <td>77.70</td>\n",
       "      <td>shopping_pos</td>\n",
       "      <td>676347735869</td>\n",
       "      <td>Millstadt</td>\n",
       "      <td>7290</td>\n",
       "      <td>1960-11-19</td>\n",
       "      <td>Jeffrey</td>\n",
       "      <td>1</td>\n",
       "      <td>0</td>\n",
       "      <td>...</td>\n",
       "      <td>adults_50up_male_urban.json</td>\n",
       "      <td>610-51-5348</td>\n",
       "      <td>IL</td>\n",
       "      <td>94311 Moore Station Apt. 655</td>\n",
       "      <td>2012-12-13</td>\n",
       "      <td>5e4569a5dae1c7aa11d04c7a7195321f</td>\n",
       "      <td>05:47:10</td>\n",
       "      <td>1355377630</td>\n",
       "      <td>62260</td>\n",
       "      <td>0.0</td>\n",
       "    </tr>\n",
       "    <tr>\n",
       "      <th>2</th>\n",
       "      <td>4688044575</td>\n",
       "      <td>59.32</td>\n",
       "      <td>entertainment</td>\n",
       "      <td>676347735869</td>\n",
       "      <td>Millstadt</td>\n",
       "      <td>7290</td>\n",
       "      <td>1960-11-19</td>\n",
       "      <td>Jeffrey</td>\n",
       "      <td>1</td>\n",
       "      <td>0</td>\n",
       "      <td>...</td>\n",
       "      <td>adults_50up_male_urban.json</td>\n",
       "      <td>610-51-5348</td>\n",
       "      <td>IL</td>\n",
       "      <td>94311 Moore Station Apt. 655</td>\n",
       "      <td>2013-02-15</td>\n",
       "      <td>973e3642c75c14cd199a83108bd9fe09</td>\n",
       "      <td>03:17:50</td>\n",
       "      <td>1360898270</td>\n",
       "      <td>62260</td>\n",
       "      <td>0.0</td>\n",
       "    </tr>\n",
       "    <tr>\n",
       "      <th>3</th>\n",
       "      <td>4688044575</td>\n",
       "      <td>59.49</td>\n",
       "      <td>shopping_net</td>\n",
       "      <td>676347735869</td>\n",
       "      <td>Millstadt</td>\n",
       "      <td>7290</td>\n",
       "      <td>1960-11-19</td>\n",
       "      <td>Jeffrey</td>\n",
       "      <td>1</td>\n",
       "      <td>0</td>\n",
       "      <td>...</td>\n",
       "      <td>adults_50up_male_urban.json</td>\n",
       "      <td>610-51-5348</td>\n",
       "      <td>IL</td>\n",
       "      <td>94311 Moore Station Apt. 655</td>\n",
       "      <td>2012-09-15</td>\n",
       "      <td>7e62101c31d0a2d5edbbab48e30e660b</td>\n",
       "      <td>01:56:54</td>\n",
       "      <td>1347674214</td>\n",
       "      <td>62260</td>\n",
       "      <td>0.0</td>\n",
       "    </tr>\n",
       "    <tr>\n",
       "      <th>4</th>\n",
       "      <td>4688044575</td>\n",
       "      <td>56.73</td>\n",
       "      <td>grocery_pos</td>\n",
       "      <td>676347735869</td>\n",
       "      <td>Millstadt</td>\n",
       "      <td>7290</td>\n",
       "      <td>1960-11-19</td>\n",
       "      <td>Jeffrey</td>\n",
       "      <td>1</td>\n",
       "      <td>0</td>\n",
       "      <td>...</td>\n",
       "      <td>adults_50up_male_urban.json</td>\n",
       "      <td>610-51-5348</td>\n",
       "      <td>IL</td>\n",
       "      <td>94311 Moore Station Apt. 655</td>\n",
       "      <td>2012-06-19</td>\n",
       "      <td>e60e7f187a2e9971a80e4931f58eff63</td>\n",
       "      <td>07:56:41</td>\n",
       "      <td>1340092601</td>\n",
       "      <td>62260</td>\n",
       "      <td>0.0</td>\n",
       "    </tr>\n",
       "  </tbody>\n",
       "</table>\n",
       "<p>5 rows × 27 columns</p>\n",
       "</div>"
      ],
      "text/plain": [
       "     acct_num    amt       category        cc_num       city  city_pop  \\\n",
       "0  4688044575  37.59  gas_transport  676347735869  Millstadt      7290   \n",
       "1  4688044575  77.70   shopping_pos  676347735869  Millstadt      7290   \n",
       "2  4688044575  59.32  entertainment  676347735869  Millstadt      7290   \n",
       "3  4688044575  59.49   shopping_net  676347735869  Millstadt      7290   \n",
       "4  4688044575  56.73    grocery_pos  676347735869  Millstadt      7290   \n",
       "\n",
       "          dob    first  gender  is_fraud  ...                      profile  \\\n",
       "0  1960-11-19  Jeffrey       1         0  ...  adults_50up_male_urban.json   \n",
       "1  1960-11-19  Jeffrey       1         0  ...  adults_50up_male_urban.json   \n",
       "2  1960-11-19  Jeffrey       1         0  ...  adults_50up_male_urban.json   \n",
       "3  1960-11-19  Jeffrey       1         0  ...  adults_50up_male_urban.json   \n",
       "4  1960-11-19  Jeffrey       1         0  ...  adults_50up_male_urban.json   \n",
       "\n",
       "           ssn  state                        street  trans_date  \\\n",
       "0  610-51-5348     IL  94311 Moore Station Apt. 655  2012-03-30   \n",
       "1  610-51-5348     IL  94311 Moore Station Apt. 655  2012-12-13   \n",
       "2  610-51-5348     IL  94311 Moore Station Apt. 655  2013-02-15   \n",
       "3  610-51-5348     IL  94311 Moore Station Apt. 655  2012-09-15   \n",
       "4  610-51-5348     IL  94311 Moore Station Apt. 655  2012-06-19   \n",
       "\n",
       "                          trans_num trans_time   unix_time    zip prediction  \n",
       "0  504e5b7897a36d5ae3fda83565ffe2bc   01:02:17  1333069337  62260        0.0  \n",
       "1  5e4569a5dae1c7aa11d04c7a7195321f   05:47:10  1355377630  62260        0.0  \n",
       "2  973e3642c75c14cd199a83108bd9fe09   03:17:50  1360898270  62260        0.0  \n",
       "3  7e62101c31d0a2d5edbbab48e30e660b   01:56:54  1347674214  62260        0.0  \n",
       "4  e60e7f187a2e9971a80e4931f58eff63   07:56:41  1340092601  62260        0.0  \n",
       "\n",
       "[5 rows x 27 columns]"
      ]
     },
     "execution_count": 81,
     "metadata": {},
     "output_type": "execute_result"
    }
   ],
   "source": [
    "delta_data = pd.read_csv(f'{data_folder}/training set/small/adults_50up_male_urban_80-99.csv', delimiter='|')\n",
    "input_data = delta_data[15:20].to_json(orient='records')\n",
    "\n",
    "results = model.verify(data=input_data)\n",
    "pd.DataFrame(results['predictions']).head(10)"
   ]
  },
  {
   "cell_type": "markdown",
   "metadata": {},
   "source": [
    "<a id=\"md\"></a>\n",
    "## 10. Deploy the model\n",
    "\n",
    "<a id=\"md_create\"></a>\n",
    "### 10.1 Create a Model Deployment and Endpoint\n",
    "\n",
    "To create the model deployment, simply call the `deploy` method of the GenericModel"
   ]
  },
  {
   "cell_type": "code",
   "execution_count": 82,
   "metadata": {},
   "outputs": [
    {
     "data": {
      "application/vnd.jupyter.widget-view+json": {
       "model_id": "",
       "version_major": 2,
       "version_minor": 0
      },
      "text/plain": [
       "loop1:   0%|          | 0/6 [00:00<?, ?it/s]"
      ]
     },
     "metadata": {},
     "output_type": "display_data"
    }
   ],
   "source": [
    "deployment = model.deploy(\n",
    "    display_name=\"Fraud Detection Model Deployment - demo\",\n",
    "    description=\"Fraud Detection Model Deployment - demo\",\n",
    "    deployment_instance_shape=\"VM.Standard2.1\",\n",
    "    deployment_instance_count=1,\n",
    "    # The following are optional\n",
    "#     deployment_access_log_id=\"<ACCESS_LOG_OCID>\",\n",
    "#     deployment_log_group_id=\"<LOG_GROUP_ID>\"\n",
    "#     predict_log_group_id=\"<PREDICT_LOG_GROUP_OCID>\",\n",
    "#     deployment_predict_log_id=\"<PREDICT_LOG_OCID>\",\n",
    "    wait_for_completion=True,\n",
    "    max_wait_time=600,\n",
    "    poll_interval=15)"
   ]
  },
  {
   "cell_type": "markdown",
   "metadata": {},
   "source": [
    "The deployment endpoint url is available with the following:"
   ]
  },
  {
   "cell_type": "code",
   "execution_count": 83,
   "metadata": {},
   "outputs": [
    {
     "data": {
      "text/plain": [
       "'https://modeldeployment.us-phoenix-1.oci.customer-oci.com/ocid1.datasciencemodeldeployment.oc1.phx.amaaaaaanif7xwiax53nr4sbv26zobofoa4samr45q6i3g6chuk46rp4zt5a'"
      ]
     },
     "execution_count": 83,
     "metadata": {},
     "output_type": "execute_result"
    }
   ],
   "source": [
    "deployment.url"
   ]
  },
  {
   "cell_type": "markdown",
   "metadata": {},
   "source": [
    "<a id=\"test_md\"></a>\n",
    "### 10.2 Test the Model Deployment Endpoint\n",
    "\n",
    "The deployment can be tested easily using the `predict` method of the model"
   ]
  },
  {
   "cell_type": "code",
   "execution_count": 84,
   "metadata": {},
   "outputs": [
    {
     "data": {
      "text/html": [
       "<div>\n",
       "<style scoped>\n",
       "    .dataframe tbody tr th:only-of-type {\n",
       "        vertical-align: middle;\n",
       "    }\n",
       "\n",
       "    .dataframe tbody tr th {\n",
       "        vertical-align: top;\n",
       "    }\n",
       "\n",
       "    .dataframe thead th {\n",
       "        text-align: right;\n",
       "    }\n",
       "</style>\n",
       "<table border=\"1\" class=\"dataframe\">\n",
       "  <thead>\n",
       "    <tr style=\"text-align: right;\">\n",
       "      <th></th>\n",
       "      <th>acct_num</th>\n",
       "      <th>amt</th>\n",
       "      <th>category</th>\n",
       "      <th>cc_num</th>\n",
       "      <th>city</th>\n",
       "      <th>city_pop</th>\n",
       "      <th>dob</th>\n",
       "      <th>first</th>\n",
       "      <th>gender</th>\n",
       "      <th>is_fraud</th>\n",
       "      <th>...</th>\n",
       "      <th>profile</th>\n",
       "      <th>ssn</th>\n",
       "      <th>state</th>\n",
       "      <th>street</th>\n",
       "      <th>trans_date</th>\n",
       "      <th>trans_num</th>\n",
       "      <th>trans_time</th>\n",
       "      <th>unix_time</th>\n",
       "      <th>zip</th>\n",
       "      <th>prediction</th>\n",
       "    </tr>\n",
       "  </thead>\n",
       "  <tbody>\n",
       "    <tr>\n",
       "      <th>0</th>\n",
       "      <td>4688044575</td>\n",
       "      <td>37.59</td>\n",
       "      <td>gas_transport</td>\n",
       "      <td>676347735869</td>\n",
       "      <td>Millstadt</td>\n",
       "      <td>7290</td>\n",
       "      <td>1960-11-19</td>\n",
       "      <td>Jeffrey</td>\n",
       "      <td>1</td>\n",
       "      <td>0</td>\n",
       "      <td>...</td>\n",
       "      <td>adults_50up_male_urban.json</td>\n",
       "      <td>610-51-5348</td>\n",
       "      <td>IL</td>\n",
       "      <td>94311 Moore Station Apt. 655</td>\n",
       "      <td>2012-03-30</td>\n",
       "      <td>504e5b7897a36d5ae3fda83565ffe2bc</td>\n",
       "      <td>01:02:17</td>\n",
       "      <td>1333069337</td>\n",
       "      <td>62260</td>\n",
       "      <td>0.0</td>\n",
       "    </tr>\n",
       "    <tr>\n",
       "      <th>1</th>\n",
       "      <td>4688044575</td>\n",
       "      <td>77.70</td>\n",
       "      <td>shopping_pos</td>\n",
       "      <td>676347735869</td>\n",
       "      <td>Millstadt</td>\n",
       "      <td>7290</td>\n",
       "      <td>1960-11-19</td>\n",
       "      <td>Jeffrey</td>\n",
       "      <td>1</td>\n",
       "      <td>0</td>\n",
       "      <td>...</td>\n",
       "      <td>adults_50up_male_urban.json</td>\n",
       "      <td>610-51-5348</td>\n",
       "      <td>IL</td>\n",
       "      <td>94311 Moore Station Apt. 655</td>\n",
       "      <td>2012-12-13</td>\n",
       "      <td>5e4569a5dae1c7aa11d04c7a7195321f</td>\n",
       "      <td>05:47:10</td>\n",
       "      <td>1355377630</td>\n",
       "      <td>62260</td>\n",
       "      <td>0.0</td>\n",
       "    </tr>\n",
       "    <tr>\n",
       "      <th>2</th>\n",
       "      <td>4688044575</td>\n",
       "      <td>59.32</td>\n",
       "      <td>entertainment</td>\n",
       "      <td>676347735869</td>\n",
       "      <td>Millstadt</td>\n",
       "      <td>7290</td>\n",
       "      <td>1960-11-19</td>\n",
       "      <td>Jeffrey</td>\n",
       "      <td>1</td>\n",
       "      <td>0</td>\n",
       "      <td>...</td>\n",
       "      <td>adults_50up_male_urban.json</td>\n",
       "      <td>610-51-5348</td>\n",
       "      <td>IL</td>\n",
       "      <td>94311 Moore Station Apt. 655</td>\n",
       "      <td>2013-02-15</td>\n",
       "      <td>973e3642c75c14cd199a83108bd9fe09</td>\n",
       "      <td>03:17:50</td>\n",
       "      <td>1360898270</td>\n",
       "      <td>62260</td>\n",
       "      <td>0.0</td>\n",
       "    </tr>\n",
       "    <tr>\n",
       "      <th>3</th>\n",
       "      <td>4688044575</td>\n",
       "      <td>59.49</td>\n",
       "      <td>shopping_net</td>\n",
       "      <td>676347735869</td>\n",
       "      <td>Millstadt</td>\n",
       "      <td>7290</td>\n",
       "      <td>1960-11-19</td>\n",
       "      <td>Jeffrey</td>\n",
       "      <td>1</td>\n",
       "      <td>0</td>\n",
       "      <td>...</td>\n",
       "      <td>adults_50up_male_urban.json</td>\n",
       "      <td>610-51-5348</td>\n",
       "      <td>IL</td>\n",
       "      <td>94311 Moore Station Apt. 655</td>\n",
       "      <td>2012-09-15</td>\n",
       "      <td>7e62101c31d0a2d5edbbab48e30e660b</td>\n",
       "      <td>01:56:54</td>\n",
       "      <td>1347674214</td>\n",
       "      <td>62260</td>\n",
       "      <td>0.0</td>\n",
       "    </tr>\n",
       "    <tr>\n",
       "      <th>4</th>\n",
       "      <td>4688044575</td>\n",
       "      <td>56.73</td>\n",
       "      <td>grocery_pos</td>\n",
       "      <td>676347735869</td>\n",
       "      <td>Millstadt</td>\n",
       "      <td>7290</td>\n",
       "      <td>1960-11-19</td>\n",
       "      <td>Jeffrey</td>\n",
       "      <td>1</td>\n",
       "      <td>0</td>\n",
       "      <td>...</td>\n",
       "      <td>adults_50up_male_urban.json</td>\n",
       "      <td>610-51-5348</td>\n",
       "      <td>IL</td>\n",
       "      <td>94311 Moore Station Apt. 655</td>\n",
       "      <td>2012-06-19</td>\n",
       "      <td>e60e7f187a2e9971a80e4931f58eff63</td>\n",
       "      <td>07:56:41</td>\n",
       "      <td>1340092601</td>\n",
       "      <td>62260</td>\n",
       "      <td>0.0</td>\n",
       "    </tr>\n",
       "  </tbody>\n",
       "</table>\n",
       "<p>5 rows × 27 columns</p>\n",
       "</div>"
      ],
      "text/plain": [
       "     acct_num    amt       category        cc_num       city  city_pop  \\\n",
       "0  4688044575  37.59  gas_transport  676347735869  Millstadt      7290   \n",
       "1  4688044575  77.70   shopping_pos  676347735869  Millstadt      7290   \n",
       "2  4688044575  59.32  entertainment  676347735869  Millstadt      7290   \n",
       "3  4688044575  59.49   shopping_net  676347735869  Millstadt      7290   \n",
       "4  4688044575  56.73    grocery_pos  676347735869  Millstadt      7290   \n",
       "\n",
       "          dob    first  gender  is_fraud  ...                      profile  \\\n",
       "0  1960-11-19  Jeffrey       1         0  ...  adults_50up_male_urban.json   \n",
       "1  1960-11-19  Jeffrey       1         0  ...  adults_50up_male_urban.json   \n",
       "2  1960-11-19  Jeffrey       1         0  ...  adults_50up_male_urban.json   \n",
       "3  1960-11-19  Jeffrey       1         0  ...  adults_50up_male_urban.json   \n",
       "4  1960-11-19  Jeffrey       1         0  ...  adults_50up_male_urban.json   \n",
       "\n",
       "           ssn  state                        street  trans_date  \\\n",
       "0  610-51-5348     IL  94311 Moore Station Apt. 655  2012-03-30   \n",
       "1  610-51-5348     IL  94311 Moore Station Apt. 655  2012-12-13   \n",
       "2  610-51-5348     IL  94311 Moore Station Apt. 655  2013-02-15   \n",
       "3  610-51-5348     IL  94311 Moore Station Apt. 655  2012-09-15   \n",
       "4  610-51-5348     IL  94311 Moore Station Apt. 655  2012-06-19   \n",
       "\n",
       "                          trans_num trans_time   unix_time    zip prediction  \n",
       "0  504e5b7897a36d5ae3fda83565ffe2bc   01:02:17  1333069337  62260        0.0  \n",
       "1  5e4569a5dae1c7aa11d04c7a7195321f   05:47:10  1355377630  62260        0.0  \n",
       "2  973e3642c75c14cd199a83108bd9fe09   03:17:50  1360898270  62260        0.0  \n",
       "3  7e62101c31d0a2d5edbbab48e30e660b   01:56:54  1347674214  62260        0.0  \n",
       "4  e60e7f187a2e9971a80e4931f58eff63   07:56:41  1340092601  62260        0.0  \n",
       "\n",
       "[5 rows x 27 columns]"
      ]
     },
     "execution_count": 84,
     "metadata": {},
     "output_type": "execute_result"
    }
   ],
   "source": [
    "results = model.predict(data=input_data)\n",
    "pd.DataFrame(results['predictions']).head(10)"
   ]
  },
  {
   "cell_type": "markdown",
   "metadata": {},
   "source": [
    "To call the REST API with `requests`, use the following:"
   ]
  },
  {
   "cell_type": "code",
   "execution_count": 85,
   "metadata": {},
   "outputs": [],
   "source": [
    "# Use resource principal authentication for the REST call\n",
    "auth = oci.auth.signers.get_resource_principals_signer()\n",
    "\n",
    "# The REST endpoint to call is at `/predict`\n",
    "endpoint =  f'{deployment.url}/predict'\n",
    "\n",
    "# send the POST request and get the response\n",
    "response = requests.post(endpoint, data=input_data, auth=auth)\n"
   ]
  },
  {
   "cell_type": "markdown",
   "metadata": {},
   "source": [
    "You can look at the returned object in json, loading it into a pandas Dataframe for better readability."
   ]
  },
  {
   "cell_type": "code",
   "execution_count": 86,
   "metadata": {},
   "outputs": [
    {
     "data": {
      "text/html": [
       "<div>\n",
       "<style scoped>\n",
       "    .dataframe tbody tr th:only-of-type {\n",
       "        vertical-align: middle;\n",
       "    }\n",
       "\n",
       "    .dataframe tbody tr th {\n",
       "        vertical-align: top;\n",
       "    }\n",
       "\n",
       "    .dataframe thead th {\n",
       "        text-align: right;\n",
       "    }\n",
       "</style>\n",
       "<table border=\"1\" class=\"dataframe\">\n",
       "  <thead>\n",
       "    <tr style=\"text-align: right;\">\n",
       "      <th></th>\n",
       "      <th>acct_num</th>\n",
       "      <th>amt</th>\n",
       "      <th>category</th>\n",
       "      <th>cc_num</th>\n",
       "      <th>city</th>\n",
       "      <th>city_pop</th>\n",
       "      <th>dob</th>\n",
       "      <th>first</th>\n",
       "      <th>gender</th>\n",
       "      <th>is_fraud</th>\n",
       "      <th>...</th>\n",
       "      <th>profile</th>\n",
       "      <th>ssn</th>\n",
       "      <th>state</th>\n",
       "      <th>street</th>\n",
       "      <th>trans_date</th>\n",
       "      <th>trans_num</th>\n",
       "      <th>trans_time</th>\n",
       "      <th>unix_time</th>\n",
       "      <th>zip</th>\n",
       "      <th>prediction</th>\n",
       "    </tr>\n",
       "  </thead>\n",
       "  <tbody>\n",
       "    <tr>\n",
       "      <th>0</th>\n",
       "      <td>4688044575</td>\n",
       "      <td>37.59</td>\n",
       "      <td>gas_transport</td>\n",
       "      <td>676347735869</td>\n",
       "      <td>Millstadt</td>\n",
       "      <td>7290</td>\n",
       "      <td>1960-11-19</td>\n",
       "      <td>Jeffrey</td>\n",
       "      <td>1</td>\n",
       "      <td>0</td>\n",
       "      <td>...</td>\n",
       "      <td>adults_50up_male_urban.json</td>\n",
       "      <td>610-51-5348</td>\n",
       "      <td>IL</td>\n",
       "      <td>94311 Moore Station Apt. 655</td>\n",
       "      <td>2012-03-30</td>\n",
       "      <td>504e5b7897a36d5ae3fda83565ffe2bc</td>\n",
       "      <td>01:02:17</td>\n",
       "      <td>1333069337</td>\n",
       "      <td>62260</td>\n",
       "      <td>0.0</td>\n",
       "    </tr>\n",
       "    <tr>\n",
       "      <th>1</th>\n",
       "      <td>4688044575</td>\n",
       "      <td>77.70</td>\n",
       "      <td>shopping_pos</td>\n",
       "      <td>676347735869</td>\n",
       "      <td>Millstadt</td>\n",
       "      <td>7290</td>\n",
       "      <td>1960-11-19</td>\n",
       "      <td>Jeffrey</td>\n",
       "      <td>1</td>\n",
       "      <td>0</td>\n",
       "      <td>...</td>\n",
       "      <td>adults_50up_male_urban.json</td>\n",
       "      <td>610-51-5348</td>\n",
       "      <td>IL</td>\n",
       "      <td>94311 Moore Station Apt. 655</td>\n",
       "      <td>2012-12-13</td>\n",
       "      <td>5e4569a5dae1c7aa11d04c7a7195321f</td>\n",
       "      <td>05:47:10</td>\n",
       "      <td>1355377630</td>\n",
       "      <td>62260</td>\n",
       "      <td>0.0</td>\n",
       "    </tr>\n",
       "    <tr>\n",
       "      <th>2</th>\n",
       "      <td>4688044575</td>\n",
       "      <td>59.32</td>\n",
       "      <td>entertainment</td>\n",
       "      <td>676347735869</td>\n",
       "      <td>Millstadt</td>\n",
       "      <td>7290</td>\n",
       "      <td>1960-11-19</td>\n",
       "      <td>Jeffrey</td>\n",
       "      <td>1</td>\n",
       "      <td>0</td>\n",
       "      <td>...</td>\n",
       "      <td>adults_50up_male_urban.json</td>\n",
       "      <td>610-51-5348</td>\n",
       "      <td>IL</td>\n",
       "      <td>94311 Moore Station Apt. 655</td>\n",
       "      <td>2013-02-15</td>\n",
       "      <td>973e3642c75c14cd199a83108bd9fe09</td>\n",
       "      <td>03:17:50</td>\n",
       "      <td>1360898270</td>\n",
       "      <td>62260</td>\n",
       "      <td>0.0</td>\n",
       "    </tr>\n",
       "    <tr>\n",
       "      <th>3</th>\n",
       "      <td>4688044575</td>\n",
       "      <td>59.49</td>\n",
       "      <td>shopping_net</td>\n",
       "      <td>676347735869</td>\n",
       "      <td>Millstadt</td>\n",
       "      <td>7290</td>\n",
       "      <td>1960-11-19</td>\n",
       "      <td>Jeffrey</td>\n",
       "      <td>1</td>\n",
       "      <td>0</td>\n",
       "      <td>...</td>\n",
       "      <td>adults_50up_male_urban.json</td>\n",
       "      <td>610-51-5348</td>\n",
       "      <td>IL</td>\n",
       "      <td>94311 Moore Station Apt. 655</td>\n",
       "      <td>2012-09-15</td>\n",
       "      <td>7e62101c31d0a2d5edbbab48e30e660b</td>\n",
       "      <td>01:56:54</td>\n",
       "      <td>1347674214</td>\n",
       "      <td>62260</td>\n",
       "      <td>0.0</td>\n",
       "    </tr>\n",
       "    <tr>\n",
       "      <th>4</th>\n",
       "      <td>4688044575</td>\n",
       "      <td>56.73</td>\n",
       "      <td>grocery_pos</td>\n",
       "      <td>676347735869</td>\n",
       "      <td>Millstadt</td>\n",
       "      <td>7290</td>\n",
       "      <td>1960-11-19</td>\n",
       "      <td>Jeffrey</td>\n",
       "      <td>1</td>\n",
       "      <td>0</td>\n",
       "      <td>...</td>\n",
       "      <td>adults_50up_male_urban.json</td>\n",
       "      <td>610-51-5348</td>\n",
       "      <td>IL</td>\n",
       "      <td>94311 Moore Station Apt. 655</td>\n",
       "      <td>2012-06-19</td>\n",
       "      <td>e60e7f187a2e9971a80e4931f58eff63</td>\n",
       "      <td>07:56:41</td>\n",
       "      <td>1340092601</td>\n",
       "      <td>62260</td>\n",
       "      <td>0.0</td>\n",
       "    </tr>\n",
       "  </tbody>\n",
       "</table>\n",
       "<p>5 rows × 27 columns</p>\n",
       "</div>"
      ],
      "text/plain": [
       "     acct_num    amt       category        cc_num       city  city_pop  \\\n",
       "0  4688044575  37.59  gas_transport  676347735869  Millstadt      7290   \n",
       "1  4688044575  77.70   shopping_pos  676347735869  Millstadt      7290   \n",
       "2  4688044575  59.32  entertainment  676347735869  Millstadt      7290   \n",
       "3  4688044575  59.49   shopping_net  676347735869  Millstadt      7290   \n",
       "4  4688044575  56.73    grocery_pos  676347735869  Millstadt      7290   \n",
       "\n",
       "          dob    first  gender  is_fraud  ...                      profile  \\\n",
       "0  1960-11-19  Jeffrey       1         0  ...  adults_50up_male_urban.json   \n",
       "1  1960-11-19  Jeffrey       1         0  ...  adults_50up_male_urban.json   \n",
       "2  1960-11-19  Jeffrey       1         0  ...  adults_50up_male_urban.json   \n",
       "3  1960-11-19  Jeffrey       1         0  ...  adults_50up_male_urban.json   \n",
       "4  1960-11-19  Jeffrey       1         0  ...  adults_50up_male_urban.json   \n",
       "\n",
       "           ssn  state                        street  trans_date  \\\n",
       "0  610-51-5348     IL  94311 Moore Station Apt. 655  2012-03-30   \n",
       "1  610-51-5348     IL  94311 Moore Station Apt. 655  2012-12-13   \n",
       "2  610-51-5348     IL  94311 Moore Station Apt. 655  2013-02-15   \n",
       "3  610-51-5348     IL  94311 Moore Station Apt. 655  2012-09-15   \n",
       "4  610-51-5348     IL  94311 Moore Station Apt. 655  2012-06-19   \n",
       "\n",
       "                          trans_num trans_time   unix_time    zip prediction  \n",
       "0  504e5b7897a36d5ae3fda83565ffe2bc   01:02:17  1333069337  62260        0.0  \n",
       "1  5e4569a5dae1c7aa11d04c7a7195321f   05:47:10  1355377630  62260        0.0  \n",
       "2  973e3642c75c14cd199a83108bd9fe09   03:17:50  1360898270  62260        0.0  \n",
       "3  7e62101c31d0a2d5edbbab48e30e660b   01:56:54  1347674214  62260        0.0  \n",
       "4  e60e7f187a2e9971a80e4931f58eff63   07:56:41  1340092601  62260        0.0  \n",
       "\n",
       "[5 rows x 27 columns]"
      ]
     },
     "execution_count": 86,
     "metadata": {},
     "output_type": "execute_result"
    }
   ],
   "source": [
    "results = response.json()\n",
    "pd.DataFrame(results['predictions']).head(10)"
   ]
  },
  {
   "cell_type": "markdown",
   "metadata": {},
   "source": [
    "You are done: you explored the data, created a model, trained it on a large dataset, then created a batch inference application you can call on demand, and a real-time inference server you can call with the REST endpoint."
   ]
  },
  {
   "cell_type": "markdown",
   "metadata": {},
   "source": [
    "## 11. Clean up\n",
    "\n",
    "### 11.1 Undeploy and delete the model deployment"
   ]
  },
  {
   "cell_type": "code",
   "execution_count": 87,
   "metadata": {},
   "outputs": [],
   "source": [
    "# deployment.config=ads.common.auth.resource_principal()"
   ]
  },
  {
   "cell_type": "code",
   "execution_count": 88,
   "metadata": {},
   "outputs": [
    {
     "data": {
      "text/plain": [
       "<ads.model.deployment.model_deployment.ModelDeployment at 0x7f692e048fd0>"
      ]
     },
     "execution_count": 88,
     "metadata": {},
     "output_type": "execute_result"
    }
   ],
   "source": [
    "deployment.delete(wait_for_completion=True)"
   ]
  },
  {
   "cell_type": "markdown",
   "metadata": {},
   "source": [
    "### 11.2 Delete the model from Model Catalog"
   ]
  },
  {
   "cell_type": "code",
   "execution_count": 89,
   "metadata": {},
   "outputs": [
    {
     "data": {
      "text/plain": [
       "True"
      ]
     },
     "execution_count": 89,
     "metadata": {},
     "output_type": "execute_result"
    }
   ],
   "source": [
    "ModelCatalog(compartment_id=os.environ['NB_SESSION_COMPARTMENT_OCID']).delete_model(model_id)"
   ]
  },
  {
   "cell_type": "markdown",
   "metadata": {},
   "source": [
    "### 11.3 Delete the DataFlow applications\n"
   ]
  },
  {
   "cell_type": "markdown",
   "metadata": {},
   "source": [
    "Look up the app ids"
   ]
  },
  {
   "cell_type": "code",
   "execution_count": 90,
   "metadata": {},
   "outputs": [
    {
     "name": "stdout",
     "output_type": "stream",
     "text": [
      "WARNING:root:~/.oci/config file not exists, default value oci.config.DEFAULT_LOCATION used instead\n"
     ]
    },
    {
     "data": {
      "text/html": [
       "<div>\n",
       "<style scoped>\n",
       "    .dataframe tbody tr th:only-of-type {\n",
       "        vertical-align: middle;\n",
       "    }\n",
       "\n",
       "    .dataframe tbody tr th {\n",
       "        vertical-align: top;\n",
       "    }\n",
       "\n",
       "    .dataframe thead th {\n",
       "        text-align: right;\n",
       "    }\n",
       "</style>\n",
       "<table border=\"1\" class=\"dataframe\">\n",
       "  <thead>\n",
       "    <tr style=\"text-align: right;\">\n",
       "      <th></th>\n",
       "      <th>display_name</th>\n",
       "      <th>id</th>\n",
       "    </tr>\n",
       "  </thead>\n",
       "  <tbody>\n",
       "    <tr>\n",
       "      <th>0</th>\n",
       "      <td>Fraud Detection Batch Scoring</td>\n",
       "      <td>ocid1.dataflowapplication.oc1.phx.anyhqljsnif7xwiaywy2mtq7wzy4qnbxukq2scqvkfqnycutuadt6obm4hxa</td>\n",
       "    </tr>\n",
       "    <tr>\n",
       "      <th>1</th>\n",
       "      <td>Fraud Detection Model Training</td>\n",
       "      <td>ocid1.dataflowapplication.oc1.phx.anyhqljsnif7xwia6ubdk3vbvrd6mun7vfjjqohavec7jsqzjhxgpxfpnznq</td>\n",
       "    </tr>\n",
       "    <tr>\n",
       "      <th>2</th>\n",
       "      <td>Fraud Detection Batch Scoring</td>\n",
       "      <td>ocid1.dataflowapplication.oc1.phx.anyhqljsnif7xwiaqd4eksues45tdoncfcxbgubcplmnv46reqlxujltxmwa</td>\n",
       "    </tr>\n",
       "    <tr>\n",
       "      <th>3</th>\n",
       "      <td>Fraud Detection Model Training</td>\n",
       "      <td>ocid1.dataflowapplication.oc1.phx.anyhqljtnif7xwiawgunxarvzvhrg5pyyn46wamgocdaofikyrw7arqlyaga</td>\n",
       "    </tr>\n",
       "  </tbody>\n",
       "</table>\n",
       "</div>"
      ],
      "text/plain": [
       "                     display_name  \\\n",
       "0   Fraud Detection Batch Scoring   \n",
       "1  Fraud Detection Model Training   \n",
       "2   Fraud Detection Batch Scoring   \n",
       "3  Fraud Detection Model Training   \n",
       "\n",
       "                                                                                               id  \n",
       "0  ocid1.dataflowapplication.oc1.phx.anyhqljsnif7xwiaywy2mtq7wzy4qnbxukq2scqvkfqnycutuadt6obm4hxa  \n",
       "1  ocid1.dataflowapplication.oc1.phx.anyhqljsnif7xwia6ubdk3vbvrd6mun7vfjjqohavec7jsqzjhxgpxfpnznq  \n",
       "2  ocid1.dataflowapplication.oc1.phx.anyhqljsnif7xwiaqd4eksues45tdoncfcxbgubcplmnv46reqlxujltxmwa  \n",
       "3  ocid1.dataflowapplication.oc1.phx.anyhqljtnif7xwiawgunxarvzvhrg5pyyn46wamgocdaofikyrw7arqlyaga  "
      ]
     },
     "execution_count": 90,
     "metadata": {},
     "output_type": "execute_result"
    }
   ],
   "source": [
    "ads.set_auth(auth='resource_principal')\n",
    "data_flow = DataFlow(dataflow_base_folder=dataflow_basefolder)\n",
    "pd.DataFrame(json.loads(str(data_flow.list_apps())))[['display_name', 'id']]"
   ]
  },
  {
   "cell_type": "markdown",
   "metadata": {},
   "source": [
    "Replace the '<app_id>' in the following cell."
   ]
  },
  {
   "cell_type": "code",
   "execution_count": 93,
   "metadata": {},
   "outputs": [
    {
     "name": "stdout",
     "output_type": "stream",
     "text": [
      "WARNING:root:~/.oci/config file not exists, default value oci.config.DEFAULT_LOCATION used instead\n"
     ]
    },
    {
     "data": {
      "text/plain": [
       "<oci.response.Response at 0x7f692ddfcc40>"
      ]
     },
     "execution_count": 93,
     "metadata": {},
     "output_type": "execute_result"
    }
   ],
   "source": [
    "ads.set_auth(auth='resource_principal')\n",
    "data_flow_client = oci.data_flow.DataFlowClient(config={}, signer=ads.common.auth.resource_principal()['signer'])\n",
    "data_flow_client.delete_application(application_id='ocid1.dataflowapplication.oc1.phx.anyhqljtnif7xwiawgunxarvzvhrg5pyyn46wamgocdaofikyrw7arqlyaga')\n"
   ]
  },
  {
   "cell_type": "markdown",
   "metadata": {},
   "source": [
    "### 11.4 Delete local files\n",
    "\n",
    "Delete the local model deployment files, including the score.py and Spark model downloaded from Object Storage:"
   ]
  },
  {
   "cell_type": "code",
   "execution_count": 94,
   "metadata": {},
   "outputs": [],
   "source": [
    "!rm -rf ./fraud-detection-model-deployment"
   ]
  },
  {
   "cell_type": "markdown",
   "metadata": {},
   "source": [
    "Delete the local Data Flow application files, and output files:"
   ]
  },
  {
   "cell_type": "code",
   "execution_count": 95,
   "metadata": {},
   "outputs": [],
   "source": [
    "!rm -rf ./dataflow\n",
    "!rm -rf ./output"
   ]
  },
  {
   "cell_type": "markdown",
   "metadata": {},
   "source": [
    "### 11.5 Delete the datasets and dataset generator \n",
    "\n",
    "The next cell will delete the git repository cloned at the beginning, including all the data generated using the tool."
   ]
  },
  {
   "cell_type": "code",
   "execution_count": 96,
   "metadata": {},
   "outputs": [],
   "source": [
    "!rm -rf ./Sparkov_Data_Generation"
   ]
  },
  {
   "cell_type": "markdown",
   "metadata": {},
   "source": [
    "<a id=\"reference\"></a>\n",
    "# References\n",
    "\n",
    "- [ADS Library Documentation](https://docs.cloud.oracle.com/en-us/iaas/tools/ads-sdk/latest/index.html)\n",
    "- [Data Science YouTube Videos](https://www.youtube.com/playlist?list=PLKCk3OyNwIzv6CWMhvqSB_8MLJIZdO80L)\n",
    "- [OCI Data Science Documentation](https://docs.cloud.oracle.com/en-us/iaas/data-science/using/data-science.htm)\n",
    "- [Oracle Data & AI Blog](https://blogs.oracle.com/datascience/)\n",
    "- [Understanding Conda Environments](https://docs.cloud.oracle.com/en-us/iaas/data-science/using/use-notebook-sessions.htm#conda_understand_environments)\n",
    "- [Use Resource Manager to Configure Your Tenancy for Data Science](https://docs.cloud.oracle.com/en-us/iaas/data-science/using/orm-configure-tenancy.htm)"
   ]
  },
  {
   "cell_type": "code",
   "execution_count": null,
   "metadata": {},
   "outputs": [],
   "source": []
  }
 ],
 "metadata": {
  "kernelspec": {
   "display_name": "Python 3",
   "language": "python",
   "name": "python3"
  },
  "language_info": {
   "codemirror_mode": {
    "name": "ipython",
    "version": 3
   },
   "file_extension": ".py",
   "mimetype": "text/x-python",
   "name": "python",
   "nbconvert_exporter": "python",
   "pygments_lexer": "ipython3",
   "version": "3.8.1 (default, Apr 11 2022, 16:41:58) \n[Clang 12.0.0 (clang-1200.0.31.1)]"
  },
  "pycharm": {
   "stem_cell": {
    "cell_type": "raw",
    "metadata": {
     "collapsed": false
    },
    "source": []
   }
  },
  "vscode": {
   "interpreter": {
    "hash": "d2af76a8328cd5db770fd4a1362370f863c2a9510e27c11bf7934b7aa2dbd192"
   }
  }
 },
 "nbformat": 4,
 "nbformat_minor": 4
}
